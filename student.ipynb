{
 "cells": [
  {
   "cell_type": "markdown",
   "metadata": {},
   "source": [
    "\n"
   ]
  },
  {
   "cell_type": "code",
   "execution_count": null,
   "metadata": {},
   "outputs": [],
   "source": []
  },
  {
   "cell_type": "markdown",
   "metadata": {},
   "source": [
    "## Importing necessary libraries"
   ]
  },
  {
   "cell_type": "code",
   "execution_count": 1,
   "metadata": {},
   "outputs": [],
   "source": [
    "#data cleaning and stats\n",
    "import pandas as pd\n",
    "import numpy as np\n",
    "\n",
    "#plotting\n",
    "import seaborn as sns\n",
    "import matplotlib.pyplot as plt\n",
    "%matplotlib inline\n",
    "\n",
    "#normality check\n",
    "import scipy.stats as stats\n",
    "import statsmodels.stats.api as sms\n",
    "import statsmodels.formula.api as smf\n",
    "\n",
    "\n",
    "#linear regression (sklearn and statsmodels)\n",
    "from sklearn.linear_model import LinearRegression\n",
    "import statsmodels.api as sm\n",
    "from statsmodels.formula.api import ols\n",
    "\n",
    "#model evaluation\n",
    "from sklearn.metrics import mean_squared_error, r2_score, mean_absolute_error\n",
    "from sklearn.model_selection import train_test_split\n",
    "from math import sqrt\n",
    "from sklearn.model_selection import cross_val_score\n",
    "\n"
   ]
  },
  {
   "cell_type": "code",
   "execution_count": 2,
   "metadata": {},
   "outputs": [],
   "source": [
    "# open the data file\n",
    "\n",
    "data = pd.read_csv('./data/AirQualityUCI.csv', delimiter=';')\n"
   ]
  },
  {
   "cell_type": "markdown",
   "metadata": {},
   "source": [
    "## Data Understanding"
   ]
  },
  {
   "cell_type": "code",
   "execution_count": 3,
   "metadata": {},
   "outputs": [
    {
     "data": {
      "text/html": [
       "<div>\n",
       "<style scoped>\n",
       "    .dataframe tbody tr th:only-of-type {\n",
       "        vertical-align: middle;\n",
       "    }\n",
       "\n",
       "    .dataframe tbody tr th {\n",
       "        vertical-align: top;\n",
       "    }\n",
       "\n",
       "    .dataframe thead th {\n",
       "        text-align: right;\n",
       "    }\n",
       "</style>\n",
       "<table border=\"1\" class=\"dataframe\">\n",
       "  <thead>\n",
       "    <tr style=\"text-align: right;\">\n",
       "      <th></th>\n",
       "      <th>Date</th>\n",
       "      <th>Time</th>\n",
       "      <th>CO(GT)</th>\n",
       "      <th>PT08.S1(CO)</th>\n",
       "      <th>NMHC(GT)</th>\n",
       "      <th>C6H6(GT)</th>\n",
       "      <th>PT08.S2(NMHC)</th>\n",
       "      <th>NOx(GT)</th>\n",
       "      <th>PT08.S3(NOx)</th>\n",
       "      <th>NO2(GT)</th>\n",
       "      <th>PT08.S4(NO2)</th>\n",
       "      <th>PT08.S5(O3)</th>\n",
       "      <th>T</th>\n",
       "      <th>RH</th>\n",
       "      <th>AH</th>\n",
       "      <th>Unnamed: 15</th>\n",
       "      <th>Unnamed: 16</th>\n",
       "    </tr>\n",
       "  </thead>\n",
       "  <tbody>\n",
       "    <tr>\n",
       "      <th>0</th>\n",
       "      <td>10/03/2004</td>\n",
       "      <td>18.00.00</td>\n",
       "      <td>2,6</td>\n",
       "      <td>1360.0</td>\n",
       "      <td>150.0</td>\n",
       "      <td>11,9</td>\n",
       "      <td>1046.0</td>\n",
       "      <td>166.0</td>\n",
       "      <td>1056.0</td>\n",
       "      <td>113.0</td>\n",
       "      <td>1692.0</td>\n",
       "      <td>1268.0</td>\n",
       "      <td>13,6</td>\n",
       "      <td>48,9</td>\n",
       "      <td>0,7578</td>\n",
       "      <td>NaN</td>\n",
       "      <td>NaN</td>\n",
       "    </tr>\n",
       "    <tr>\n",
       "      <th>1</th>\n",
       "      <td>10/03/2004</td>\n",
       "      <td>19.00.00</td>\n",
       "      <td>2</td>\n",
       "      <td>1292.0</td>\n",
       "      <td>112.0</td>\n",
       "      <td>9,4</td>\n",
       "      <td>955.0</td>\n",
       "      <td>103.0</td>\n",
       "      <td>1174.0</td>\n",
       "      <td>92.0</td>\n",
       "      <td>1559.0</td>\n",
       "      <td>972.0</td>\n",
       "      <td>13,3</td>\n",
       "      <td>47,7</td>\n",
       "      <td>0,7255</td>\n",
       "      <td>NaN</td>\n",
       "      <td>NaN</td>\n",
       "    </tr>\n",
       "    <tr>\n",
       "      <th>2</th>\n",
       "      <td>10/03/2004</td>\n",
       "      <td>20.00.00</td>\n",
       "      <td>2,2</td>\n",
       "      <td>1402.0</td>\n",
       "      <td>88.0</td>\n",
       "      <td>9,0</td>\n",
       "      <td>939.0</td>\n",
       "      <td>131.0</td>\n",
       "      <td>1140.0</td>\n",
       "      <td>114.0</td>\n",
       "      <td>1555.0</td>\n",
       "      <td>1074.0</td>\n",
       "      <td>11,9</td>\n",
       "      <td>54,0</td>\n",
       "      <td>0,7502</td>\n",
       "      <td>NaN</td>\n",
       "      <td>NaN</td>\n",
       "    </tr>\n",
       "    <tr>\n",
       "      <th>3</th>\n",
       "      <td>10/03/2004</td>\n",
       "      <td>21.00.00</td>\n",
       "      <td>2,2</td>\n",
       "      <td>1376.0</td>\n",
       "      <td>80.0</td>\n",
       "      <td>9,2</td>\n",
       "      <td>948.0</td>\n",
       "      <td>172.0</td>\n",
       "      <td>1092.0</td>\n",
       "      <td>122.0</td>\n",
       "      <td>1584.0</td>\n",
       "      <td>1203.0</td>\n",
       "      <td>11,0</td>\n",
       "      <td>60,0</td>\n",
       "      <td>0,7867</td>\n",
       "      <td>NaN</td>\n",
       "      <td>NaN</td>\n",
       "    </tr>\n",
       "    <tr>\n",
       "      <th>4</th>\n",
       "      <td>10/03/2004</td>\n",
       "      <td>22.00.00</td>\n",
       "      <td>1,6</td>\n",
       "      <td>1272.0</td>\n",
       "      <td>51.0</td>\n",
       "      <td>6,5</td>\n",
       "      <td>836.0</td>\n",
       "      <td>131.0</td>\n",
       "      <td>1205.0</td>\n",
       "      <td>116.0</td>\n",
       "      <td>1490.0</td>\n",
       "      <td>1110.0</td>\n",
       "      <td>11,2</td>\n",
       "      <td>59,6</td>\n",
       "      <td>0,7888</td>\n",
       "      <td>NaN</td>\n",
       "      <td>NaN</td>\n",
       "    </tr>\n",
       "  </tbody>\n",
       "</table>\n",
       "</div>"
      ],
      "text/plain": [
       "         Date      Time CO(GT)  PT08.S1(CO)  NMHC(GT) C6H6(GT)  PT08.S2(NMHC)  \\\n",
       "0  10/03/2004  18.00.00    2,6       1360.0     150.0     11,9         1046.0   \n",
       "1  10/03/2004  19.00.00      2       1292.0     112.0      9,4          955.0   \n",
       "2  10/03/2004  20.00.00    2,2       1402.0      88.0      9,0          939.0   \n",
       "3  10/03/2004  21.00.00    2,2       1376.0      80.0      9,2          948.0   \n",
       "4  10/03/2004  22.00.00    1,6       1272.0      51.0      6,5          836.0   \n",
       "\n",
       "   NOx(GT)  PT08.S3(NOx)  NO2(GT)  PT08.S4(NO2)  PT08.S5(O3)     T    RH  \\\n",
       "0    166.0        1056.0    113.0        1692.0       1268.0  13,6  48,9   \n",
       "1    103.0        1174.0     92.0        1559.0        972.0  13,3  47,7   \n",
       "2    131.0        1140.0    114.0        1555.0       1074.0  11,9  54,0   \n",
       "3    172.0        1092.0    122.0        1584.0       1203.0  11,0  60,0   \n",
       "4    131.0        1205.0    116.0        1490.0       1110.0  11,2  59,6   \n",
       "\n",
       "       AH  Unnamed: 15  Unnamed: 16  \n",
       "0  0,7578          NaN          NaN  \n",
       "1  0,7255          NaN          NaN  \n",
       "2  0,7502          NaN          NaN  \n",
       "3  0,7867          NaN          NaN  \n",
       "4  0,7888          NaN          NaN  "
      ]
     },
     "execution_count": 3,
     "metadata": {},
     "output_type": "execute_result"
    }
   ],
   "source": [
    "data.head()"
   ]
  },
  {
   "cell_type": "markdown",
   "metadata": {},
   "source": [
    "We are going to renave the columsn to make it easier to manipulate the data"
   ]
  },
  {
   "cell_type": "code",
   "execution_count": 4,
   "metadata": {},
   "outputs": [],
   "source": [
    "data.columns=data.columns.str.replace('[(,),.]','')\n"
   ]
  },
  {
   "cell_type": "code",
   "execution_count": 5,
   "metadata": {},
   "outputs": [
    {
     "name": "stdout",
     "output_type": "stream",
     "text": [
      "<class 'pandas.core.frame.DataFrame'>\n",
      "RangeIndex: 9471 entries, 0 to 9470\n",
      "Data columns (total 17 columns):\n",
      " #   Column       Non-Null Count  Dtype  \n",
      "---  ------       --------------  -----  \n",
      " 0   Date         9357 non-null   object \n",
      " 1   Time         9357 non-null   object \n",
      " 2   COGT         9357 non-null   object \n",
      " 3   PT08S1CO     9357 non-null   float64\n",
      " 4   NMHCGT       9357 non-null   float64\n",
      " 5   C6H6GT       9357 non-null   object \n",
      " 6   PT08S2NMHC   9357 non-null   float64\n",
      " 7   NOxGT        9357 non-null   float64\n",
      " 8   PT08S3NOx    9357 non-null   float64\n",
      " 9   NO2GT        9357 non-null   float64\n",
      " 10  PT08S4NO2    9357 non-null   float64\n",
      " 11  PT08S5O3     9357 non-null   float64\n",
      " 12  T            9357 non-null   object \n",
      " 13  RH           9357 non-null   object \n",
      " 14  AH           9357 non-null   object \n",
      " 15  Unnamed: 15  0 non-null      float64\n",
      " 16  Unnamed: 16  0 non-null      float64\n",
      "dtypes: float64(10), object(7)\n",
      "memory usage: 1.2+ MB\n"
     ]
    }
   ],
   "source": [
    "data.info()"
   ]
  },
  {
   "cell_type": "markdown",
   "metadata": {},
   "source": [
    "Let's eliminate the columns that are not essential for our analysis.\n"
   ]
  },
  {
   "cell_type": "code",
   "execution_count": 6,
   "metadata": {},
   "outputs": [
    {
     "name": "stdout",
     "output_type": "stream",
     "text": [
      "<class 'pandas.core.frame.DataFrame'>\n",
      "RangeIndex: 9471 entries, 0 to 9470\n",
      "Data columns (total 14 columns):\n",
      " #   Column      Non-Null Count  Dtype  \n",
      "---  ------      --------------  -----  \n",
      " 0   Date        9357 non-null   object \n",
      " 1   COGT        9357 non-null   object \n",
      " 2   PT08S1CO    9357 non-null   float64\n",
      " 3   NMHCGT      9357 non-null   float64\n",
      " 4   C6H6GT      9357 non-null   object \n",
      " 5   PT08S2NMHC  9357 non-null   float64\n",
      " 6   NOxGT       9357 non-null   float64\n",
      " 7   PT08S3NOx   9357 non-null   float64\n",
      " 8   NO2GT       9357 non-null   float64\n",
      " 9   PT08S4NO2   9357 non-null   float64\n",
      " 10  PT08S5O3    9357 non-null   float64\n",
      " 11  T           9357 non-null   object \n",
      " 12  RH          9357 non-null   object \n",
      " 13  AH          9357 non-null   object \n",
      "dtypes: float64(8), object(6)\n",
      "memory usage: 1.0+ MB\n"
     ]
    }
   ],
   "source": [
    "data = data.drop(['Unnamed: 15'], axis=1)\n",
    "data = data.drop(['Unnamed: 16'], axis=1)\n",
    "data = data.drop(['Time'], axis=1)\n",
    "\n",
    "\n",
    "data.info()\n"
   ]
  },
  {
   "cell_type": "code",
   "execution_count": 7,
   "metadata": {},
   "outputs": [
    {
     "data": {
      "text/plain": [
       "Date          114\n",
       "COGT          114\n",
       "PT08S1CO      114\n",
       "NMHCGT        114\n",
       "C6H6GT        114\n",
       "PT08S2NMHC    114\n",
       "NOxGT         114\n",
       "PT08S3NOx     114\n",
       "NO2GT         114\n",
       "PT08S4NO2     114\n",
       "PT08S5O3      114\n",
       "T             114\n",
       "RH            114\n",
       "AH            114\n",
       "dtype: int64"
      ]
     },
     "execution_count": 7,
     "metadata": {},
     "output_type": "execute_result"
    }
   ],
   "source": [
    "#inspect for any columns with null values\n",
    "data.isna().sum()"
   ]
  },
  {
   "cell_type": "markdown",
   "metadata": {},
   "source": [
    "Let's deal with NaN data. From the data above, we know that there are 114 rows with NaN values. Since this correspond to a small percentage, we proceed to delete the rows that contain Nan values."
   ]
  },
  {
   "cell_type": "code",
   "execution_count": 9,
   "metadata": {},
   "outputs": [],
   "source": [
    "data = data.dropna()"
   ]
  },
  {
   "cell_type": "markdown",
   "metadata": {},
   "source": [
    "Let's further explore the data. Using the commands below, we observe that almost every column have -200 values, which are outlier and don't fit on the overall features of the group. For example, it doesn't make sense a Temperature that equals to -200."
   ]
  },
  {
   "cell_type": "code",
   "execution_count": 13,
   "metadata": {},
   "outputs": [
    {
     "data": {
      "text/plain": [
       "-200    1592\n",
       "1,4      279\n",
       "1,6      275\n",
       "1,5      273\n",
       "1,1      262\n",
       "        ... \n",
       "9,2        1\n",
       "11,5       1\n",
       "9,4        1\n",
       "8,5        1\n",
       "7          1\n",
       "Name: COGT, Length: 104, dtype: int64"
      ]
     },
     "execution_count": 13,
     "metadata": {},
     "output_type": "execute_result"
    }
   ],
   "source": [
    "data['COGT'].value_counts()"
   ]
  },
  {
   "cell_type": "code",
   "execution_count": 14,
   "metadata": {},
   "outputs": [
    {
     "data": {
      "text/plain": [
       "-200    366\n",
       "20,8     57\n",
       "21,3     54\n",
       "20,2     51\n",
       "13,8     51\n",
       "       ... \n",
       "-1,2      1\n",
       "-0,2      1\n",
       "42,5      1\n",
       "0,7       1\n",
       "1,7       1\n",
       "Name: T, Length: 437, dtype: int64"
      ]
     },
     "execution_count": 14,
     "metadata": {},
     "output_type": "execute_result"
    }
   ],
   "source": [
    "data['T'].value_counts()"
   ]
  },
  {
   "cell_type": "code",
   "execution_count": 15,
   "metadata": {},
   "outputs": [
    {
     "data": {
      "text/html": [
       "<div>\n",
       "<style scoped>\n",
       "    .dataframe tbody tr th:only-of-type {\n",
       "        vertical-align: middle;\n",
       "    }\n",
       "\n",
       "    .dataframe tbody tr th {\n",
       "        vertical-align: top;\n",
       "    }\n",
       "\n",
       "    .dataframe thead th {\n",
       "        text-align: right;\n",
       "    }\n",
       "</style>\n",
       "<table border=\"1\" class=\"dataframe\">\n",
       "  <thead>\n",
       "    <tr style=\"text-align: right;\">\n",
       "      <th></th>\n",
       "      <th>Date</th>\n",
       "      <th>COGT</th>\n",
       "      <th>PT08S1CO</th>\n",
       "      <th>NMHCGT</th>\n",
       "      <th>C6H6GT</th>\n",
       "      <th>PT08S2NMHC</th>\n",
       "      <th>NOxGT</th>\n",
       "      <th>PT08S3NOx</th>\n",
       "      <th>NO2GT</th>\n",
       "      <th>PT08S4NO2</th>\n",
       "      <th>PT08S5O3</th>\n",
       "      <th>T</th>\n",
       "      <th>RH</th>\n",
       "      <th>AH</th>\n",
       "    </tr>\n",
       "  </thead>\n",
       "  <tbody>\n",
       "    <tr>\n",
       "      <th>3501</th>\n",
       "      <td>03/08/2004</td>\n",
       "      <td>-200</td>\n",
       "      <td>1076.0</td>\n",
       "      <td>-200.0</td>\n",
       "      <td>9,3</td>\n",
       "      <td>951.0</td>\n",
       "      <td>112.0</td>\n",
       "      <td>730.0</td>\n",
       "      <td>109.0</td>\n",
       "      <td>1675.0</td>\n",
       "      <td>704.0</td>\n",
       "      <td>36,5</td>\n",
       "      <td>28,7</td>\n",
       "      <td>1,7256</td>\n",
       "    </tr>\n",
       "    <tr>\n",
       "      <th>3301</th>\n",
       "      <td>26/07/2004</td>\n",
       "      <td>-200</td>\n",
       "      <td>1150.0</td>\n",
       "      <td>-200.0</td>\n",
       "      <td>11,2</td>\n",
       "      <td>1020.0</td>\n",
       "      <td>180.0</td>\n",
       "      <td>686.0</td>\n",
       "      <td>116.0</td>\n",
       "      <td>1842.0</td>\n",
       "      <td>1169.0</td>\n",
       "      <td>26,5</td>\n",
       "      <td>46,3</td>\n",
       "      <td>1,5768</td>\n",
       "    </tr>\n",
       "    <tr>\n",
       "      <th>3302</th>\n",
       "      <td>26/07/2004</td>\n",
       "      <td>-200</td>\n",
       "      <td>1088.0</td>\n",
       "      <td>-200.0</td>\n",
       "      <td>9,7</td>\n",
       "      <td>965.0</td>\n",
       "      <td>168.0</td>\n",
       "      <td>734.0</td>\n",
       "      <td>109.0</td>\n",
       "      <td>1744.0</td>\n",
       "      <td>1049.0</td>\n",
       "      <td>27,9</td>\n",
       "      <td>42,7</td>\n",
       "      <td>1,5754</td>\n",
       "    </tr>\n",
       "    <tr>\n",
       "      <th>3303</th>\n",
       "      <td>26/07/2004</td>\n",
       "      <td>-200</td>\n",
       "      <td>993.0</td>\n",
       "      <td>-200.0</td>\n",
       "      <td>7,2</td>\n",
       "      <td>866.0</td>\n",
       "      <td>111.0</td>\n",
       "      <td>832.0</td>\n",
       "      <td>98.0</td>\n",
       "      <td>1637.0</td>\n",
       "      <td>823.0</td>\n",
       "      <td>28,8</td>\n",
       "      <td>38,9</td>\n",
       "      <td>1,5184</td>\n",
       "    </tr>\n",
       "    <tr>\n",
       "      <th>3304</th>\n",
       "      <td>26/07/2004</td>\n",
       "      <td>-200</td>\n",
       "      <td>962.0</td>\n",
       "      <td>-200.0</td>\n",
       "      <td>6,8</td>\n",
       "      <td>849.0</td>\n",
       "      <td>111.0</td>\n",
       "      <td>861.0</td>\n",
       "      <td>97.0</td>\n",
       "      <td>1559.0</td>\n",
       "      <td>804.0</td>\n",
       "      <td>31,7</td>\n",
       "      <td>31,5</td>\n",
       "      <td>1,4487</td>\n",
       "    </tr>\n",
       "  </tbody>\n",
       "</table>\n",
       "</div>"
      ],
      "text/plain": [
       "            Date  COGT  PT08S1CO  NMHCGT C6H6GT  PT08S2NMHC  NOxGT  PT08S3NOx  \\\n",
       "3501  03/08/2004  -200    1076.0  -200.0    9,3       951.0  112.0      730.0   \n",
       "3301  26/07/2004  -200    1150.0  -200.0   11,2      1020.0  180.0      686.0   \n",
       "3302  26/07/2004  -200    1088.0  -200.0    9,7       965.0  168.0      734.0   \n",
       "3303  26/07/2004  -200     993.0  -200.0    7,2       866.0  111.0      832.0   \n",
       "3304  26/07/2004  -200     962.0  -200.0    6,8       849.0  111.0      861.0   \n",
       "\n",
       "      NO2GT  PT08S4NO2  PT08S5O3     T    RH      AH  \n",
       "3501  109.0     1675.0     704.0  36,5  28,7  1,7256  \n",
       "3301  116.0     1842.0    1169.0  26,5  46,3  1,5768  \n",
       "3302  109.0     1744.0    1049.0  27,9  42,7  1,5754  \n",
       "3303   98.0     1637.0     823.0  28,8  38,9  1,5184  \n",
       "3304   97.0     1559.0     804.0  31,7  31,5  1,4487  "
      ]
     },
     "execution_count": 15,
     "metadata": {},
     "output_type": "execute_result"
    }
   ],
   "source": [
    "#data['CO(GT)'].tail()\n",
    "data.sort_values('COGT').head()\n"
   ]
  },
  {
   "cell_type": "markdown",
   "metadata": {},
   "source": [
    "This probably means that they don't have data for those points. To deal with these datapoints, we are going to replace them for the .median of the columns"
   ]
  },
  {
   "cell_type": "code",
   "execution_count": 16,
   "metadata": {},
   "outputs": [],
   "source": [
    "for i in data.columns:\n",
    "    if i == 'Date':\n",
    "        continue\n",
    "    else :\n",
    "        data[i] = data[i].astype(str)\n",
    "        data[i] = data[i].str.replace(\",\",\".\")\n",
    "        data[i] = data[i].astype(str).astype(float)\n",
    "        data[i] = data[i].replace(-200,data['COGT'].median())"
   ]
  },
  {
   "cell_type": "markdown",
   "metadata": {},
   "source": [
    "Let's confirm that it has worked: \n"
   ]
  },
  {
   "cell_type": "code",
   "execution_count": 19,
   "metadata": {},
   "outputs": [
    {
     "data": {
      "text/plain": [
       " 1.5     368\n",
       " 20.8     57\n",
       " 21.3     54\n",
       " 20.2     51\n",
       " 13.8     51\n",
       "        ... \n",
       " 0.5       1\n",
       " 39.4      1\n",
       " 40.7      1\n",
       " 42.5      1\n",
       "-1.4       1\n",
       "Name: T, Length: 436, dtype: int64"
      ]
     },
     "execution_count": 19,
     "metadata": {},
     "output_type": "execute_result"
    }
   ],
   "source": [
    "data['T'].value_counts()"
   ]
  },
  {
   "cell_type": "code",
   "execution_count": 20,
   "metadata": {},
   "outputs": [
    {
     "data": {
      "text/plain": [
       "1.5     1956\n",
       "1.0      305\n",
       "1.4      279\n",
       "1.6      275\n",
       "1.1      262\n",
       "        ... \n",
       "7.6        1\n",
       "9.3        1\n",
       "9.5        1\n",
       "10.1       1\n",
       "11.9       1\n",
       "Name: COGT, Length: 96, dtype: int64"
      ]
     },
     "execution_count": 20,
     "metadata": {},
     "output_type": "execute_result"
    }
   ],
   "source": [
    "data['COGT'].value_counts()"
   ]
  },
  {
   "cell_type": "code",
   "execution_count": 30,
   "metadata": {},
   "outputs": [
    {
     "data": {
      "text/plain": [
       "1.5      8443\n",
       "66.0       14\n",
       "40.0        9\n",
       "29.0        9\n",
       "88.0        8\n",
       "         ... \n",
       "252.0       1\n",
       "511.0       1\n",
       "102.0       1\n",
       "131.0       1\n",
       "541.0       1\n",
       "Name: NMHCGT, Length: 430, dtype: int64"
      ]
     },
     "execution_count": 30,
     "metadata": {},
     "output_type": "execute_result"
    }
   ],
   "source": [
    "data['NMHCGT'].value_counts()"
   ]
  },
  {
   "cell_type": "markdown",
   "metadata": {},
   "source": [
    "Let's further explore the data with some plots. Let's see how the CO2 and T change over time:"
   ]
  },
  {
   "cell_type": "code",
   "execution_count": 22,
   "metadata": {},
   "outputs": [
    {
     "data": {
      "image/png": "[encoded data removed]",
      "text/plain": [
       "<Figure size 432x288 with 1 Axes>"
      ]
     },
     "metadata": {
      "needs_background": "light"
     },
     "output_type": "display_data"
    }
   ],
   "source": [
    "\n",
    "data.plot(x=\"Date\", y=\"COGT\");"
   ]
  },
  {
   "cell_type": "code",
   "execution_count": 23,
   "metadata": {},
   "outputs": [
    {
     "data": {
      "image/png": "[encoded data removed]",
      "text/plain": [
       "<Figure size 432x288 with 1 Axes>"
      ]
     },
     "metadata": {
      "needs_background": "light"
     },
     "output_type": "display_data"
    }
   ],
   "source": [
    "data.plot(x=\"Date\", y=\"T\");"
   ]
  },
  {
   "cell_type": "code",
   "execution_count": 24,
   "metadata": {},
   "outputs": [
    {
     "data": {
      "text/plain": [
       "Date\n",
       "2004-01    21.750463\n",
       "2004-02    23.225926\n",
       "2004-03    17.661756\n",
       "2004-04    19.131790\n",
       "2004-05    21.646280\n",
       "2004-06    23.858179\n",
       "2004-07    27.158631\n",
       "2004-08    23.947470\n",
       "2004-09    21.507870\n",
       "2004-10    19.988938\n",
       "2004-11    14.775000\n",
       "2004-12    11.726437\n",
       "2005-01     6.834239\n",
       "2005-02     7.366250\n",
       "2005-03    15.118297\n",
       "2005-04     7.380460\n",
       "2005-05     8.229167\n",
       "2005-06     9.166667\n",
       "2005-07     7.565278\n",
       "2005-08     8.184722\n",
       "2005-09     8.427778\n",
       "2005-10     8.695833\n",
       "2005-11     8.583333\n",
       "2005-12    11.122222\n",
       "Freq: M, Name: T, dtype: float64"
      ]
     },
     "execution_count": 24,
     "metadata": {},
     "output_type": "execute_result"
    }
   ],
   "source": [
    "\n",
    "data.groupby(pd.PeriodIndex(data['Date'], freq=\"M\"))['T'].mean()\n"
   ]
  },
  {
   "cell_type": "code",
   "execution_count": 25,
   "metadata": {},
   "outputs": [
    {
     "data": {
      "text/plain": [
       "Date\n",
       "2004    20.240605\n",
       "2005     9.494393\n",
       "Freq: A-DEC, Name: T, dtype: float64"
      ]
     },
     "execution_count": 25,
     "metadata": {},
     "output_type": "execute_result"
    }
   ],
   "source": [
    "data.groupby(pd.PeriodIndex(data['Date'], freq=\"Y\"))['T'].mean()\n"
   ]
  },
  {
   "cell_type": "markdown",
   "metadata": {},
   "source": [
    "To furhter explore the data, let's see how the mean of each of the variables change after 1 year. Are they increaseing?"
   ]
  },
  {
   "cell_type": "code",
   "execution_count": 28,
   "metadata": {},
   "outputs": [],
   "source": [
    "a = data.groupby(pd.PeriodIndex(data['Date'], freq=\"Y\"))['COGT'].mean()\n",
    "b = data.groupby(pd.PeriodIndex(data['Date'], freq=\"Y\"))['PT08S1CO'].mean()\n",
    "c = data.groupby(pd.PeriodIndex(data['Date'], freq=\"Y\"))['NMHCGT'].mean()\n",
    "d = data.groupby(pd.PeriodIndex(data['Date'], freq=\"Y\"))['C6H6GT'].mean()\n",
    "e = data.groupby(pd.PeriodIndex(data['Date'], freq=\"Y\"))['PT08S2NMHC'].mean()\n",
    "f = data.groupby(pd.PeriodIndex(data['Date'], freq=\"Y\"))['NOxGT'].mean()\n",
    "g = data.groupby(pd.PeriodIndex(data['Date'], freq=\"Y\"))['PT08S3NOx'].mean()\n",
    "h = data.groupby(pd.PeriodIndex(data['Date'], freq=\"Y\"))['NO2GT'].mean()\n",
    "i = data.groupby(pd.PeriodIndex(data['Date'], freq=\"Y\"))['PT08S4NO2'].mean()\n",
    "j = data.groupby(pd.PeriodIndex(data['Date'], freq=\"Y\"))['PT08S5O3'].mean()\n",
    "k = data.groupby(pd.PeriodIndex(data['Date'], freq=\"Y\"))['T'].mean()\n",
    "l = data.groupby(pd.PeriodIndex(data['Date'], freq=\"Y\"))['RH'].mean()\n",
    "m = data.groupby(pd.PeriodIndex(data['Date'], freq=\"Y\"))['AH'].mean()\n"
   ]
  },
  {
   "cell_type": "code",
   "execution_count": 29,
   "metadata": {},
   "outputs": [
    {
     "data": {
      "text/html": [
       "<div>\n",
       "<style scoped>\n",
       "    .dataframe tbody tr th:only-of-type {\n",
       "        vertical-align: middle;\n",
       "    }\n",
       "\n",
       "    .dataframe tbody tr th {\n",
       "        vertical-align: top;\n",
       "    }\n",
       "\n",
       "    .dataframe thead th {\n",
       "        text-align: right;\n",
       "    }\n",
       "</style>\n",
       "<table border=\"1\" class=\"dataframe\">\n",
       "  <thead>\n",
       "    <tr style=\"text-align: right;\">\n",
       "      <th></th>\n",
       "      <th>variable</th>\n",
       "      <th>average_2014</th>\n",
       "      <th>average_2015</th>\n",
       "    </tr>\n",
       "  </thead>\n",
       "  <tbody>\n",
       "    <tr>\n",
       "      <th>1</th>\n",
       "      <td>COGT</td>\n",
       "      <td>2.036723</td>\n",
       "      <td>2.030975</td>\n",
       "    </tr>\n",
       "    <tr>\n",
       "      <th>2</th>\n",
       "      <td>PT08S1CO</td>\n",
       "      <td>1061.597046</td>\n",
       "      <td>1041.919893</td>\n",
       "    </tr>\n",
       "    <tr>\n",
       "      <th>3</th>\n",
       "      <td>NMHCGT</td>\n",
       "      <td>29.435724</td>\n",
       "      <td>1.500000</td>\n",
       "    </tr>\n",
       "    <tr>\n",
       "      <th>4</th>\n",
       "      <td>C6H6GT</td>\n",
       "      <td>10.338383</td>\n",
       "      <td>7.877303</td>\n",
       "    </tr>\n",
       "    <tr>\n",
       "      <th>5</th>\n",
       "      <td>PT08S2NMHC</td>\n",
       "      <td>930.068214</td>\n",
       "      <td>815.172230</td>\n",
       "    </tr>\n",
       "    <tr>\n",
       "      <th>6</th>\n",
       "      <td>NOxGT</td>\n",
       "      <td>170.898312</td>\n",
       "      <td>308.375834</td>\n",
       "    </tr>\n",
       "    <tr>\n",
       "      <th>7</th>\n",
       "      <td>PT08S3NOx</td>\n",
       "      <td>828.916174</td>\n",
       "      <td>720.461949</td>\n",
       "    </tr>\n",
       "    <tr>\n",
       "      <th>8</th>\n",
       "      <td>NO2GT</td>\n",
       "      <td>79.611744</td>\n",
       "      <td>137.482198</td>\n",
       "    </tr>\n",
       "    <tr>\n",
       "      <th>9</th>\n",
       "      <td>PT08S4NO2</td>\n",
       "      <td>1502.120956</td>\n",
       "      <td>1074.207388</td>\n",
       "    </tr>\n",
       "    <tr>\n",
       "      <th>10</th>\n",
       "      <td>PT08S5O3</td>\n",
       "      <td>980.447117</td>\n",
       "      <td>990.885180</td>\n",
       "    </tr>\n",
       "    <tr>\n",
       "      <th>11</th>\n",
       "      <td>T</td>\n",
       "      <td>20.240605</td>\n",
       "      <td>9.494393</td>\n",
       "    </tr>\n",
       "    <tr>\n",
       "      <th>12</th>\n",
       "      <td>RH</td>\n",
       "      <td>46.753657</td>\n",
       "      <td>49.308055</td>\n",
       "    </tr>\n",
       "    <tr>\n",
       "      <th>13</th>\n",
       "      <td>AH</td>\n",
       "      <td>1.151260</td>\n",
       "      <td>0.704977</td>\n",
       "    </tr>\n",
       "  </tbody>\n",
       "</table>\n",
       "</div>"
      ],
      "text/plain": [
       "      variable  average_2014  average_2015\n",
       "1         COGT      2.036723      2.030975\n",
       "2     PT08S1CO   1061.597046   1041.919893\n",
       "3       NMHCGT     29.435724      1.500000\n",
       "4       C6H6GT     10.338383      7.877303\n",
       "5   PT08S2NMHC    930.068214    815.172230\n",
       "6        NOxGT    170.898312    308.375834\n",
       "7    PT08S3NOx    828.916174    720.461949\n",
       "8        NO2GT     79.611744    137.482198\n",
       "9    PT08S4NO2   1502.120956   1074.207388\n",
       "10    PT08S5O3    980.447117    990.885180\n",
       "11           T     20.240605      9.494393\n",
       "12          RH     46.753657     49.308055\n",
       "13          AH      1.151260      0.704977"
      ]
     },
     "execution_count": 29,
     "metadata": {},
     "output_type": "execute_result"
    }
   ],
   "source": [
    "columns = ['variable','average_2014','average_2015']\n",
    "\n",
    "variables = pd.DataFrame(columns=columns)\n",
    "def add_values(num_role, variable, dataset):\n",
    "    variables.loc[num_role] = [variable, dataset[0], dataset[1]]\n",
    "\n",
    "add_values(1, 'COGT', a)\n",
    "add_values(2, 'PT08S1CO', b)\n",
    "add_values(3, 'NMHCGT', c)\n",
    "add_values(4, 'C6H6GT', d)\n",
    "add_values(5, 'PT08S2NMHC', e)\n",
    "add_values(6, 'NOxGT', f)\n",
    "add_values(7, 'PT08S3NOx', g)\n",
    "add_values(8, 'NO2GT', h)\n",
    "add_values(9, 'PT08S4NO2', i)\n",
    "add_values(10, 'PT08S5O3', j)\n",
    "add_values(11, 'T', k)\n",
    "add_values(12, 'RH', l)\n",
    "add_values(13, 'AH', m)\n",
    "\n",
    "variables"
   ]
  },
  {
   "cell_type": "code",
   "execution_count": null,
   "metadata": {},
   "outputs": [],
   "source": []
  },
  {
   "cell_type": "code",
   "execution_count": null,
   "metadata": {},
   "outputs": [],
   "source": []
  },
  {
   "cell_type": "code",
   "execution_count": 31,
   "metadata": {},
   "outputs": [
    {
     "data": {
      "image/png": "[encoded data removed]",
      "text/plain": [
       "<Figure size 1080x1080 with 16 Axes>"
      ]
     },
     "metadata": {
      "needs_background": "light"
     },
     "output_type": "display_data"
    }
   ],
   "source": [
    "data.hist(figsize=(15,15), edgecolor = 'black');\n"
   ]
  },
  {
   "cell_type": "code",
   "execution_count": null,
   "metadata": {},
   "outputs": [],
   "source": []
  },
  {
   "cell_type": "code",
   "execution_count": 32,
   "metadata": {},
   "outputs": [
    {
     "name": "stdout",
     "output_type": "stream",
     "text": [
      "T\n"
     ]
    }
   ],
   "source": [
    "for i in data.columns:\n",
    "    if i == 'Date':\n",
    "        continue\n",
    "    if data[i].min() <= 0:\n",
    "        print(i) \n",
    "        \n",
    "#data['T'].min() --> so we can't take "
   ]
  },
  {
   "cell_type": "code",
   "execution_count": 33,
   "metadata": {},
   "outputs": [
    {
     "name": "stdout",
     "output_type": "stream",
     "text": [
      "<class 'pandas.core.frame.DataFrame'>\n",
      "Int64Index: 9357 entries, 0 to 9356\n",
      "Data columns (total 11 columns):\n",
      " #   Column          Non-Null Count  Dtype  \n",
      "---  ------          --------------  -----  \n",
      " 0   COGT_log        9357 non-null   float64\n",
      " 1   PT08S1CO_log    9357 non-null   float64\n",
      " 2   C6H6GT_log      9357 non-null   float64\n",
      " 3   PT08S2NMHC_log  9357 non-null   float64\n",
      " 4   NOxGT_log       9357 non-null   float64\n",
      " 5   PT08S3NOx_log   9357 non-null   float64\n",
      " 6   NO2GT_log       9357 non-null   float64\n",
      " 7   PT08S4NO2_log   9357 non-null   float64\n",
      " 8   PT08S5O3_log    9357 non-null   float64\n",
      " 9   RH_log          9357 non-null   float64\n",
      " 10  AH_log          9357 non-null   float64\n",
      "dtypes: float64(11)\n",
      "memory usage: 877.2 KB\n"
     ]
    }
   ],
   "source": [
    "# log features\n",
    "continuous = ['COGT','PT08S1CO','C6H6GT','PT08S2NMHC','NOxGT','PT08S3NOx','NO2GT','PT08S4NO2','PT08S5O3', 'RH','AH']\n",
    "\n",
    "# Log transform and normalize\n",
    "data_cont = data[continuous]\n",
    "\n",
    "# log features\n",
    "log_names = [f'{column}_log' for column in data_cont.columns]\n",
    "data_log = np.log(data_cont)\n",
    "data_log.columns = log_names\n",
    "# normalize (subract mean and divide by std)\n",
    "def normalize(feature):\n",
    "    return (feature - feature.mean()) / feature.std()\n",
    "\n",
    "data_log_norm = data_log.apply(normalize)\n",
    "\n",
    "\n",
    "data_log_norm.info()"
   ]
  },
  {
   "cell_type": "code",
   "execution_count": 34,
   "metadata": {},
   "outputs": [
    {
     "data": {
      "image/png": "[encoded data removed]",
      "text/plain": [
       "<Figure size 1080x1080 with 12 Axes>"
      ]
     },
     "metadata": {
      "needs_background": "light"
     },
     "output_type": "display_data"
    }
   ],
   "source": [
    "data_log_norm.hist(figsize=(15,15), edgecolor = 'black');\n"
   ]
  },
  {
   "cell_type": "code",
   "execution_count": 35,
   "metadata": {},
   "outputs": [
    {
     "data": {
      "image/png": "[encoded data removed]",
      "text/plain": [
       "<Figure size 1080x1080 with 12 Axes>"
      ]
     },
     "metadata": {
      "needs_background": "light"
     },
     "output_type": "display_data"
    }
   ],
   "source": [
    "data_norm = data_cont.apply(normalize)\n",
    "data_norm.hist(figsize=(15,15), edgecolor = 'black');\n",
    "\n"
   ]
  },
  {
   "cell_type": "code",
   "execution_count": 36,
   "metadata": {},
   "outputs": [],
   "source": [
    "data2 = pd.concat([data['T'], data_norm], axis=1)"
   ]
  },
  {
   "cell_type": "markdown",
   "metadata": {},
   "source": [
    "## correlation visualization\n",
    "\n"
   ]
  },
  {
   "cell_type": "code",
   "execution_count": null,
   "metadata": {},
   "outputs": [],
   "source": []
  },
  {
   "cell_type": "code",
   "execution_count": 37,
   "metadata": {},
   "outputs": [
    {
     "data": {
      "image/png": "[encoded data removed]",
      "text/plain": [
       "<Figure size 1080x1440 with 2 Axes>"
      ]
     },
     "metadata": {
      "needs_background": "light"
     },
     "output_type": "display_data"
    }
   ],
   "source": [
    "#visualize correlation using heatmap\n",
    "corr = data.corr()\n",
    "mask = np.zeros_like(corr)\n",
    "mask[np.triu_indices_from(mask)] = True\n",
    "\n",
    "f, ax = plt.subplots(figsize=(15, 20))\n",
    "\n",
    "sns.heatmap(corr, mask=mask, cmap='coolwarm', vmax=1, center=0,\n",
    "            square=True, linewidths=.5,annot=True, cbar_kws={\"shrink\": .5});"
   ]
  },
  {
   "cell_type": "code",
   "execution_count": 38,
   "metadata": {},
   "outputs": [
    {
     "data": {
      "image/png": "[encoded data removed]",
      "text/plain": [
       "<Figure size 1080x1440 with 2 Axes>"
      ]
     },
     "metadata": {
      "needs_background": "light"
     },
     "output_type": "display_data"
    }
   ],
   "source": [
    "#visualize correlation using heatmap\n",
    "corr = data2.corr()\n",
    "mask = np.zeros_like(corr)\n",
    "mask[np.triu_indices_from(mask)] = True\n",
    "\n",
    "f, ax = plt.subplots(figsize=(15, 20))\n",
    "\n",
    "sns.heatmap(corr, mask=mask, cmap='coolwarm', vmax=1, center=0,\n",
    "            square=True, linewidths=.5,annot=True, cbar_kws={\"shrink\": .5});"
   ]
  },
  {
   "cell_type": "code",
   "execution_count": 39,
   "metadata": {},
   "outputs": [
    {
     "data": {
      "text/html": [
       "<table class=\"simpletable\">\n",
       "<caption>OLS Regression Results</caption>\n",
       "<tr>\n",
       "  <th>Dep. Variable:</th>            <td>T</td>        <th>  R-squared:         </th> <td>   0.927</td> \n",
       "</tr>\n",
       "<tr>\n",
       "  <th>Model:</th>                   <td>OLS</td>       <th>  Adj. R-squared:    </th> <td>   0.927</td> \n",
       "</tr>\n",
       "<tr>\n",
       "  <th>Method:</th>             <td>Least Squares</td>  <th>  F-statistic:       </th> <td>1.080e+04</td>\n",
       "</tr>\n",
       "<tr>\n",
       "  <th>Date:</th>             <td>Mon, 20 Jun 2022</td> <th>  Prob (F-statistic):</th>  <td>  0.00</td>  \n",
       "</tr>\n",
       "<tr>\n",
       "  <th>Time:</th>                 <td>16:39:17</td>     <th>  Log-Likelihood:    </th> <td> -21845.</td> \n",
       "</tr>\n",
       "<tr>\n",
       "  <th>No. Observations:</th>      <td>  9357</td>      <th>  AIC:               </th> <td>4.371e+04</td>\n",
       "</tr>\n",
       "<tr>\n",
       "  <th>Df Residuals:</th>          <td>  9345</td>      <th>  BIC:               </th> <td>4.380e+04</td>\n",
       "</tr>\n",
       "<tr>\n",
       "  <th>Df Model:</th>              <td>    11</td>      <th>                     </th>     <td> </td>    \n",
       "</tr>\n",
       "<tr>\n",
       "  <th>Covariance Type:</th>      <td>nonrobust</td>    <th>                     </th>     <td> </td>    \n",
       "</tr>\n",
       "</table>\n",
       "<table class=\"simpletable\">\n",
       "<tr>\n",
       "       <td></td>         <th>coef</th>     <th>std err</th>      <th>t</th>      <th>P>|t|</th>  <th>[0.025</th>    <th>0.975]</th>  \n",
       "</tr>\n",
       "<tr>\n",
       "  <th>const</th>      <td>   17.6600</td> <td>    0.026</td> <td>  683.327</td> <td> 0.000</td> <td>   17.609</td> <td>   17.711</td>\n",
       "</tr>\n",
       "<tr>\n",
       "  <th>COGT</th>       <td>   -0.7155</td> <td>    0.059</td> <td>  -12.142</td> <td> 0.000</td> <td>   -0.831</td> <td>   -0.600</td>\n",
       "</tr>\n",
       "<tr>\n",
       "  <th>PT08S1CO</th>   <td>    1.3470</td> <td>    0.100</td> <td>   13.426</td> <td> 0.000</td> <td>    1.150</td> <td>    1.544</td>\n",
       "</tr>\n",
       "<tr>\n",
       "  <th>C6H6GT</th>     <td>   -8.0805</td> <td>    0.109</td> <td>  -73.954</td> <td> 0.000</td> <td>   -8.295</td> <td>   -7.866</td>\n",
       "</tr>\n",
       "<tr>\n",
       "  <th>PT08S2NMHC</th> <td>   10.9595</td> <td>    0.166</td> <td>   66.117</td> <td> 0.000</td> <td>   10.635</td> <td>   11.284</td>\n",
       "</tr>\n",
       "<tr>\n",
       "  <th>NOxGT</th>      <td>    0.8458</td> <td>    0.069</td> <td>   12.331</td> <td> 0.000</td> <td>    0.711</td> <td>    0.980</td>\n",
       "</tr>\n",
       "<tr>\n",
       "  <th>PT08S3NOx</th>  <td>    2.0100</td> <td>    0.055</td> <td>   36.599</td> <td> 0.000</td> <td>    1.902</td> <td>    2.118</td>\n",
       "</tr>\n",
       "<tr>\n",
       "  <th>NO2GT</th>      <td>   -0.4064</td> <td>    0.051</td> <td>   -7.941</td> <td> 0.000</td> <td>   -0.507</td> <td>   -0.306</td>\n",
       "</tr>\n",
       "<tr>\n",
       "  <th>PT08S4NO2</th>  <td>    2.2421</td> <td>    0.120</td> <td>   18.682</td> <td> 0.000</td> <td>    2.007</td> <td>    2.477</td>\n",
       "</tr>\n",
       "<tr>\n",
       "  <th>PT08S5O3</th>   <td>   -1.4308</td> <td>    0.083</td> <td>  -17.230</td> <td> 0.000</td> <td>   -1.594</td> <td>   -1.268</td>\n",
       "</tr>\n",
       "<tr>\n",
       "  <th>RH</th>         <td>   -6.1810</td> <td>    0.038</td> <td> -162.788</td> <td> 0.000</td> <td>   -6.255</td> <td>   -6.107</td>\n",
       "</tr>\n",
       "<tr>\n",
       "  <th>AH</th>         <td>    5.6325</td> <td>    0.057</td> <td>   98.749</td> <td> 0.000</td> <td>    5.521</td> <td>    5.744</td>\n",
       "</tr>\n",
       "</table>\n",
       "<table class=\"simpletable\">\n",
       "<tr>\n",
       "  <th>Omnibus:</th>       <td>1172.230</td> <th>  Durbin-Watson:     </th> <td>   0.183</td>\n",
       "</tr>\n",
       "<tr>\n",
       "  <th>Prob(Omnibus):</th>  <td> 0.000</td>  <th>  Jarque-Bera (JB):  </th> <td>2420.696</td>\n",
       "</tr>\n",
       "<tr>\n",
       "  <th>Skew:</th>           <td> 0.779</td>  <th>  Prob(JB):          </th> <td>    0.00</td>\n",
       "</tr>\n",
       "<tr>\n",
       "  <th>Kurtosis:</th>       <td> 4.945</td>  <th>  Cond. No.          </th> <td>    18.4</td>\n",
       "</tr>\n",
       "</table><br/><br/>Notes:<br/>[1] Standard Errors assume that the covariance matrix of the errors is correctly specified."
      ],
      "text/plain": [
       "<class 'statsmodels.iolib.summary.Summary'>\n",
       "\"\"\"\n",
       "                            OLS Regression Results                            \n",
       "==============================================================================\n",
       "Dep. Variable:                      T   R-squared:                       0.927\n",
       "Model:                            OLS   Adj. R-squared:                  0.927\n",
       "Method:                 Least Squares   F-statistic:                 1.080e+04\n",
       "Date:                Mon, 20 Jun 2022   Prob (F-statistic):               0.00\n",
       "Time:                        16:39:17   Log-Likelihood:                -21845.\n",
       "No. Observations:                9357   AIC:                         4.371e+04\n",
       "Df Residuals:                    9345   BIC:                         4.380e+04\n",
       "Df Model:                          11                                         \n",
       "Covariance Type:            nonrobust                                         \n",
       "==============================================================================\n",
       "                 coef    std err          t      P>|t|      [0.025      0.975]\n",
       "------------------------------------------------------------------------------\n",
       "const         17.6600      0.026    683.327      0.000      17.609      17.711\n",
       "COGT          -0.7155      0.059    -12.142      0.000      -0.831      -0.600\n",
       "PT08S1CO       1.3470      0.100     13.426      0.000       1.150       1.544\n",
       "C6H6GT        -8.0805      0.109    -73.954      0.000      -8.295      -7.866\n",
       "PT08S2NMHC    10.9595      0.166     66.117      0.000      10.635      11.284\n",
       "NOxGT          0.8458      0.069     12.331      0.000       0.711       0.980\n",
       "PT08S3NOx      2.0100      0.055     36.599      0.000       1.902       2.118\n",
       "NO2GT         -0.4064      0.051     -7.941      0.000      -0.507      -0.306\n",
       "PT08S4NO2      2.2421      0.120     18.682      0.000       2.007       2.477\n",
       "PT08S5O3      -1.4308      0.083    -17.230      0.000      -1.594      -1.268\n",
       "RH            -6.1810      0.038   -162.788      0.000      -6.255      -6.107\n",
       "AH             5.6325      0.057     98.749      0.000       5.521       5.744\n",
       "==============================================================================\n",
       "Omnibus:                     1172.230   Durbin-Watson:                   0.183\n",
       "Prob(Omnibus):                  0.000   Jarque-Bera (JB):             2420.696\n",
       "Skew:                           0.779   Prob(JB):                         0.00\n",
       "Kurtosis:                       4.945   Cond. No.                         18.4\n",
       "==============================================================================\n",
       "\n",
       "Notes:\n",
       "[1] Standard Errors assume that the covariance matrix of the errors is correctly specified.\n",
       "\"\"\""
      ]
     },
     "execution_count": 39,
     "metadata": {},
     "output_type": "execute_result"
    }
   ],
   "source": [
    "#data = data.drop('Date', axis=1)\n",
    "\n",
    "X = data2.drop('T', axis=1)\n",
    "y = data2['T']\n",
    "\n",
    "import statsmodels.api as sm\n",
    "X_int = sm.add_constant(X)\n",
    "model = sm.OLS(y,X_int).fit()\n",
    "model.summary()"
   ]
  },
  {
   "cell_type": "code",
   "execution_count": 40,
   "metadata": {},
   "outputs": [
    {
     "data": {
      "text/html": [
       "<table class=\"simpletable\">\n",
       "<caption>OLS Regression Results</caption>\n",
       "<tr>\n",
       "  <th>Dep. Variable:</th>            <td>T</td>        <th>  R-squared:         </th> <td>   0.929</td> \n",
       "</tr>\n",
       "<tr>\n",
       "  <th>Model:</th>                   <td>OLS</td>       <th>  Adj. R-squared:    </th> <td>   0.929</td> \n",
       "</tr>\n",
       "<tr>\n",
       "  <th>Method:</th>             <td>Least Squares</td>  <th>  F-statistic:       </th> <td>1.021e+04</td>\n",
       "</tr>\n",
       "<tr>\n",
       "  <th>Date:</th>             <td>Mon, 20 Jun 2022</td> <th>  Prob (F-statistic):</th>  <td>  0.00</td>  \n",
       "</tr>\n",
       "<tr>\n",
       "  <th>Time:</th>                 <td>16:39:20</td>     <th>  Log-Likelihood:    </th> <td> -21711.</td> \n",
       "</tr>\n",
       "<tr>\n",
       "  <th>No. Observations:</th>      <td>  9357</td>      <th>  AIC:               </th> <td>4.345e+04</td>\n",
       "</tr>\n",
       "<tr>\n",
       "  <th>Df Residuals:</th>          <td>  9344</td>      <th>  BIC:               </th> <td>4.354e+04</td>\n",
       "</tr>\n",
       "<tr>\n",
       "  <th>Df Model:</th>              <td>    12</td>      <th>                     </th>     <td> </td>    \n",
       "</tr>\n",
       "<tr>\n",
       "  <th>Covariance Type:</th>      <td>nonrobust</td>    <th>                     </th>     <td> </td>    \n",
       "</tr>\n",
       "</table>\n",
       "<table class=\"simpletable\">\n",
       "<tr>\n",
       "       <td></td>         <th>coef</th>     <th>std err</th>      <th>t</th>      <th>P>|t|</th>  <th>[0.025</th>    <th>0.975]</th>  \n",
       "</tr>\n",
       "<tr>\n",
       "  <th>const</th>      <td>  -14.8898</td> <td>    0.268</td> <td>  -55.631</td> <td> 0.000</td> <td>  -15.414</td> <td>  -14.365</td>\n",
       "</tr>\n",
       "<tr>\n",
       "  <th>COGT</th>       <td>   -0.3388</td> <td>    0.045</td> <td>   -7.536</td> <td> 0.000</td> <td>   -0.427</td> <td>   -0.251</td>\n",
       "</tr>\n",
       "<tr>\n",
       "  <th>PT08S1CO</th>   <td>    0.0055</td> <td>    0.000</td> <td>   16.476</td> <td> 0.000</td> <td>    0.005</td> <td>    0.006</td>\n",
       "</tr>\n",
       "<tr>\n",
       "  <th>NMHCGT</th>     <td>   -0.0055</td> <td>    0.000</td> <td>  -16.458</td> <td> 0.000</td> <td>   -0.006</td> <td>   -0.005</td>\n",
       "</tr>\n",
       "<tr>\n",
       "  <th>C6H6GT</th>     <td>   -1.0416</td> <td>    0.015</td> <td>  -71.544</td> <td> 0.000</td> <td>   -1.070</td> <td>   -1.013</td>\n",
       "</tr>\n",
       "<tr>\n",
       "  <th>PT08S2NMHC</th> <td>    0.0318</td> <td>    0.001</td> <td>   59.387</td> <td> 0.000</td> <td>    0.031</td> <td>    0.033</td>\n",
       "</tr>\n",
       "<tr>\n",
       "  <th>NOxGT</th>      <td>    0.0026</td> <td>    0.000</td> <td>    7.960</td> <td> 0.000</td> <td>    0.002</td> <td>    0.003</td>\n",
       "</tr>\n",
       "<tr>\n",
       "  <th>PT08S3NOx</th>  <td>    0.0064</td> <td>    0.000</td> <td>   35.276</td> <td> 0.000</td> <td>    0.006</td> <td>    0.007</td>\n",
       "</tr>\n",
       "<tr>\n",
       "  <th>NO2GT</th>      <td>   -0.0049</td> <td>    0.001</td> <td>   -5.895</td> <td> 0.000</td> <td>   -0.007</td> <td>   -0.003</td>\n",
       "</tr>\n",
       "<tr>\n",
       "  <th>PT08S4NO2</th>  <td>    0.0059</td> <td>    0.000</td> <td>   21.670</td> <td> 0.000</td> <td>    0.005</td> <td>    0.006</td>\n",
       "</tr>\n",
       "<tr>\n",
       "  <th>PT08S5O3</th>   <td>   -0.0034</td> <td>    0.000</td> <td>  -18.063</td> <td> 0.000</td> <td>   -0.004</td> <td>   -0.003</td>\n",
       "</tr>\n",
       "<tr>\n",
       "  <th>RH</th>         <td>   -0.3201</td> <td>    0.002</td> <td> -165.311</td> <td> 0.000</td> <td>   -0.324</td> <td>   -0.316</td>\n",
       "</tr>\n",
       "<tr>\n",
       "  <th>AH</th>         <td>   13.3538</td> <td>    0.142</td> <td>   94.208</td> <td> 0.000</td> <td>   13.076</td> <td>   13.632</td>\n",
       "</tr>\n",
       "</table>\n",
       "<table class=\"simpletable\">\n",
       "<tr>\n",
       "  <th>Omnibus:</th>       <td>1162.446</td> <th>  Durbin-Watson:     </th> <td>   0.186</td>\n",
       "</tr>\n",
       "<tr>\n",
       "  <th>Prob(Omnibus):</th>  <td> 0.000</td>  <th>  Jarque-Bera (JB):  </th> <td>2434.498</td>\n",
       "</tr>\n",
       "<tr>\n",
       "  <th>Skew:</th>           <td> 0.769</td>  <th>  Prob(JB):          </th> <td>    0.00</td>\n",
       "</tr>\n",
       "<tr>\n",
       "  <th>Kurtosis:</th>       <td> 4.970</td>  <th>  Cond. No.          </th> <td>2.83e+04</td>\n",
       "</tr>\n",
       "</table><br/><br/>Notes:<br/>[1] Standard Errors assume that the covariance matrix of the errors is correctly specified.<br/>[2] The condition number is large, 2.83e+04. This might indicate that there are<br/>strong multicollinearity or other numerical problems."
      ],
      "text/plain": [
       "<class 'statsmodels.iolib.summary.Summary'>\n",
       "\"\"\"\n",
       "                            OLS Regression Results                            \n",
       "==============================================================================\n",
       "Dep. Variable:                      T   R-squared:                       0.929\n",
       "Model:                            OLS   Adj. R-squared:                  0.929\n",
       "Method:                 Least Squares   F-statistic:                 1.021e+04\n",
       "Date:                Mon, 20 Jun 2022   Prob (F-statistic):               0.00\n",
       "Time:                        16:39:20   Log-Likelihood:                -21711.\n",
       "No. Observations:                9357   AIC:                         4.345e+04\n",
       "Df Residuals:                    9344   BIC:                         4.354e+04\n",
       "Df Model:                          12                                         \n",
       "Covariance Type:            nonrobust                                         \n",
       "==============================================================================\n",
       "                 coef    std err          t      P>|t|      [0.025      0.975]\n",
       "------------------------------------------------------------------------------\n",
       "const        -14.8898      0.268    -55.631      0.000     -15.414     -14.365\n",
       "COGT          -0.3388      0.045     -7.536      0.000      -0.427      -0.251\n",
       "PT08S1CO       0.0055      0.000     16.476      0.000       0.005       0.006\n",
       "NMHCGT        -0.0055      0.000    -16.458      0.000      -0.006      -0.005\n",
       "C6H6GT        -1.0416      0.015    -71.544      0.000      -1.070      -1.013\n",
       "PT08S2NMHC     0.0318      0.001     59.387      0.000       0.031       0.033\n",
       "NOxGT          0.0026      0.000      7.960      0.000       0.002       0.003\n",
       "PT08S3NOx      0.0064      0.000     35.276      0.000       0.006       0.007\n",
       "NO2GT         -0.0049      0.001     -5.895      0.000      -0.007      -0.003\n",
       "PT08S4NO2      0.0059      0.000     21.670      0.000       0.005       0.006\n",
       "PT08S5O3      -0.0034      0.000    -18.063      0.000      -0.004      -0.003\n",
       "RH            -0.3201      0.002   -165.311      0.000      -0.324      -0.316\n",
       "AH            13.3538      0.142     94.208      0.000      13.076      13.632\n",
       "==============================================================================\n",
       "Omnibus:                     1162.446   Durbin-Watson:                   0.186\n",
       "Prob(Omnibus):                  0.000   Jarque-Bera (JB):             2434.498\n",
       "Skew:                           0.769   Prob(JB):                         0.00\n",
       "Kurtosis:                       4.970   Cond. No.                     2.83e+04\n",
       "==============================================================================\n",
       "\n",
       "Notes:\n",
       "[1] Standard Errors assume that the covariance matrix of the errors is correctly specified.\n",
       "[2] The condition number is large, 2.83e+04. This might indicate that there are\n",
       "strong multicollinearity or other numerical problems.\n",
       "\"\"\""
      ]
     },
     "execution_count": 40,
     "metadata": {},
     "output_type": "execute_result"
    }
   ],
   "source": [
    "data = data.drop('Date', axis=1)\n",
    "\n",
    "X = data.drop('T', axis=1)\n",
    "y = data['T']\n",
    "\n",
    "import statsmodels.api as sm\n",
    "X_int = sm.add_constant(X)\n",
    "model = sm.OLS(y,X_int).fit()\n",
    "model.summary()\n",
    "\n",
    "\n"
   ]
  },
  {
   "cell_type": "code",
   "execution_count": 41,
   "metadata": {},
   "outputs": [
    {
     "data": {
      "image/png": "[encoded data removed]",
      "text/plain": [
       "<Figure size 432x288 with 1 Axes>"
      ]
     },
     "metadata": {
      "needs_background": "light"
     },
     "output_type": "display_data"
    },
    {
     "data": {
      "image/png": "[encoded data removed]",
      "text/plain": [
       "<Figure size 432x288 with 1 Axes>"
      ]
     },
     "metadata": {
      "needs_background": "light"
     },
     "output_type": "display_data"
    },
    {
     "data": {
      "image/png": "[encoded data removed]",
      "text/plain": [
       "<Figure size 432x288 with 1 Axes>"
      ]
     },
     "metadata": {
      "needs_background": "light"
     },
     "output_type": "display_data"
    },
    {
     "data": {
      "image/png": "[encoded data removed]",
      "text/plain": [
       "<Figure size 432x288 with 1 Axes>"
      ]
     },
     "metadata": {
      "needs_background": "light"
     },
     "output_type": "display_data"
    },
    {
     "data": {
      "image/png": "[encoded data removed]",
      "text/plain": [
       "<Figure size 432x288 with 1 Axes>"
      ]
     },
     "metadata": {
      "needs_background": "light"
     },
     "output_type": "display_data"
    },
    {
     "data": {
      "image/png": "[encoded data removed]",
      "text/plain": [
       "<Figure size 432x288 with 1 Axes>"
      ]
     },
     "metadata": {
      "needs_background": "light"
     },
     "output_type": "display_data"
    },
    {
     "data": {
      "image/png": "[encoded data removed]",
      "text/plain": [
       "<Figure size 432x288 with 1 Axes>"
      ]
     },
     "metadata": {
      "needs_background": "light"
     },
     "output_type": "display_data"
    },
    {
     "data": {
      "image/png": "[encoded data removed]",
      "text/plain": [
       "<Figure size 432x288 with 1 Axes>"
      ]
     },
     "metadata": {
      "needs_background": "light"
     },
     "output_type": "display_data"
    },
    {
     "data": {
      "image/png": "[encoded data removed]",
      "text/plain": [
       "<Figure size 432x288 with 1 Axes>"
      ]
     },
     "metadata": {
      "needs_background": "light"
     },
     "output_type": "display_data"
    },
    {
     "data": {
      "image/png": "[encoded data removed]",
      "text/plain": [
       "<Figure size 432x288 with 1 Axes>"
      ]
     },
     "metadata": {
      "needs_background": "light"
     },
     "output_type": "display_data"
    },
    {
     "data": {
      "image/png": "[encoded data removed]",
      "text/plain": [
       "<Figure size 432x288 with 1 Axes>"
      ]
     },
     "metadata": {
      "needs_background": "light"
     },
     "output_type": "display_data"
    }
   ],
   "source": [
    "f_names = ['T~COGT', 'T~PT08S1CO', 'T~C6H6GT', 'T~PT08S2NMHC', 'T~NOxGT','T~PT08S3NOx','T~NO2GT','T~PT08S4NO2','T~PT08S5O3','T~RH','T~AH']\n",
    "\n",
    "import warnings\n",
    "warnings.filterwarnings('ignore')\n",
    "\n",
    "for i in f_names:\n",
    "    model = smf.ols(formula=i, data=data2).fit()\n",
    "    resid = model.resid\n",
    "    fig = sm.graphics.qqplot(resid, dist=stats.norm, line='45', fit=True)\n",
    "    plt.title(i)\n",
    "    fig.show();"
   ]
  },
  {
   "cell_type": "code",
   "execution_count": null,
   "metadata": {},
   "outputs": [],
   "source": [
    "f_names = ['T~COGT', 'T~PT08S1CO', 'T~C6H6GT', 'T~PT08S2NMHC', 'T~NOxGT','T~PT08S3NOx','T~NO2GT','T~PT08S4NO2','T~PT08S5O3','T~RH','T~AH']\n",
    "\n",
    "import warnings\n",
    "warnings.filterwarnings('ignore')\n",
    "\n",
    "for i in f_names:\n",
    "    model = smf.ols(formula=i, data=data).fit()\n",
    "    resid = model.resid\n",
    "    fig = sm.graphics.qqplot(resid, dist=stats.norm, line='45', fit=True)\n",
    "    plt.title(i)\n",
    "    fig.show();"
   ]
  },
  {
   "cell_type": "code",
   "execution_count": null,
   "metadata": {},
   "outputs": [],
   "source": []
  },
  {
   "cell_type": "code",
   "execution_count": null,
   "metadata": {},
   "outputs": [],
   "source": [
    "data2.corr()\n",
    "abs(data2.corr()) > 0.75\n",
    "\n",
    "# save absolute value of correlation matrix as a data frame\n",
    "# converts all values to absolute value\n",
    "# stacks the row:column pairs into a multindex\n",
    "# reset the index to set the multindex to seperate columns\n",
    "# sort values. 0 is the column automatically generated by the stacking\n",
    "df=data2.corr().abs().stack().reset_index().sort_values(0, ascending=False)\n",
    "# zip the variable name columns (Which were only named level_0 and level_1 by default) in a new column named \"pairs\"\n",
    "df['pairs'] = list(zip(df.level_0, df.level_1))\n",
    "# set index to pairs\n",
    "df.set_index(['pairs'], inplace = True)\n",
    "#d rop level columns\n",
    "df.drop(columns=['level_1', 'level_0'], inplace = True)\n",
    "# rename correlation column as cc rather than 0\n",
    "df.columns = ['cc']\n",
    "# drop duplicates. This could be dangerous if you have variables perfectly correlated with variables other than themselves.\n",
    "# for the sake of exercise, kept it in.\n",
    "df.drop_duplicates(inplace=True)\n",
    "\n",
    "df[(df.cc>.8) & (df.cc <1)]"
   ]
  },
  {
   "cell_type": "code",
   "execution_count": null,
   "metadata": {},
   "outputs": [],
   "source": [
    "data3 = data2.drop(['PT08S2NMHC'], axis=1)\n",
    "data3 = data2.drop(['PT08S5O3'], axis=1)\n",
    "data3 = data2.drop(['PT08S1CO'], axis=1)"
   ]
  },
  {
   "cell_type": "code",
   "execution_count": null,
   "metadata": {},
   "outputs": [],
   "source": [
    "#data = data.drop('Date', axis=1)\n",
    "\n",
    "X2 = data3.drop('T', axis=1)\n",
    "y2 = data3['T']\n",
    "\n",
    "import statsmodels.api as sm\n",
    "X_int = sm.add_constant(X)\n",
    "model = sm.OLS(y,X_int).fit()\n",
    "model.summary()"
   ]
  },
  {
   "cell_type": "code",
   "execution_count": null,
   "metadata": {},
   "outputs": [],
   "source": [
    "from sklearn.model_selection import train_test_split\n",
    "\n",
    "X = data2.drop('T', axis=1)\n",
    "y = data2['T']\n",
    "\n",
    "# Split the data into training and test sets (assign 20% to test set)\n",
    "X_train, X_test, y_train, y_test = train_test_split(X, y, test_size=0.20)\n"
   ]
  },
  {
   "cell_type": "code",
   "execution_count": null,
   "metadata": {},
   "outputs": [],
   "source": [
    "from sklearn.linear_model import LinearRegression\n",
    "linreg = LinearRegression()\n",
    "\n",
    "linreg.fit(X_train, y_train)\n",
    "y_hat_test = linreg.predict(X_test)"
   ]
  },
  {
   "cell_type": "code",
   "execution_count": null,
   "metadata": {},
   "outputs": [],
   "source": [
    "from sklearn.metrics import mean_squared_error\n",
    "test_residuals = y_hat_test - y_test\n",
    "\n",
    "test_mse = mean_squared_error(y_test, y_hat_test)\n",
    "test_mse"
   ]
  },
  {
   "cell_type": "code",
   "execution_count": null,
   "metadata": {},
   "outputs": [],
   "source": [
    "from sklearn.metrics import mean_squared_error, make_scorer\n",
    "from sklearn.model_selection import cross_val_score\n",
    "\n",
    "mse = make_scorer(mean_squared_error)\n",
    "\n",
    "cv_5_results = cross_val_score(linreg, X, y, cv=5, scoring=mse)\n",
    "cv_10_results = cross_val_score(linreg, X, y, cv=10, scoring=mse)\n",
    "cv_20_results = cross_val_score(linreg, X, y, cv=20, scoring=mse)\n",
    "\n",
    "cv_5_results.mean(), cv_10_results.mean(), cv_20_results.mean()"
   ]
  },
  {
   "cell_type": "code",
   "execution_count": null,
   "metadata": {},
   "outputs": [],
   "source": [
    "from sklearn.model_selection import train_test_split\n",
    "\n",
    "X_train, X_test, y_train, y_test = train_test_split(X, y, test_size=0.2, random_state=42)\n",
    "\n",
    "print(len(X_train), len(X_test), len(y_train), len(y_test))\n",
    "\n",
    "from sklearn.linear_model import LinearRegression\n",
    "linreg = LinearRegression()\n",
    "linreg.fit(X_train, y_train)\n",
    "y_hat_train = linreg.predict(X_train)\n",
    "y_hat_test = linreg.predict(X_test)\n",
    "\n",
    "from sklearn.metrics import mean_squared_error\n",
    "train_mse = mean_squared_error(y_train, y_hat_train)\n",
    "test_mse = mean_squared_error(y_test, y_hat_test)\n",
    "print('Train Mean Squarred Error:', train_mse)\n",
    "print('Test Mean Squarred Error:', test_mse)"
   ]
  },
  {
   "cell_type": "code",
   "execution_count": null,
   "metadata": {},
   "outputs": [],
   "source": [
    "from sklearn.linear_model import LinearRegression\n",
    "from sklearn.model_selection import cross_val_score\n",
    "from sklearn.model_selection import KFold\n",
    "\n",
    "regression = LinearRegression()\n",
    "\n",
    "crossvalidation = KFold(n_splits=10, shuffle=True, random_state=1)\n",
    "baseline = np.mean(cross_val_score(regression, X, y, scoring='r2', cv=crossvalidation))\n",
    "baseline"
   ]
  },
  {
   "cell_type": "code",
   "execution_count": null,
   "metadata": {},
   "outputs": [],
   "source": [
    "from itertools import combinations\n",
    "\n",
    "crossvalidation = KFold(n_splits=10, shuffle=True, random_state=1)\n",
    "\n",
    "interactions = []\n",
    "\n",
    "feat_combinations = combinations(X.columns, 2)\n",
    "\n",
    "data = X.copy()\n",
    "for i, (a, b) in enumerate(feat_combinations):\n",
    "    data['interaction'] = data[a] * data[b]\n",
    "    score = np.mean(cross_val_score(regression, data, y, scoring='r2', cv=crossvalidation))\n",
    "    if score > baseline:\n",
    "        interactions.append((a, b, round(score,3)))\n",
    "    \n",
    "    if i % 50 == 0:\n",
    "        print(i)\n",
    "            \n",
    "print('Top interactions: %s' %sorted(interactions, key=lambda inter: inter[2], reverse=True)[:3])"
   ]
  },
  {
   "cell_type": "code",
   "execution_count": null,
   "metadata": {},
   "outputs": [],
   "source": [
    "regression = LinearRegression()\n",
    "crossvalidation = KFold(n_splits=3, shuffle=True, random_state=1)\n",
    "\n",
    "X_interact = X.copy()\n",
    "X_interact['PT08S4NO2_RH'] = X['PT08S4NO2'] * X['RH']\n",
    "X_interact['PT08S1CO_PT08S4NO2'] = X['PT08S1CO'] * X['PT08S4NO2']\n",
    "X_interact['PT08S2NMHC_RH'] = X['PT08S2NMHC'] * X['RH']\n",
    "\n",
    "interact_horse_origin = np.mean(cross_val_score(regression, X_interact, y, scoring='r2', cv=crossvalidation))\n",
    "interact_horse_origin"
   ]
  },
  {
   "cell_type": "code",
   "execution_count": null,
   "metadata": {},
   "outputs": [],
   "source": [
    "\n",
    "\n",
    "import statsmodels.api as sm\n",
    "X_int2 = sm.add_constant(X_interact)\n",
    "model = sm.OLS(y,X_int2).fit()\n",
    "model.summary()"
   ]
  },
  {
   "cell_type": "code",
   "execution_count": null,
   "metadata": {},
   "outputs": [],
   "source": [
    "from sklearn.model_selection import train_test_split\n",
    "\n",
    "X_train, X_test, y_train, y_test = train_test_split(X_interact, y, test_size=0.2, random_state=42)\n",
    "\n",
    "print(len(X_train), len(X_test), len(y_train), len(y_test))\n",
    "\n",
    "from sklearn.linear_model import LinearRegression\n",
    "linreg = LinearRegression()\n",
    "linreg.fit(X_train, y_train)\n",
    "y_hat_train = linreg.predict(X_train)\n",
    "y_hat_test = linreg.predict(X_test)\n",
    "\n",
    "from sklearn.metrics import mean_squared_error\n",
    "train_mse = mean_squared_error(y_train, y_hat_train)\n",
    "test_mse = mean_squared_error(y_test, y_hat_test)\n",
    "print('Train Mean Squarred Error:', train_mse)\n",
    "print('Test Mean Squarred Error:', test_mse)"
   ]
  },
  {
   "cell_type": "code",
   "execution_count": null,
   "metadata": {},
   "outputs": [],
   "source": [
    "columns = ['index','coef']\n",
    "\n",
    "coef_positive_table = pd.DataFrame(columns=columns)\n",
    "coef_negative_table = pd.DataFrame(columns=columns)\n",
    "\n",
    "\n",
    "for i, a in enumerate(model.params[:-3]):\n",
    "    if a > 0:\n",
    "        coef_positive_table.loc[i] = [i,a]\n",
    "    else:\n",
    "        coef_negative_table.loc[i] = [i,a]\n",
    "\n",
    "coef_positive_table     "
   ]
  },
  {
   "cell_type": "code",
   "execution_count": null,
   "metadata": {},
   "outputs": [],
   "source": [
    "coef_positive_table = coef_positive_table.iloc[1: , :]\n",
    "coef_positive_table"
   ]
  },
  {
   "cell_type": "code",
   "execution_count": null,
   "metadata": {},
   "outputs": [],
   "source": [
    "index_grade = coef_positive_table.index\n",
    "index_grade\n",
    "\n",
    "#grade_analysis #data2?\n",
    "\n",
    "grade_of_interstet = []\n",
    "\n",
    "for i in index_grade:\n",
    "    grade_of_interstet.append(data2.columns[i])\n",
    "\n",
    "grade_of_interstet"
   ]
  },
  {
   "cell_type": "code",
   "execution_count": null,
   "metadata": {},
   "outputs": [],
   "source": [
    "for i, a in enumerate(grade_of_interstet):\n",
    "     coef_positive_table.loc[i] = [i,a]"
   ]
  },
  {
   "cell_type": "code",
   "execution_count": null,
   "metadata": {},
   "outputs": [],
   "source": []
  },
  {
   "cell_type": "code",
   "execution_count": null,
   "metadata": {},
   "outputs": [],
   "source": []
  },
  {
   "cell_type": "code",
   "execution_count": null,
   "metadata": {},
   "outputs": [],
   "source": []
  },
  {
   "cell_type": "code",
   "execution_count": null,
   "metadata": {},
   "outputs": [],
   "source": []
  },
  {
   "cell_type": "code",
   "execution_count": null,
   "metadata": {},
   "outputs": [],
   "source": []
  },
  {
   "cell_type": "code",
   "execution_count": null,
   "metadata": {},
   "outputs": [],
   "source": [
    "data_log_norm['COGT'].value_counts()"
   ]
  },
  {
   "cell_type": "code",
   "execution_count": null,
   "metadata": {},
   "outputs": [],
   "source": [
    "data_log_norm.hist(figsize=(15,15), edgecolor = 'black');\n"
   ]
  },
  {
   "cell_type": "markdown",
   "metadata": {},
   "source": [
    "## correlation visualization"
   ]
  },
  {
   "cell_type": "code",
   "execution_count": null,
   "metadata": {},
   "outputs": [],
   "source": [
    "#visualize correlation using heatmap\n",
    "corr = data_log_norm.corr()\n",
    "mask = np.zeros_like(corr)\n",
    "mask[np.triu_indices_from(mask)] = True\n",
    "\n",
    "f, ax = plt.subplots(figsize=(15, 20))\n",
    "\n",
    "sns.heatmap(corr, mask=mask, cmap='coolwarm', vmax=1, center=0,\n",
    "            square=True, linewidths=.5,annot=True, cbar_kws={\"shrink\": .5});"
   ]
  },
  {
   "cell_type": "markdown",
   "metadata": {},
   "source": [
    "We can see that the variables that are positively correlated with T are C6h6GT, PT082SNMHC AND PT08S4NO2"
   ]
  },
  {
   "cell_type": "code",
   "execution_count": null,
   "metadata": {},
   "outputs": [],
   "source": []
  },
  {
   "cell_type": "code",
   "execution_count": null,
   "metadata": {},
   "outputs": [],
   "source": [
    "#Conduct normality check\n",
    "#normality_check(data)"
   ]
  },
  {
   "cell_type": "code",
   "execution_count": null,
   "metadata": {},
   "outputs": [],
   "source": [
    "X = data.drop('T', axis=1)\n",
    "y = data['T']\n",
    "\n",
    "import statsmodels.api as sm\n",
    "X_int = sm.add_constant(X)\n",
    "model = sm.OLS(y,X).fit()\n",
    "model.summary()"
   ]
  },
  {
   "cell_type": "code",
   "execution_count": null,
   "metadata": {},
   "outputs": [],
   "source": [
    "X_norm = data_log_norm.drop('T', axis=1)\n",
    "y_norm = data_log_norm['T']\n",
    "\n",
    "import statsmodels.api as sm\n",
    "X_int_norm = sm.add_constant(X_norm)\n",
    "model = sm.OLS(y_norm,X_int).fit()\n",
    "model.summary()"
   ]
  },
  {
   "cell_type": "code",
   "execution_count": null,
   "metadata": {},
   "outputs": [],
   "source": [
    "\n",
    "\n",
    "f_names = ['T~COGT', 'T~PT08S1CO', 'T~C6H6GT', 'T~PT08S2NMHC', 'T~NOxGT','T~PT08S3NOx','T~NO2GT','T~PT08S4NO2','T~PT08S5O3','T~RH','T~AH']\n"
   ]
  },
  {
   "cell_type": "code",
   "execution_count": null,
   "metadata": {},
   "outputs": [],
   "source": [
    "for i in f_names:\n",
    "    print(i)\n",
    "\n",
    "    "
   ]
  },
  {
   "cell_type": "code",
   "execution_count": null,
   "metadata": {},
   "outputs": [],
   "source": [
    "import warnings\n",
    "warnings.filterwarnings('ignore')\n",
    "\n",
    "for i in f_names:\n",
    "    model = smf.ols(formula=i, data=data).fit()\n",
    "    resid = model.resid\n",
    "    fig = sm.graphics.qqplot(resid, dist=stats.norm, line='45', fit=True)\n",
    "    plt.title(i)\n",
    "    fig.show();\n",
    "\n",
    "\n"
   ]
  },
  {
   "cell_type": "code",
   "execution_count": null,
   "metadata": {},
   "outputs": [],
   "source": [
    "import warnings\n",
    "warnings.filterwarnings('ignore')\n",
    "\n",
    "for i in f_names:\n",
    "    model = smf.ols(formula=i, data=data_log_norm).fit()\n",
    "    resid = model.resid\n",
    "    fig = sm.graphics.qqplot(resid, dist=stats.norm, line='45', fit=True)\n",
    "    plt.title(i)\n",
    "    fig.show();\n"
   ]
  },
  {
   "cell_type": "code",
   "execution_count": null,
   "metadata": {},
   "outputs": [],
   "source": [
    "data.corr()\n",
    "abs(data.corr()) > 0.75\n",
    "\n",
    "# save absolute value of correlation matrix as a data frame\n",
    "# converts all values to absolute value\n",
    "# stacks the row:column pairs into a multindex\n",
    "# reset the index to set the multindex to seperate columns\n",
    "# sort values. 0 is the column automatically generated by the stacking\n",
    "df=data.corr().abs().stack().reset_index().sort_values(0, ascending=False)\n",
    "# zip the variable name columns (Which were only named level_0 and level_1 by default) in a new column named \"pairs\"\n",
    "df['pairs'] = list(zip(df.level_0, df.level_1))\n",
    "# set index to pairs\n",
    "df.set_index(['pairs'], inplace = True)\n",
    "#d rop level columns\n",
    "df.drop(columns=['level_1', 'level_0'], inplace = True)\n",
    "# rename correlation column as cc rather than 0\n",
    "df.columns = ['cc']\n",
    "# drop duplicates. This could be dangerous if you have variables perfectly correlated with variables other than themselves.\n",
    "# for the sake of exercise, kept it in.\n",
    "df.drop_duplicates(inplace=True)\n",
    "\n",
    "df[(df.cc>.8) & (df.cc <1)]"
   ]
  },
  {
   "cell_type": "markdown",
   "metadata": {},
   "source": []
  },
  {
   "cell_type": "code",
   "execution_count": null,
   "metadata": {},
   "outputs": [],
   "source": [
    "data = data.drop(['C6H6GT'], axis=1)\n"
   ]
  },
  {
   "cell_type": "code",
   "execution_count": null,
   "metadata": {},
   "outputs": [],
   "source": [
    "X = data.drop('T', axis=1)\n",
    "y = data['T']\n",
    "\n",
    "import statsmodels.api as sm\n",
    "X_int = sm.add_constant(X)\n",
    "model = sm.OLS(y,X).fit()\n",
    "model.summary()"
   ]
  },
  {
   "cell_type": "code",
   "execution_count": null,
   "metadata": {},
   "outputs": [],
   "source": [
    "data.corr()\n",
    "abs(data.corr()) > 0.75\n",
    "\n",
    "# save absolute value of correlation matrix as a data frame\n",
    "# converts all values to absolute value\n",
    "# stacks the row:column pairs into a multindex\n",
    "# reset the index to set the multindex to seperate columns\n",
    "# sort values. 0 is the column automatically generated by the stacking\n",
    "df=data.corr().abs().stack().reset_index().sort_values(0, ascending=False)\n",
    "# zip the variable name columns (Which were only named level_0 and level_1 by default) in a new column named \"pairs\"\n",
    "df['pairs'] = list(zip(df.level_0, df.level_1))\n",
    "# set index to pairs\n",
    "df.set_index(['pairs'], inplace = True)\n",
    "#d rop level columns\n",
    "df.drop(columns=['level_1', 'level_0'], inplace = True)\n",
    "# rename correlation column as cc rather than 0\n",
    "df.columns = ['cc']\n",
    "# drop duplicates. This could be dangerous if you have variables perfectly correlated with variables other than themselves.\n",
    "# for the sake of exercise, kept it in.\n",
    "df.drop_duplicates(inplace=True)\n",
    "\n",
    "df[(df.cc>.8) & (df.cc <1)]"
   ]
  },
  {
   "cell_type": "code",
   "execution_count": null,
   "metadata": {},
   "outputs": [],
   "source": [
    "data = data.drop(['PT08S5O3'], axis=1)\n",
    "data = data.drop(['PT08S2NMHC'], axis=1)\n"
   ]
  },
  {
   "cell_type": "code",
   "execution_count": null,
   "metadata": {},
   "outputs": [],
   "source": [
    "X = data.drop('T', axis=1)\n",
    "y = data['T']\n",
    "\n",
    "import statsmodels.api as sm\n",
    "X_int = sm.add_constant(X)\n",
    "model = sm.OLS(y,X).fit()\n",
    "model.summary()"
   ]
  },
  {
   "cell_type": "code",
   "execution_count": null,
   "metadata": {},
   "outputs": [],
   "source": [
    "data.corr()\n",
    "abs(data.corr()) > 0.75\n",
    "\n",
    "# save absolute value of correlation matrix as a data frame\n",
    "# converts all values to absolute value\n",
    "# stacks the row:column pairs into a multindex\n",
    "# reset the index to set the multindex to seperate columns\n",
    "# sort values. 0 is the column automatically generated by the stacking\n",
    "df=data.corr().abs().stack().reset_index().sort_values(0, ascending=False)\n",
    "# zip the variable name columns (Which were only named level_0 and level_1 by default) in a new column named \"pairs\"\n",
    "df['pairs'] = list(zip(df.level_0, df.level_1))\n",
    "# set index to pairs\n",
    "df.set_index(['pairs'], inplace = True)\n",
    "#d rop level columns\n",
    "df.drop(columns=['level_1', 'level_0'], inplace = True)\n",
    "# rename correlation column as cc rather than 0\n",
    "df.columns = ['cc']\n",
    "# drop duplicates. This could be dangerous if you have variables perfectly correlated with variables other than themselves.\n",
    "# for the sake of exercise, kept it in.\n",
    "df.drop_duplicates(inplace=True)\n",
    "\n",
    "df[(df.cc>.8) & (df.cc <1)]"
   ]
  },
  {
   "cell_type": "code",
   "execution_count": null,
   "metadata": {},
   "outputs": [],
   "source": [
    "data.corr()\n",
    "abs(data.corr()) > 0.75\n",
    "\n",
    "# save absolute value of correlation matrix as a data frame\n",
    "# converts all values to absolute value\n",
    "# stacks the row:column pairs into a multindex\n",
    "# reset the index to set the multindex to seperate columns\n",
    "# sort values. 0 is the column automatically generated by the stacking\n",
    "df=data.corr().abs().stack().reset_index().sort_values(0, ascending=False)\n",
    "# zip the variable name columns (Which were only named level_0 and level_1 by default) in a new column named \"pairs\"\n",
    "df['pairs'] = list(zip(df.level_0, df.level_1))\n",
    "# set index to pairs\n",
    "df.set_index(['pairs'], inplace = True)\n",
    "#d rop level columns\n",
    "df.drop(columns=['level_1', 'level_0'], inplace = True)\n",
    "# rename correlation column as cc rather than 0\n",
    "df.columns = ['cc']\n",
    "# drop duplicates. This could be dangerous if you have variables perfectly correlated with variables other than themselves.\n",
    "# for the sake of exercise, kept it in.\n",
    "df.drop_duplicates(inplace=True)\n",
    "\n",
    "df[(df.cc>.7) & (df.cc <1)]"
   ]
  },
  {
   "cell_type": "code",
   "execution_count": null,
   "metadata": {},
   "outputs": [],
   "source": [
    "data = data.drop(['NOxGT'], axis=1)\n",
    "data = data.drop(['PT08S1CO'], axis=1)"
   ]
  },
  {
   "cell_type": "code",
   "execution_count": null,
   "metadata": {},
   "outputs": [],
   "source": [
    "X = data.drop('T', axis=1)\n",
    "y = data['T']\n",
    "\n",
    "import statsmodels.api as sm\n",
    "X_int = sm.add_constant(X)\n",
    "model = sm.OLS(y,X).fit()\n",
    "model.summary()"
   ]
  },
  {
   "cell_type": "code",
   "execution_count": null,
   "metadata": {},
   "outputs": [],
   "source": [
    "data.corr()\n",
    "abs(data.corr()) > 0.75\n",
    "\n",
    "# save absolute value of correlation matrix as a data frame\n",
    "# converts all values to absolute value\n",
    "# stacks the row:column pairs into a multindex\n",
    "# reset the index to set the multindex to seperate columns\n",
    "# sort values. 0 is the column automatically generated by the stacking\n",
    "df=data.corr().abs().stack().reset_index().sort_values(0, ascending=False)\n",
    "# zip the variable name columns (Which were only named level_0 and level_1 by default) in a new column named \"pairs\"\n",
    "df['pairs'] = list(zip(df.level_0, df.level_1))\n",
    "# set index to pairs\n",
    "df.set_index(['pairs'], inplace = True)\n",
    "#d rop level columns\n",
    "df.drop(columns=['level_1', 'level_0'], inplace = True)\n",
    "# rename correlation column as cc rather than 0\n",
    "df.columns = ['cc']\n",
    "# drop duplicates. This could be dangerous if you have variables perfectly correlated with variables other than themselves.\n",
    "# for the sake of exercise, kept it in.\n",
    "df.drop_duplicates(inplace=True)\n",
    "\n",
    "df[(df.cc>.7) & (df.cc <1)]"
   ]
  },
  {
   "cell_type": "code",
   "execution_count": null,
   "metadata": {},
   "outputs": [],
   "source": [
    "from sklearn.model_selection import train_test_split\n",
    "\n",
    "X = data.drop('T', axis=1)\n",
    "y = data['T']\n",
    "\n",
    "# Split the data into training and test sets (assign 20% to test set)\n",
    "X_train, X_test, y_train, y_test = train_test_split(X, y, test_size=0.20)\n",
    "\n"
   ]
  },
  {
   "cell_type": "code",
   "execution_count": null,
   "metadata": {},
   "outputs": [],
   "source": [
    "from sklearn.linear_model import LinearRegression\n",
    "linreg = LinearRegression()\n",
    "\n",
    "linreg.fit(X_train, y_train)\n",
    "y_hat_test = linreg.predict(X_test)"
   ]
  },
  {
   "cell_type": "code",
   "execution_count": null,
   "metadata": {},
   "outputs": [],
   "source": [
    "from sklearn.metrics import mean_squared_error\n",
    "test_residuals = y_hat_test - y_test\n",
    "\n",
    "test_mse = mean_squared_error(y_test, y_hat_test)\n",
    "test_mse"
   ]
  },
  {
   "cell_type": "code",
   "execution_count": null,
   "metadata": {},
   "outputs": [],
   "source": [
    "from sklearn.metrics import mean_squared_error, make_scorer\n",
    "from sklearn.model_selection import cross_val_score\n",
    "\n",
    "mse = make_scorer(mean_squared_error)\n",
    "\n",
    "cv_5_results = cross_val_score(linreg, X, y, cv=5, scoring=mse)\n",
    "cv_10_results = cross_val_score(linreg, X, y, cv=10, scoring=mse)\n",
    "cv_20_results = cross_val_score(linreg, X, y, cv=20, scoring=mse)"
   ]
  },
  {
   "cell_type": "code",
   "execution_count": null,
   "metadata": {},
   "outputs": [],
   "source": [
    "cv_5_results.mean(), cv_10_results.mean(), cv_20_results.mean()"
   ]
  },
  {
   "cell_type": "code",
   "execution_count": null,
   "metadata": {},
   "outputs": [],
   "source": [
    "from sklearn.model_selection import train_test_split\n",
    "\n",
    "X_train, X_test, y_train, y_test = train_test_split(X, y, test_size=0.2, random_state=42)\n",
    "\n",
    "print(len(X_train), len(X_test), len(y_train), len(y_test))\n",
    "\n",
    "from sklearn.linear_model import LinearRegression\n",
    "linreg = LinearRegression()\n",
    "linreg.fit(X_train, y_train)\n",
    "y_hat_train = linreg.predict(X_train)\n",
    "y_hat_test = linreg.predict(X_test)\n",
    "\n",
    "from sklearn.metrics import mean_squared_error\n",
    "train_mse = mean_squared_error(y_train, y_hat_train)\n",
    "test_mse = mean_squared_error(y_test, y_hat_test)\n",
    "print('Train Mean Squarred Error:', train_mse)\n",
    "print('Test Mean Squarred Error:', test_mse)"
   ]
  },
  {
   "cell_type": "code",
   "execution_count": null,
   "metadata": {},
   "outputs": [],
   "source": [
    "from sklearn.linear_model import LinearRegression\n",
    "from sklearn.model_selection import cross_val_score\n",
    "from sklearn.model_selection import KFold\n",
    "\n",
    "regression = LinearRegression()\n",
    "\n",
    "crossvalidation = KFold(n_splits=10, shuffle=True, random_state=1)\n",
    "baseline = np.mean(cross_val_score(regression, X, y, scoring='r2', cv=crossvalidation))\n",
    "baseline"
   ]
  },
  {
   "cell_type": "code",
   "execution_count": null,
   "metadata": {},
   "outputs": [],
   "source": [
    "from itertools import combinations\n",
    "\n",
    "crossvalidation = KFold(n_splits=10, shuffle=True, random_state=1)\n",
    "\n",
    "interactions = []\n",
    "\n",
    "feat_combinations = combinations(X.columns, 2)\n",
    "\n",
    "data = X.copy()\n",
    "for i, (a, b) in enumerate(feat_combinations):\n",
    "    data['interaction'] = data[a] * data[b]\n",
    "    score = np.mean(cross_val_score(regression, data, y, scoring='r2', cv=crossvalidation))\n",
    "    if score > baseline:\n",
    "        interactions.append((a, b, round(score,3)))\n",
    "    \n",
    "    if i % 50 == 0:\n",
    "        print(i)\n",
    "            \n",
    "print('Top interaction: %s' %sorted(interactions, key=lambda inter: inter[2], reverse=True)[:1])"
   ]
  },
  {
   "cell_type": "code",
   "execution_count": null,
   "metadata": {},
   "outputs": [],
   "source": [
    "regression = LinearRegression()\n",
    "crossvalidation = KFold(n_splits=3, shuffle=True, random_state=1)\n",
    "\n",
    "X_interact = X.copy()\n",
    "X_interact['PT08S4NO2_AH'] = X['PT08S4NO2'] * X['AH']\n",
    "\n",
    "interact_horse_origin = np.mean(cross_val_score(regression, X_interact, y, scoring='r2', cv=crossvalidation))\n",
    "interact_horse_origin"
   ]
  },
  {
   "cell_type": "code",
   "execution_count": null,
   "metadata": {},
   "outputs": [],
   "source": [
    "import statsmodels.api as sm\n",
    "X_interact_2 = sm.add_constant(X_interact)\n",
    "model = sm.OLS(y,X_interact)\n",
    "results = model.fit()\n",
    "\n",
    "results.summary()"
   ]
  },
  {
   "cell_type": "code",
   "execution_count": null,
   "metadata": {},
   "outputs": [],
   "source": []
  },
  {
   "cell_type": "code",
   "execution_count": null,
   "metadata": {},
   "outputs": [],
   "source": []
  },
  {
   "cell_type": "code",
   "execution_count": null,
   "metadata": {},
   "outputs": [],
   "source": []
  },
  {
   "cell_type": "code",
   "execution_count": null,
   "metadata": {},
   "outputs": [],
   "source": []
  },
  {
   "cell_type": "code",
   "execution_count": null,
   "metadata": {},
   "outputs": [],
   "source": []
  },
  {
   "cell_type": "code",
   "execution_count": null,
   "metadata": {},
   "outputs": [],
   "source": [
    "\n",
    "data['NMHC(GT)'].value_counts()"
   ]
  },
  {
   "cell_type": "code",
   "execution_count": null,
   "metadata": {},
   "outputs": [],
   "source": [
    "def cleaning_and_median(name_column):\n",
    "    data[name_column] = data[name_column].astype(str).astype(float)\n",
    "    data[name_column] = data[name_column].replace(-200,data[name_column].median())"
   ]
  },
  {
   "cell_type": "code",
   "execution_count": null,
   "metadata": {},
   "outputs": [],
   "source": []
  },
  {
   "cell_type": "code",
   "execution_count": null,
   "metadata": {},
   "outputs": [],
   "source": []
  },
  {
   "cell_type": "code",
   "execution_count": null,
   "metadata": {},
   "outputs": [],
   "source": []
  },
  {
   "cell_type": "code",
   "execution_count": null,
   "metadata": {},
   "outputs": [],
   "source": []
  },
  {
   "cell_type": "code",
   "execution_count": null,
   "metadata": {},
   "outputs": [],
   "source": []
  },
  {
   "cell_type": "code",
   "execution_count": null,
   "metadata": {},
   "outputs": [],
   "source": []
  },
  {
   "cell_type": "code",
   "execution_count": null,
   "metadata": {},
   "outputs": [],
   "source": [
    "data"
   ]
  },
  {
   "cell_type": "code",
   "execution_count": null,
   "metadata": {},
   "outputs": [],
   "source": [
    "data['CO(GT)'] = data['CO(GT)'].replace(\",\",\" \")\n",
    "data['CO(GT)']"
   ]
  },
  {
   "cell_type": "code",
   "execution_count": null,
   "metadata": {},
   "outputs": [],
   "source": [
    "data['CO(GT)'] = data['CO(GT)'].astype(str)\n",
    "data['CO(GT)'] = data['CO(GT)'].str.replace(\",\",\".\")\n",
    "data['CO(GT)']"
   ]
  },
  {
   "cell_type": "code",
   "execution_count": null,
   "metadata": {},
   "outputs": [],
   "source": [
    "data['CO(GT)'] = data['CO(GT)'].astype(str).astype(float)"
   ]
  },
  {
   "cell_type": "code",
   "execution_count": null,
   "metadata": {},
   "outputs": [],
   "source": [
    "data['CO(GT)']=data['CO(GT)'].replace(-200,data['CO(GT)'].median())\n"
   ]
  },
  {
   "cell_type": "code",
   "execution_count": null,
   "metadata": {},
   "outputs": [],
   "source": [
    "data['CO(GT)'].value_counts()"
   ]
  },
  {
   "cell_type": "code",
   "execution_count": null,
   "metadata": {},
   "outputs": [],
   "source": [
    "\n",
    "\n",
    "\n",
    "\n"
   ]
  },
  {
   "cell_type": "code",
   "execution_count": null,
   "metadata": {},
   "outputs": [],
   "source": []
  },
  {
   "cell_type": "code",
   "execution_count": null,
   "metadata": {},
   "outputs": [],
   "source": [
    "\n"
   ]
  },
  {
   "cell_type": "code",
   "execution_count": null,
   "metadata": {},
   "outputs": [],
   "source": [
    "data['C6H6(GT)'] = data['C6H6(GT)'].str.replace(\",\",\".\")\n",
    "data['C6H6(GT)']"
   ]
  },
  {
   "cell_type": "code",
   "execution_count": null,
   "metadata": {},
   "outputs": [],
   "source": [
    "data['T'] = data['T'].str.replace(\",\",\".\")\n",
    "data['T']"
   ]
  },
  {
   "cell_type": "code",
   "execution_count": null,
   "metadata": {},
   "outputs": [],
   "source": [
    "data['RH'] = data['RH'].str.replace(\",\",\".\")\n",
    "data['RH']"
   ]
  },
  {
   "cell_type": "code",
   "execution_count": null,
   "metadata": {},
   "outputs": [],
   "source": [
    "data['AH'] = data['AH'].str.replace(\",\",\".\")\n",
    "data['AH']"
   ]
  },
  {
   "cell_type": "code",
   "execution_count": null,
   "metadata": {},
   "outputs": [],
   "source": []
  },
  {
   "cell_type": "code",
   "execution_count": null,
   "metadata": {},
   "outputs": [],
   "source": []
  },
  {
   "cell_type": "code",
   "execution_count": null,
   "metadata": {},
   "outputs": [],
   "source": []
  },
  {
   "cell_type": "code",
   "execution_count": null,
   "metadata": {},
   "outputs": [],
   "source": []
  },
  {
   "cell_type": "code",
   "execution_count": null,
   "metadata": {},
   "outputs": [],
   "source": []
  },
  {
   "cell_type": "code",
   "execution_count": null,
   "metadata": {},
   "outputs": [],
   "source": []
  },
  {
   "cell_type": "code",
   "execution_count": null,
   "metadata": {},
   "outputs": [],
   "source": []
  },
  {
   "cell_type": "code",
   "execution_count": null,
   "metadata": {},
   "outputs": [],
   "source": []
  },
  {
   "cell_type": "markdown",
   "metadata": {},
   "source": [
    "From this first screening, we can see that sqft_basement is an object, so we convert it into float. But when we try to apply the function astype, it gives an error. That's why we have to epxlore the column a little further. By reading the corresponding error of astype and using the function .value_counts() we can see that the problem is that there is the sign \"?\". \n"
   ]
  },
  {
   "cell_type": "code",
   "execution_count": null,
   "metadata": {},
   "outputs": [],
   "source": [
    "\n",
    "data['sqft_basement'].value_counts()"
   ]
  },
  {
   "cell_type": "markdown",
   "metadata": {},
   "source": [
    "To proceed with our analysis, we detete the rows that contain \"?\" "
   ]
  },
  {
   "cell_type": "code",
   "execution_count": null,
   "metadata": {},
   "outputs": [],
   "source": [
    "data = data[(data.sqft_basement != '?' )]\n",
    "data.info()"
   ]
  },
  {
   "cell_type": "markdown",
   "metadata": {},
   "source": [
    "We can now proceed to convert sqft_basement into a float type"
   ]
  },
  {
   "cell_type": "code",
   "execution_count": null,
   "metadata": {},
   "outputs": [],
   "source": [
    "data['sqft_basement'] = data['sqft_basement'].astype(str).astype(float)"
   ]
  },
  {
   "cell_type": "code",
   "execution_count": null,
   "metadata": {},
   "outputs": [],
   "source": [
    "data.info()"
   ]
  },
  {
   "cell_type": "markdown",
   "metadata": {},
   "source": [
    "Above we have confirm that the sqft_basement is now a float."
   ]
  },
  {
   "cell_type": "markdown",
   "metadata": {},
   "source": [
    "## CATEGORICAL VS CONTINUOUS DATA ANALYSIS"
   ]
  },
  {
   "cell_type": "markdown",
   "metadata": {},
   "source": [
    "Now let's identify which variables are categorical and which ones are continuous. We will do it by plotting the data. From the graphs below, we can determine that waterfront, view, condition, grade, years built, renovated year, number of bedrooms, numbero of bathrooms and number of floors are categorical variables. "
   ]
  },
  {
   "cell_type": "code",
   "execution_count": null,
   "metadata": {},
   "outputs": [],
   "source": [
    "import matplotlib.pyplot as plt\n",
    "%matplotlib inline\n",
    "\n",
    " # crate the figure and axes\n",
    "fig, axes = plt.subplots(7, 3, figsize=(24, 30))   \n",
    "\n",
    "# unpack all the axes subplots\n",
    "axe = axes.ravel()\n",
    "\n",
    "# assign the plot to each subplot in axe\n",
    "for i, c in enumerate(data.columns):\n",
    "    \n",
    "    data.plot(kind='scatter', x=c, y='price', ax=axe[i], alpha=0.4, color='b')"
   ]
  },
  {
   "cell_type": "markdown",
   "metadata": {},
   "source": [
    "We conver the \"years_built\" variable into a continous variable by calculating the years since it was renovated."
   ]
  },
  {
   "cell_type": "code",
   "execution_count": null,
   "metadata": {},
   "outputs": [],
   "source": [
    "data['years_built'] = 2022 - data['yr_built']\n",
    "data.info()\n"
   ]
  },
  {
   "cell_type": "markdown",
   "metadata": {},
   "source": [
    "## EFFECT OF RENOVATION ON PRICE "
   ]
  },
  {
   "cell_type": "markdown",
   "metadata": {},
   "source": [
    "We start our analysis determining the effect of renovation in house prices. Let's explore the data a bit further."
   ]
  },
  {
   "cell_type": "code",
   "execution_count": null,
   "metadata": {},
   "outputs": [],
   "source": [
    "data.yr_renovated.value_counts()"
   ]
  },
  {
   "cell_type": "markdown",
   "metadata": {},
   "source": [
    "From the data, we can observed that some years of renovation correspond to 0, which means that these houses have not been renovated. \n",
    "What we are going to do, is to create 2 grups, one of houses that have not been renovated and the other one of renovated houses. After that, we will perform a t-test to determine whether there is a significant change between these two groups. \n",
    "\n",
    "\n",
    "Hypothesis:\n",
    "H0 = there are no differences between renovated and non-renovated houses\n",
    "Ha = there are differences between renovated and non-renovated houses\n"
   ]
  },
  {
   "cell_type": "code",
   "execution_count": null,
   "metadata": {},
   "outputs": [],
   "source": [
    "no_renovated = data[data.yr_renovated == 0]['price']\n",
    "renovated = data[data.yr_renovated != 0]['price']\n",
    "\n",
    "# Calculate the 2-sided p-value for a t-test comparing the renovated vs no-renovated groups\n",
    "from scipy import stats\n",
    "\n",
    "stats.ttest_ind(no_renovated, renovated, equal_var=False)[1]\n"
   ]
  },
  {
   "cell_type": "markdown",
   "metadata": {},
   "source": [
    "The above result indicates that there is a signfincant difference between renovated and non-renovated houeses. Which one is more expensive? Let's see:"
   ]
  },
  {
   "cell_type": "code",
   "execution_count": null,
   "metadata": {},
   "outputs": [],
   "source": [
    "print(no_renovated.mean(), renovated.mean())"
   ]
  },
  {
   "cell_type": "markdown",
   "metadata": {},
   "source": [
    "The renovated houses are more expensive. How much?  1.4-fold more expensive, as seen below. "
   ]
  },
  {
   "cell_type": "code",
   "execution_count": null,
   "metadata": {},
   "outputs": [],
   "source": [
    "fold_increase = (renovated.mean()/no_renovated.mean())\n",
    "fold_increase"
   ]
  },
  {
   "cell_type": "markdown",
   "metadata": {},
   "source": [
    "Based on this data, we select only the non-renovated houses, as our main is to find the cheapest houses for the WHPO."
   ]
  },
  {
   "cell_type": "code",
   "execution_count": null,
   "metadata": {},
   "outputs": [],
   "source": [
    "data_new = data.drop(data[data.yr_renovated != 0].index)\n",
    "data_new.yr_renovated.value_counts() #to confirm that we only selected the non-renovated"
   ]
  },
  {
   "cell_type": "code",
   "execution_count": null,
   "metadata": {},
   "outputs": [],
   "source": [
    "data_new.info()"
   ]
  },
  {
   "cell_type": "markdown",
   "metadata": {},
   "source": [
    "## EFFECTS OF WATERVIEW ON PRICE"
   ]
  },
  {
   "cell_type": "markdown",
   "metadata": {},
   "source": [
    "To study the effect of waterviews on price, we performed the same analysis that with renovation: a t-test to compare houses with and without waterview "
   ]
  },
  {
   "cell_type": "code",
   "execution_count": null,
   "metadata": {},
   "outputs": [],
   "source": [
    "no_water_view = data_new[data_new.waterfront == 0]['price']\n",
    "water_view = data_new[data_new.waterfront != 0]['price']\n",
    "\n",
    "# Calculate the 2-sided p-value for a t-test comparing the renovated vs no-renovated groups\n",
    "from scipy import stats\n",
    "\n",
    "stats.ttest_ind(water_view, no_water_view, equal_var=False)[1]"
   ]
  },
  {
   "cell_type": "markdown",
   "metadata": {},
   "source": [
    "The t-test analysis confirm that there is a statistically signifcant differences between houses with and whithout waterview. \n",
    "Below we can see the average price for both groups."
   ]
  },
  {
   "cell_type": "code",
   "execution_count": null,
   "metadata": {},
   "outputs": [],
   "source": [
    "print(water_view.mean(), no_water_view.mean())"
   ]
  },
  {
   "cell_type": "markdown",
   "metadata": {},
   "source": [
    "Based on the data above, we select only the houses that do not have waterviews for our further analysis"
   ]
  },
  {
   "cell_type": "code",
   "execution_count": null,
   "metadata": {},
   "outputs": [],
   "source": [
    "data_new = data_new.drop(data_new[data_new.waterfront != 0].index)\n",
    "data_new"
   ]
  },
  {
   "cell_type": "code",
   "execution_count": null,
   "metadata": {},
   "outputs": [],
   "source": [
    "data_new.waterfront.value_counts() #to confirm that we only have the houses without waterviews"
   ]
  },
  {
   "cell_type": "code",
   "execution_count": null,
   "metadata": {},
   "outputs": [],
   "source": [
    "data_new.info()"
   ]
  },
  {
   "cell_type": "markdown",
   "metadata": {},
   "source": [
    "## EFFECTS OF ZIPCODES ON PRICE"
   ]
  },
  {
   "cell_type": "markdown",
   "metadata": {},
   "source": [
    "We want now to determine which are the zipcodes that are most expensive. Since zipcodes is a categorical variable, we will use get_dummies to work with tat."
   ]
  },
  {
   "cell_type": "code",
   "execution_count": null,
   "metadata": {},
   "outputs": [],
   "source": [
    "zipcode_dummies = pd.get_dummies(data_new['zipcode'], prefix='zip', drop_first=True)"
   ]
  },
  {
   "cell_type": "code",
   "execution_count": null,
   "metadata": {},
   "outputs": [],
   "source": [
    "zipcode_analysis = data.drop(['zipcode'], axis=1)\n",
    "zipcode_analysis = pd.concat([data_new['price'], zipcode_dummies], axis=1)\n",
    "zipcode_analysis.head()\n",
    "\n",
    "\n"
   ]
  },
  {
   "cell_type": "code",
   "execution_count": null,
   "metadata": {},
   "outputs": [],
   "source": [
    "X_zip = zipcode_analysis.drop('price', axis=1)\n",
    "y_zip = zipcode_analysis['price']\n",
    "\n",
    "import statsmodels.api as sm\n",
    "X_zip_int = sm.add_constant(X_zip)\n",
    "model = sm.OLS(y_zip,X_zip_int).fit()\n",
    "model.summary()"
   ]
  },
  {
   "cell_type": "markdown",
   "metadata": {},
   "source": [
    "The adjusted R-squared value for the whole mode is 0.457, which is a very low value. This means that only 45% of the price variability can be explained by zipcode. However, in this analysis we want to focus on particular zipcodes. \n",
    "\n",
    "From this analysis we can see that several zipocdes positively and signifcantly increase the price (coefient positive and p < 0.05), and some that do not. We also observe that even some of them have a negative correlation with price, they are not significant. \n",
    "\n",
    "We want to identify which ones are the ones that positively and signficnatly increase the price and which ones do not. "
   ]
  },
  {
   "cell_type": "code",
   "execution_count": null,
   "metadata": {},
   "outputs": [],
   "source": [
    "columns = ['index','pvalue']\n",
    "\n",
    "pvalue_positive_table = pd.DataFrame(columns=columns)\n",
    "pvalue_negative_table = pd.DataFrame(columns=columns)\n",
    "\n",
    "\n",
    "for i, a in enumerate(model.pvalues):\n",
    "    if a < 0.05:\n",
    "        pvalue_positive_table.loc[i] = [i,a]\n",
    "    else:\n",
    "        pvalue_negative_table.loc[i] = [i,a]\n",
    "\n",
    "\n"
   ]
  },
  {
   "cell_type": "code",
   "execution_count": null,
   "metadata": {},
   "outputs": [],
   "source": [
    "pvalue_positive_table"
   ]
  },
  {
   "cell_type": "code",
   "execution_count": null,
   "metadata": {},
   "outputs": [],
   "source": [
    "pvalue_negative_table"
   ]
  },
  {
   "cell_type": "code",
   "execution_count": null,
   "metadata": {},
   "outputs": [],
   "source": [
    "index = pvalue_negative_table.index\n",
    "index"
   ]
  },
  {
   "cell_type": "code",
   "execution_count": null,
   "metadata": {},
   "outputs": [],
   "source": [
    "zipcodes_of_interstet = []\n",
    "\n",
    "for i in index:\n",
    "    zipcodes_of_interstet.append(zipcode_analysis.columns[i])\n",
    "\n",
    "zipcodes_of_interstet_name = []\n",
    "\n"
   ]
  },
  {
   "cell_type": "markdown",
   "metadata": {},
   "source": [
    "Below, we can see the zipcodes of interset, which means, the zipcodes that do not signficnatly incrase the house prices. Herein, these zipcodes are the ones that will have the lowest house prices"
   ]
  },
  {
   "cell_type": "code",
   "execution_count": null,
   "metadata": {},
   "outputs": [],
   "source": [
    "for i in zipcodes_of_interstet:\n",
    "     zipcodes_of_interstet_name.append(i[-5:])\n",
    "\n",
    "zipcodes_of_interstet_name"
   ]
  },
  {
   "cell_type": "code",
   "execution_count": null,
   "metadata": {},
   "outputs": [],
   "source": [
    "index_NO_interest = pvalue_positive_table.index\n",
    "\n",
    "\n",
    "zipcodes_of_NO_interstet = []\n",
    "\n",
    "for i in index_NO_interest:\n",
    "    zipcodes_of_NO_interstet.append(zipcode_analysis.columns[i])\n",
    "\n",
    "zipcodes_of_NO_interstet_name = []\n",
    "\n",
    "for i in zipcodes_of_NO_interstet:\n",
    "     zipcodes_of_NO_interstet_name.append(i[-5:])\n",
    "\n",
    "zipcodes_of_NO_interstet_name"
   ]
  },
  {
   "cell_type": "code",
   "execution_count": null,
   "metadata": {},
   "outputs": [],
   "source": [
    "#just to refresh our data:\n",
    "\n",
    "data_new"
   ]
  },
  {
   "cell_type": "code",
   "execution_count": null,
   "metadata": {},
   "outputs": [],
   "source": [
    "#as mentioend above, now we want to select only the houses corresponding to our zipcodes of interest\n",
    "\n",
    "data_new2 =  data_new[data_new['zipcode'].isin(zipcodes_of_interstet_name)]\n",
    "data_new2.zipcode.value_counts()"
   ]
  },
  {
   "cell_type": "code",
   "execution_count": null,
   "metadata": {},
   "outputs": [],
   "source": [
    "data_new2.info()"
   ]
  },
  {
   "cell_type": "markdown",
   "metadata": {},
   "source": [
    "## EFFECTS OF CONDITION ON PRICE\n",
    "\n",
    "Condition is also a categorical variable, and we will apply get_dummies to deal with it. "
   ]
  },
  {
   "cell_type": "code",
   "execution_count": null,
   "metadata": {},
   "outputs": [],
   "source": [
    "condition_dummies = pd.get_dummies(data_new2['condition'], prefix='cond', drop_first=True)"
   ]
  },
  {
   "cell_type": "code",
   "execution_count": null,
   "metadata": {},
   "outputs": [],
   "source": [
    "condition_analysis = data_new2.drop(['condition'], axis=1)\n",
    "condition_analysis = pd.concat([data_new2['price'], condition_dummies], axis=1)\n",
    "condition_analysis.head(10)\n"
   ]
  },
  {
   "cell_type": "code",
   "execution_count": null,
   "metadata": {},
   "outputs": [],
   "source": [
    "X_cond = condition_analysis.drop('price', axis=1)\n",
    "y_cond = condition_analysis['price']\n",
    "\n",
    "X_cond_int = sm.add_constant(X_cond)\n",
    "model_cond = sm.OLS(y_cond,X_cond_int).fit()\n",
    "model_cond.summary()"
   ]
  },
  {
   "cell_type": "markdown",
   "metadata": {},
   "source": [
    "The adjusted R2-value is very low (0.015). It means that only 1.5% of the price variablity can be explained by this model. However, we have performed this analysis to focus on the value of each condition individually. \n",
    "\n",
    "Similar to zipcodes, there are some conditoins that signicnatly and positively increase the house price. We perform the same analysis to udnerstand which conditions impact the price and which ones do not. "
   ]
  },
  {
   "cell_type": "code",
   "execution_count": null,
   "metadata": {},
   "outputs": [],
   "source": [
    "columns = ['index','pvalue']\n",
    "\n",
    "condition_pvalue_positive_table = pd.DataFrame(columns=columns)\n",
    "condition_pvalue_negative_table = pd.DataFrame(columns=columns)\n",
    "\n",
    "\n",
    "for i, a in enumerate(model_cond.pvalues):\n",
    "    if a < 0.05:\n",
    "        condition_pvalue_positive_table.loc[i] = [i,a]\n",
    "    else:\n",
    "        condition_pvalue_negative_table.loc[i] = [i,a]\n",
    "\n",
    "\n",
    "condition_pvalue_positive_table"
   ]
  },
  {
   "cell_type": "code",
   "execution_count": null,
   "metadata": {},
   "outputs": [],
   "source": [
    "condition_pvalue_negative_table"
   ]
  },
  {
   "cell_type": "code",
   "execution_count": null,
   "metadata": {},
   "outputs": [],
   "source": [
    "cond_grade = condition_pvalue_negative_table.index\n",
    "cond_grade"
   ]
  },
  {
   "cell_type": "code",
   "execution_count": null,
   "metadata": {},
   "outputs": [],
   "source": [
    "cond_of_interstet = []\n",
    "\n",
    "for i in cond_grade:\n",
    "    cond_of_interstet.append(condition_analysis.columns[i])\n",
    "\n",
    "cond_of_interstet"
   ]
  },
  {
   "cell_type": "code",
   "execution_count": null,
   "metadata": {},
   "outputs": [],
   "source": [
    "cond_grade_negative = condition_pvalue_positive_table.index\n",
    "cond_grade_negative\n",
    "\n",
    "cond_no_interstet = []\n",
    "\n",
    "for i in cond_grade_negative:\n",
    "    cond_no_interstet.append(condition_analysis.columns[i])\n",
    "\n",
    "cond_no_interstet"
   ]
  },
  {
   "cell_type": "code",
   "execution_count": null,
   "metadata": {},
   "outputs": [],
   "source": [
    "data_new2.condition.value_counts()\n"
   ]
  },
  {
   "cell_type": "markdown",
   "metadata": {},
   "source": [
    "From all the analysis above, we can conclude that condition 3 and above signficnatly increase the price of the houses. However, we can't filter our data only based on condition 1 and 2, because this only correspond to 27 datapoints. We will proceed with the analysis without this filter, but this is an insight that we will give to our clients."
   ]
  },
  {
   "cell_type": "markdown",
   "metadata": {},
   "source": [
    "## EFFECTS OF GRADE ON PRICE\n",
    "\n",
    "Grade is also a categorical variable, and we will apply get_dummies to deal with it. "
   ]
  },
  {
   "cell_type": "code",
   "execution_count": null,
   "metadata": {},
   "outputs": [],
   "source": [
    "grade_dummies = pd.get_dummies(data_new2['grade'], prefix='grd', drop_first=True)\n",
    "\n",
    "grade_analysis = data_new2.drop(['grade'], axis=1)\n",
    "grade_analysis = pd.concat([data_new2['price'], grade_dummies], axis=1)\n",
    "grade_analysis.head(10)"
   ]
  },
  {
   "cell_type": "code",
   "execution_count": null,
   "metadata": {},
   "outputs": [],
   "source": [
    "X_grade = grade_analysis.drop('price', axis=1)\n",
    "y_grade = grade_analysis['price']\n",
    "\n",
    "X_grade_int = sm.add_constant(X_grade)\n",
    "model_grade = sm.OLS(y_grade,X_grade_int).fit()\n",
    "model_grade.summary()"
   ]
  },
  {
   "cell_type": "markdown",
   "metadata": {},
   "source": [
    "Similar to condition, the adjusted R2-value is very low (0.433). This means that only 43.3% of the price variability can be explained by this model. However, we have performed this analysis to focus on the value of each grade indivually. \n",
    "\n",
    "Similar to grade, there are some grades that signficantly and positively increase the house price. We perform the same analysis to understand which grades impact the price and which ones do not. "
   ]
  },
  {
   "cell_type": "code",
   "execution_count": null,
   "metadata": {},
   "outputs": [],
   "source": [
    "columns = ['index','pvalue']\n",
    "\n",
    "grade_pvalue_positive_table = pd.DataFrame(columns=columns)\n",
    "grade_pvalue_negative_table = pd.DataFrame(columns=columns)\n",
    "\n",
    "\n",
    "for i, a in enumerate(model_grade.pvalues):\n",
    "    if a < 0.05:\n",
    "        grade_pvalue_positive_table.loc[i] = [i,a]\n",
    "    else:\n",
    "        grade_pvalue_negative_table.loc[i] = [i,a]\n",
    "\n",
    "\n",
    "grade_pvalue_positive_table"
   ]
  },
  {
   "cell_type": "code",
   "execution_count": null,
   "metadata": {},
   "outputs": [],
   "source": [
    "grade_pvalue_negative_table"
   ]
  },
  {
   "cell_type": "code",
   "execution_count": null,
   "metadata": {},
   "outputs": [],
   "source": []
  },
  {
   "cell_type": "code",
   "execution_count": null,
   "metadata": {},
   "outputs": [],
   "source": [
    "index_grade = grade_pvalue_negative_table.index\n",
    "index_grade"
   ]
  },
  {
   "cell_type": "code",
   "execution_count": null,
   "metadata": {},
   "outputs": [],
   "source": [
    "grade_analysis"
   ]
  },
  {
   "cell_type": "code",
   "execution_count": null,
   "metadata": {},
   "outputs": [],
   "source": [
    "grade_of_interstet = []\n",
    "\n",
    "for i in index_grade:\n",
    "    grade_of_interstet.append(grade_analysis.columns[i])\n",
    "\n",
    "grade_of_interstet"
   ]
  },
  {
   "cell_type": "code",
   "execution_count": null,
   "metadata": {},
   "outputs": [],
   "source": [
    "index_grade_pos = grade_pvalue_positive_table.index\n",
    "\n",
    "grade_no_interstet = []\n",
    "\n",
    "for i in index_grade_pos:\n",
    "    grade_no_interstet.append(grade_analysis.columns[i])\n",
    "\n",
    "grade_no_interstet"
   ]
  },
  {
   "cell_type": "markdown",
   "metadata": {},
   "source": [
    "From the analysis above, we can determine that grade 9 and above significantly increase the house price, and therefore we  select only the houses with grade bewlow 9, as they are the cheaper ones. "
   ]
  },
  {
   "cell_type": "code",
   "execution_count": null,
   "metadata": {},
   "outputs": [],
   "source": [
    "     \n",
    "grade_of_interstet_name = []\n",
    "\n",
    "for i in grade_of_interstet:\n",
    "     grade_of_interstet_name.append(i[-1:])\n",
    "\n",
    "grade_of_interstet_name"
   ]
  },
  {
   "cell_type": "code",
   "execution_count": null,
   "metadata": {},
   "outputs": [],
   "source": [
    "# we select houses below grade 9\n",
    "data_new3 =  data_new2[data_new2['grade'].isin(grade_of_interstet_name)]\n",
    "\n",
    "data_new3.grade.value_counts()"
   ]
  },
  {
   "cell_type": "code",
   "execution_count": null,
   "metadata": {},
   "outputs": [],
   "source": [
    "data_new3.info()"
   ]
  },
  {
   "cell_type": "markdown",
   "metadata": {},
   "source": [
    "## EFFECTS OF NUMBER OF BEDROOMS ON PRICE\n"
   ]
  },
  {
   "cell_type": "code",
   "execution_count": null,
   "metadata": {},
   "outputs": [],
   "source": [
    "bedrooms_dummies = pd.get_dummies(data_new3['bedrooms'], prefix='bdr', drop_first=True)\n",
    "\n",
    "bedrooms_analysis = data_new3.drop(['grade'], axis=1)\n",
    "bedrooms_analysis = pd.concat([data_new3['price'], bedrooms_dummies], axis=1)\n",
    "bedrooms_analysis.head(10)"
   ]
  },
  {
   "cell_type": "code",
   "execution_count": null,
   "metadata": {},
   "outputs": [],
   "source": [
    "X_bed = bedrooms_analysis.drop('price', axis=1)\n",
    "y_bed = bedrooms_analysis['price']\n",
    "\n",
    "X_bed_int = sm.add_constant(X_bed)\n",
    "model_beds = sm.OLS(y_bed,X_bed_int).fit()\n",
    "model_beds.summary()"
   ]
  },
  {
   "cell_type": "markdown",
   "metadata": {},
   "source": [
    "The adjusted R-squared value for the whole model is 0.132, which is a very low value. This means that only 13.2% of the price variability can be explained by this model."
   ]
  },
  {
   "cell_type": "code",
   "execution_count": null,
   "metadata": {},
   "outputs": [],
   "source": [
    "columns = ['index','pvalue']\n",
    "\n",
    "bedrooms_pvalue_positive_table = pd.DataFrame(columns=columns)\n",
    "bedrooms_pvalue_negative_table = pd.DataFrame(columns=columns)\n",
    "\n",
    "\n",
    "for i, a in enumerate(model_beds.pvalues):\n",
    "    if a < 0.05:\n",
    "        bedrooms_pvalue_positive_table.loc[i] = [i,a]\n",
    "    else:\n",
    "        bedrooms_pvalue_negative_table.loc[i] = [i,a]\n",
    "\n",
    "\n",
    "bedrooms_pvalue_positive_table"
   ]
  },
  {
   "cell_type": "code",
   "execution_count": null,
   "metadata": {},
   "outputs": [],
   "source": [
    "bedrooms_pvalue_negative_table"
   ]
  },
  {
   "cell_type": "markdown",
   "metadata": {},
   "source": [
    "What this analysis indicate, is that the number of bedrooms always have an impact on the price. And the more number of rooms, the more expensive the price (since the coeficient increases with number of rooms).\n",
    "It will be up to WHPO to decide the number of rooms they want for their houses. Maybe they want one room for single people, or 3 for families.... but they need to be aware that the bigger the number of rooms, the more expensive the houses.\n",
    "Considering that WHPO may be intersted in different houses sizes, we won't furhter narrow our subset of intersting houses. "
   ]
  },
  {
   "cell_type": "markdown",
   "metadata": {},
   "source": [
    "Now that we have selected the houses with the lowest price, we want to determine how several continuous variables affect the price of the selected houses. "
   ]
  },
  {
   "cell_type": "markdown",
   "metadata": {},
   "source": [
    "\n",
    "## EFFECTS OF YEARS SINCE BUILT, SQFT LIVING AREA AND SQFT LIVING LOT ON PRICE "
   ]
  },
  {
   "cell_type": "code",
   "execution_count": null,
   "metadata": {},
   "outputs": [],
   "source": [
    "data_new3.columns"
   ]
  },
  {
   "cell_type": "code",
   "execution_count": null,
   "metadata": {},
   "outputs": [],
   "source": [
    "#We focus on the following variables, which are continuous variables:\n",
    "\n",
    "continuous_norm = ['price','sqft_living','sqft_lot', 'years_built']\n"
   ]
  },
  {
   "cell_type": "markdown",
   "metadata": {},
   "source": [
    "Let's see if these variables follow a normal distribution"
   ]
  },
  {
   "cell_type": "code",
   "execution_count": null,
   "metadata": {},
   "outputs": [],
   "source": [
    "\n",
    "import warnings\n",
    "warnings.filterwarnings('ignore')\n",
    "fig = plt.figure(figsize = (10,10))\n",
    "ax = fig.gca()\n",
    "data_new3[continuous_norm].hist(ax = ax);"
   ]
  },
  {
   "cell_type": "markdown",
   "metadata": {},
   "source": [
    "We try to improve the distribution by logaritmic transformation and normalization"
   ]
  },
  {
   "cell_type": "code",
   "execution_count": null,
   "metadata": {},
   "outputs": [],
   "source": [
    "\n",
    "\n",
    "# Log transform and normalize\n",
    "data_cont = data_new3[continuous_norm]\n",
    "\n",
    "# log features\n",
    "log_names = [f'{column}_log' for column in data_cont.columns]\n",
    "data_log = np.log(data_cont)\n",
    "data_log.columns = log_names\n",
    "# normalize (subract mean and divide by std)\n",
    "def normalize(feature):\n",
    "    return (feature - feature.mean()) / feature.std()\n",
    "\n",
    "data_log_norm = data_log.apply(normalize)\n",
    "\n",
    "data_log_norm.info()"
   ]
  },
  {
   "cell_type": "markdown",
   "metadata": {},
   "source": [
    "Let's visualize the changes in the distribution:"
   ]
  },
  {
   "cell_type": "code",
   "execution_count": null,
   "metadata": {},
   "outputs": [],
   "source": [
    "warnings.filterwarnings('ignore')\n",
    "fig = plt.figure(figsize = (10,10))\n",
    "ax = fig.gca()\n",
    "data_log_norm.hist(ax = ax);"
   ]
  },
  {
   "cell_type": "code",
   "execution_count": null,
   "metadata": {},
   "outputs": [],
   "source": [
    "#let's confirm the data that we have\n",
    "\n",
    "data_log_norm"
   ]
  },
  {
   "cell_type": "markdown",
   "metadata": {},
   "source": [
    "Now we create a regression model with these variables:"
   ]
  },
  {
   "cell_type": "code",
   "execution_count": null,
   "metadata": {},
   "outputs": [],
   "source": [
    "X_new = data_log_norm.drop('price_log', axis=1)\n",
    "y_new = data_log_norm['price_log']\n",
    "\n",
    "import statsmodels.api as sm\n",
    "X_new_int = sm.add_constant(X_new)\n",
    "model_new = sm.OLS(y_new,X_new_int).fit()\n",
    "model_new.summary()"
   ]
  },
  {
   "cell_type": "markdown",
   "metadata": {},
   "source": [
    "\n",
    "The adjusted R-squared value for the whole mode is 0.446, which is a  low value. This means that only 44.6% of the price variability can be explained by this model.\n",
    "To try to improve our model, let's check the colinearility of the variables:"
   ]
  },
  {
   "cell_type": "code",
   "execution_count": null,
   "metadata": {},
   "outputs": [],
   "source": [
    "data_log_norm.corr()\n",
    "abs(data_log_norm.corr()) > 0.75\n",
    "\n",
    "# save absolute value of correlation matrix as a data frame\n",
    "# converts all values to absolute value\n",
    "# stacks the row:column pairs into a multindex\n",
    "# reset the index to set the multindex to seperate columns\n",
    "# sort values. 0 is the column automatically generated by the stacking\n",
    "df=data_log_norm.corr().abs().stack().reset_index().sort_values(0, ascending=False)\n",
    "# zip the variable name columns (Which were only named level_0 and level_1 by default) in a new column named \"pairs\"\n",
    "df['pairs'] = list(zip(df.level_0, df.level_1))\n",
    "# set index to pairs\n",
    "df.set_index(['pairs'], inplace = True)\n",
    "#d rop level columns\n",
    "df.drop(columns=['level_1', 'level_0'], inplace = True)\n",
    "# rename correlation column as cc rather than 0\n",
    "df.columns = ['cc']\n",
    "# drop duplicates. This could be dangerous if you have variables perfectly correlated with variables other than themselves.\n",
    "# for the sake of exercise, kept it in.\n",
    "df.drop_duplicates(inplace=True)\n",
    "\n",
    "df[(df.cc>.75) & (df.cc <1)]"
   ]
  },
  {
   "cell_type": "markdown",
   "metadata": {},
   "source": [
    "From the analysis above, it doesn't seem to be any considerable correlation between variables. Now let's study interaction between variables"
   ]
  },
  {
   "cell_type": "code",
   "execution_count": null,
   "metadata": {},
   "outputs": [],
   "source": [
    "from sklearn.linear_model import LinearRegression\n",
    "from sklearn.model_selection import cross_val_score\n",
    "from sklearn.model_selection import KFold\n",
    "\n",
    "regression = LinearRegression()\n",
    "\n",
    "crossvalidation = KFold(n_splits=10, shuffle=True, random_state=1)\n",
    "baseline = np.mean(cross_val_score(regression, X_new, y_new, scoring='r2', cv=crossvalidation))\n",
    "baseline"
   ]
  },
  {
   "cell_type": "code",
   "execution_count": null,
   "metadata": {},
   "outputs": [],
   "source": [
    "from itertools import combinations\n",
    "\n",
    "crossvalidation = KFold(n_splits=10, shuffle=True, random_state=1)\n",
    "\n",
    "interactions = []\n",
    "\n",
    "feat_combinations = combinations(X_new.columns, 2)\n",
    "\n",
    "data = X_new.copy()\n",
    "for i, (a, b) in enumerate(feat_combinations):\n",
    "    data['interaction'] = data[a] * data[b]\n",
    "    score = np.mean(cross_val_score(regression, data, y_new, scoring='r2', cv=crossvalidation))\n",
    "    if score > baseline:\n",
    "        interactions.append((a, b, round(score,3)))\n",
    "    \n",
    "    if i % 50 == 0:\n",
    "        print(i)\n",
    "            \n",
    "print('Top interaction: %s' %sorted(interactions, key=lambda inter: inter[2], reverse=True)[:1])"
   ]
  },
  {
   "cell_type": "markdown",
   "metadata": {},
   "source": [
    "So from the analysis above, there are not interactions or colinearitly that we should we aware and adjust our model based on. As such, let's refresh our model and gain some insights: "
   ]
  },
  {
   "cell_type": "code",
   "execution_count": null,
   "metadata": {},
   "outputs": [],
   "source": [
    "X_new = data_log_norm.drop('price_log', axis=1)\n",
    "y_new = data_log_norm['price_log']\n",
    "\n",
    "import statsmodels.api as sm\n",
    "X_new_int = sm.add_constant(X_new)\n",
    "model_new = sm.OLS(y_new,X_new_int).fit()\n",
    "model_new.summary()"
   ]
  },
  {
   "cell_type": "markdown",
   "metadata": {},
   "source": [
    "SQFT living area and lot have a significant positive contribution to the house price in our subset of interest (the more area, the more expensive).\n",
    "Years since built has a significant negative contribution to the price (the oldest, the cheapest).\n",
    "sqft living area is the variable that affects the most to the price, as it has the highest coefficient value (coef = 0.56) and a p_value < 0.05.\n"
   ]
  },
  {
   "cell_type": "markdown",
   "metadata": {},
   "source": [
    "## MODEL VALIDATION"
   ]
  },
  {
   "cell_type": "markdown",
   "metadata": {},
   "source": [
    "Finally we validate our model creating a test sample with 20% of the datapoints. "
   ]
  },
  {
   "cell_type": "code",
   "execution_count": null,
   "metadata": {},
   "outputs": [],
   "source": [
    "from sklearn.model_selection import train_test_split\n",
    "\n",
    "X_train, X_test, y_train, y_test = train_test_split(X_new, y_new, test_size=0.2, random_state=42)\n",
    "\n",
    "print(len(X_train), len(X_test), len(y_train), len(y_test))\n",
    "\n",
    "from sklearn.linear_model import LinearRegression\n",
    "linreg = LinearRegression()\n",
    "linreg.fit(X_train, y_train)\n",
    "y_hat_train = linreg.predict(X_train)\n",
    "y_hat_test = linreg.predict(X_test)\n",
    "\n",
    "from sklearn.metrics import mean_squared_error\n",
    "train_mse = mean_squared_error(y_train, y_hat_train)\n",
    "test_mse = mean_squared_error(y_test, y_hat_test)\n",
    "print('Train Mean Squarred Error:', train_mse)\n",
    "print('Test Mean Squarred Error:', test_mse)"
   ]
  },
  {
   "cell_type": "markdown",
   "metadata": {},
   "source": [
    "The fact that there are no big difference between Test mean squarred error and Train mean squarred error validates our model. "
   ]
  },
  {
   "cell_type": "markdown",
   "metadata": {},
   "source": [
    "## CONCLUSIONS\n",
    "We provide the following business recomendations:\n",
    "\n",
    "* **Recommendations 1**: Look for non-renovated houses.\n",
    "* **Recommendations 2**: Look for houses that have no waterview.\n",
    "* **Recommendations 3**: Look for houses in the following zipcodes: 98002, 98003, 98022, 98023, 98030, 98031, 98032, 98055, 98106, 98148, 98168, 98178, 98188, 98198.\n",
    "* **Recommendations 4**: Look for houses below condition 3.\n",
    "* **Recommendations 5**: Look for houses below grade 9.\n",
    "* **Recommendations 6**: center your search on houses with the lowest sqft living. Older houses will be cheaper"
   ]
  },
  {
   "cell_type": "code",
   "execution_count": null,
   "metadata": {},
   "outputs": [],
   "source": []
  }
 ],
 "metadata": {
  "kernelspec": {
   "display_name": "Python 3",
   "language": "python",
   "name": "python3"
  },
  "language_info": {
   "codemirror_mode": {
    "name": "ipython",
    "version": 3
   },
   "file_extension": ".py",
   "mimetype": "text/x-python",
   "name": "python",
   "nbconvert_exporter": "python",
   "pygments_lexer": "ipython3",
   "version": "3.8.5"
  }
 },
 "nbformat": 4,
 "nbformat_minor": 2
}
