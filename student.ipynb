{
 "cells": [
  {
   "cell_type": "code",
   "execution_count": 96,
   "metadata": {},
   "outputs": [],
   "source": [
    "\n",
    "#data cleaning and stats\n",
    "import pandas as pd\n",
    "import numpy as np\n",
    "\n",
    "#plotting\n",
    "import seaborn as sns\n",
    "import matplotlib.pyplot as plt\n",
    "%matplotlib inline\n",
    "\n",
    "#normality check\n",
    "import scipy.stats as stats\n",
    "import statsmodels.stats.api as sms\n",
    "import statsmodels.formula.api as smf\n",
    "\n",
    "\n",
    "#linear regression (sklearn and statsmodels)\n",
    "from sklearn.linear_model import LinearRegression\n",
    "import statsmodels.api as sm\n",
    "from statsmodels.formula.api import ols\n",
    "\n",
    "#model evaluation\n",
    "from sklearn.metrics import mean_squared_error, r2_score, mean_absolute_error\n",
    "from sklearn.model_selection import train_test_split\n",
    "from math import sqrt\n",
    "from sklearn.model_selection import cross_val_score\n",
    "\n"
   ]
  },
  {
   "cell_type": "code",
   "execution_count": 50,
   "metadata": {},
   "outputs": [],
   "source": [
    "# open the data file\n",
    "\n",
    "data = pd.read_csv('./data/AirQualityUCI.csv', delimiter=';')\n"
   ]
  },
  {
   "cell_type": "markdown",
   "metadata": {},
   "source": [
    "## Data explorations"
   ]
  },
  {
   "cell_type": "code",
   "execution_count": 51,
   "metadata": {},
   "outputs": [
    {
     "data": {
      "text/html": [
       "<div>\n",
       "<style scoped>\n",
       "    .dataframe tbody tr th:only-of-type {\n",
       "        vertical-align: middle;\n",
       "    }\n",
       "\n",
       "    .dataframe tbody tr th {\n",
       "        vertical-align: top;\n",
       "    }\n",
       "\n",
       "    .dataframe thead th {\n",
       "        text-align: right;\n",
       "    }\n",
       "</style>\n",
       "<table border=\"1\" class=\"dataframe\">\n",
       "  <thead>\n",
       "    <tr style=\"text-align: right;\">\n",
       "      <th></th>\n",
       "      <th>Date</th>\n",
       "      <th>Time</th>\n",
       "      <th>CO(GT)</th>\n",
       "      <th>PT08.S1(CO)</th>\n",
       "      <th>NMHC(GT)</th>\n",
       "      <th>C6H6(GT)</th>\n",
       "      <th>PT08.S2(NMHC)</th>\n",
       "      <th>NOx(GT)</th>\n",
       "      <th>PT08.S3(NOx)</th>\n",
       "      <th>NO2(GT)</th>\n",
       "      <th>PT08.S4(NO2)</th>\n",
       "      <th>PT08.S5(O3)</th>\n",
       "      <th>T</th>\n",
       "      <th>RH</th>\n",
       "      <th>AH</th>\n",
       "      <th>Unnamed: 15</th>\n",
       "      <th>Unnamed: 16</th>\n",
       "    </tr>\n",
       "  </thead>\n",
       "  <tbody>\n",
       "    <tr>\n",
       "      <th>0</th>\n",
       "      <td>10/03/2004</td>\n",
       "      <td>18.00.00</td>\n",
       "      <td>2,6</td>\n",
       "      <td>1360.0</td>\n",
       "      <td>150.0</td>\n",
       "      <td>11,9</td>\n",
       "      <td>1046.0</td>\n",
       "      <td>166.0</td>\n",
       "      <td>1056.0</td>\n",
       "      <td>113.0</td>\n",
       "      <td>1692.0</td>\n",
       "      <td>1268.0</td>\n",
       "      <td>13,6</td>\n",
       "      <td>48,9</td>\n",
       "      <td>0,7578</td>\n",
       "      <td>NaN</td>\n",
       "      <td>NaN</td>\n",
       "    </tr>\n",
       "    <tr>\n",
       "      <th>1</th>\n",
       "      <td>10/03/2004</td>\n",
       "      <td>19.00.00</td>\n",
       "      <td>2</td>\n",
       "      <td>1292.0</td>\n",
       "      <td>112.0</td>\n",
       "      <td>9,4</td>\n",
       "      <td>955.0</td>\n",
       "      <td>103.0</td>\n",
       "      <td>1174.0</td>\n",
       "      <td>92.0</td>\n",
       "      <td>1559.0</td>\n",
       "      <td>972.0</td>\n",
       "      <td>13,3</td>\n",
       "      <td>47,7</td>\n",
       "      <td>0,7255</td>\n",
       "      <td>NaN</td>\n",
       "      <td>NaN</td>\n",
       "    </tr>\n",
       "    <tr>\n",
       "      <th>2</th>\n",
       "      <td>10/03/2004</td>\n",
       "      <td>20.00.00</td>\n",
       "      <td>2,2</td>\n",
       "      <td>1402.0</td>\n",
       "      <td>88.0</td>\n",
       "      <td>9,0</td>\n",
       "      <td>939.0</td>\n",
       "      <td>131.0</td>\n",
       "      <td>1140.0</td>\n",
       "      <td>114.0</td>\n",
       "      <td>1555.0</td>\n",
       "      <td>1074.0</td>\n",
       "      <td>11,9</td>\n",
       "      <td>54,0</td>\n",
       "      <td>0,7502</td>\n",
       "      <td>NaN</td>\n",
       "      <td>NaN</td>\n",
       "    </tr>\n",
       "    <tr>\n",
       "      <th>3</th>\n",
       "      <td>10/03/2004</td>\n",
       "      <td>21.00.00</td>\n",
       "      <td>2,2</td>\n",
       "      <td>1376.0</td>\n",
       "      <td>80.0</td>\n",
       "      <td>9,2</td>\n",
       "      <td>948.0</td>\n",
       "      <td>172.0</td>\n",
       "      <td>1092.0</td>\n",
       "      <td>122.0</td>\n",
       "      <td>1584.0</td>\n",
       "      <td>1203.0</td>\n",
       "      <td>11,0</td>\n",
       "      <td>60,0</td>\n",
       "      <td>0,7867</td>\n",
       "      <td>NaN</td>\n",
       "      <td>NaN</td>\n",
       "    </tr>\n",
       "    <tr>\n",
       "      <th>4</th>\n",
       "      <td>10/03/2004</td>\n",
       "      <td>22.00.00</td>\n",
       "      <td>1,6</td>\n",
       "      <td>1272.0</td>\n",
       "      <td>51.0</td>\n",
       "      <td>6,5</td>\n",
       "      <td>836.0</td>\n",
       "      <td>131.0</td>\n",
       "      <td>1205.0</td>\n",
       "      <td>116.0</td>\n",
       "      <td>1490.0</td>\n",
       "      <td>1110.0</td>\n",
       "      <td>11,2</td>\n",
       "      <td>59,6</td>\n",
       "      <td>0,7888</td>\n",
       "      <td>NaN</td>\n",
       "      <td>NaN</td>\n",
       "    </tr>\n",
       "  </tbody>\n",
       "</table>\n",
       "</div>"
      ],
      "text/plain": [
       "         Date      Time CO(GT)  PT08.S1(CO)  NMHC(GT) C6H6(GT)  PT08.S2(NMHC)  \\\n",
       "0  10/03/2004  18.00.00    2,6       1360.0     150.0     11,9         1046.0   \n",
       "1  10/03/2004  19.00.00      2       1292.0     112.0      9,4          955.0   \n",
       "2  10/03/2004  20.00.00    2,2       1402.0      88.0      9,0          939.0   \n",
       "3  10/03/2004  21.00.00    2,2       1376.0      80.0      9,2          948.0   \n",
       "4  10/03/2004  22.00.00    1,6       1272.0      51.0      6,5          836.0   \n",
       "\n",
       "   NOx(GT)  PT08.S3(NOx)  NO2(GT)  PT08.S4(NO2)  PT08.S5(O3)     T    RH  \\\n",
       "0    166.0        1056.0    113.0        1692.0       1268.0  13,6  48,9   \n",
       "1    103.0        1174.0     92.0        1559.0        972.0  13,3  47,7   \n",
       "2    131.0        1140.0    114.0        1555.0       1074.0  11,9  54,0   \n",
       "3    172.0        1092.0    122.0        1584.0       1203.0  11,0  60,0   \n",
       "4    131.0        1205.0    116.0        1490.0       1110.0  11,2  59,6   \n",
       "\n",
       "       AH  Unnamed: 15  Unnamed: 16  \n",
       "0  0,7578          NaN          NaN  \n",
       "1  0,7255          NaN          NaN  \n",
       "2  0,7502          NaN          NaN  \n",
       "3  0,7867          NaN          NaN  \n",
       "4  0,7888          NaN          NaN  "
      ]
     },
     "execution_count": 51,
     "metadata": {},
     "output_type": "execute_result"
    }
   ],
   "source": [
    "data.head()"
   ]
  },
  {
   "cell_type": "code",
   "execution_count": 52,
   "metadata": {},
   "outputs": [],
   "source": [
    "data.columns=data.columns.str.replace('[(,),.]','')\n"
   ]
  },
  {
   "cell_type": "code",
   "execution_count": 53,
   "metadata": {},
   "outputs": [
    {
     "name": "stdout",
     "output_type": "stream",
     "text": [
      "<class 'pandas.core.frame.DataFrame'>\n",
      "RangeIndex: 9471 entries, 0 to 9470\n",
      "Data columns (total 17 columns):\n",
      " #   Column       Non-Null Count  Dtype  \n",
      "---  ------       --------------  -----  \n",
      " 0   Date         9357 non-null   object \n",
      " 1   Time         9357 non-null   object \n",
      " 2   COGT         9357 non-null   object \n",
      " 3   PT08S1CO     9357 non-null   float64\n",
      " 4   NMHCGT       9357 non-null   float64\n",
      " 5   C6H6GT       9357 non-null   object \n",
      " 6   PT08S2NMHC   9357 non-null   float64\n",
      " 7   NOxGT        9357 non-null   float64\n",
      " 8   PT08S3NOx    9357 non-null   float64\n",
      " 9   NO2GT        9357 non-null   float64\n",
      " 10  PT08S4NO2    9357 non-null   float64\n",
      " 11  PT08S5O3     9357 non-null   float64\n",
      " 12  T            9357 non-null   object \n",
      " 13  RH           9357 non-null   object \n",
      " 14  AH           9357 non-null   object \n",
      " 15  Unnamed: 15  0 non-null      float64\n",
      " 16  Unnamed: 16  0 non-null      float64\n",
      "dtypes: float64(10), object(7)\n",
      "memory usage: 1.2+ MB\n"
     ]
    }
   ],
   "source": [
    "data.info()"
   ]
  },
  {
   "cell_type": "markdown",
   "metadata": {},
   "source": [
    "Let's deal with NaN data. From the data above, we know that there are 3842 rows with NaN values, which represents 17.7% of the total values. Since this correspond to a small percentage, we proceed to delete the rows that contain Nan values.\n"
   ]
  },
  {
   "cell_type": "code",
   "execution_count": 54,
   "metadata": {},
   "outputs": [
    {
     "name": "stdout",
     "output_type": "stream",
     "text": [
      "<class 'pandas.core.frame.DataFrame'>\n",
      "RangeIndex: 9471 entries, 0 to 9470\n",
      "Data columns (total 13 columns):\n",
      " #   Column      Non-Null Count  Dtype  \n",
      "---  ------      --------------  -----  \n",
      " 0   COGT        9357 non-null   object \n",
      " 1   PT08S1CO    9357 non-null   float64\n",
      " 2   NMHCGT      9357 non-null   float64\n",
      " 3   C6H6GT      9357 non-null   object \n",
      " 4   PT08S2NMHC  9357 non-null   float64\n",
      " 5   NOxGT       9357 non-null   float64\n",
      " 6   PT08S3NOx   9357 non-null   float64\n",
      " 7   NO2GT       9357 non-null   float64\n",
      " 8   PT08S4NO2   9357 non-null   float64\n",
      " 9   PT08S5O3    9357 non-null   float64\n",
      " 10  T           9357 non-null   object \n",
      " 11  RH          9357 non-null   object \n",
      " 12  AH          9357 non-null   object \n",
      "dtypes: float64(8), object(5)\n",
      "memory usage: 962.0+ KB\n"
     ]
    }
   ],
   "source": [
    "data = data.drop(['Unnamed: 15'], axis=1)\n",
    "data = data.drop(['Unnamed: 16'], axis=1)\n",
    "data = data.drop(['Date'], axis=1)\n",
    "data = data.drop(['Time'], axis=1)\n",
    "\n",
    "\n",
    "data.info()\n"
   ]
  },
  {
   "cell_type": "code",
   "execution_count": 55,
   "metadata": {},
   "outputs": [
    {
     "data": {
      "text/plain": [
       "COGT          114\n",
       "PT08S1CO      114\n",
       "NMHCGT        114\n",
       "C6H6GT        114\n",
       "PT08S2NMHC    114\n",
       "NOxGT         114\n",
       "PT08S3NOx     114\n",
       "NO2GT         114\n",
       "PT08S4NO2     114\n",
       "PT08S5O3      114\n",
       "T             114\n",
       "RH            114\n",
       "AH            114\n",
       "dtype: int64"
      ]
     },
     "execution_count": 55,
     "metadata": {},
     "output_type": "execute_result"
    }
   ],
   "source": [
    "#inspect for any columns with null values\n",
    "data.isna().sum()"
   ]
  },
  {
   "cell_type": "code",
   "execution_count": 56,
   "metadata": {},
   "outputs": [],
   "source": [
    "data = data.dropna()\n"
   ]
  },
  {
   "cell_type": "code",
   "execution_count": 57,
   "metadata": {},
   "outputs": [
    {
     "data": {
      "text/html": [
       "<div>\n",
       "<style scoped>\n",
       "    .dataframe tbody tr th:only-of-type {\n",
       "        vertical-align: middle;\n",
       "    }\n",
       "\n",
       "    .dataframe tbody tr th {\n",
       "        vertical-align: top;\n",
       "    }\n",
       "\n",
       "    .dataframe thead th {\n",
       "        text-align: right;\n",
       "    }\n",
       "</style>\n",
       "<table border=\"1\" class=\"dataframe\">\n",
       "  <thead>\n",
       "    <tr style=\"text-align: right;\">\n",
       "      <th></th>\n",
       "      <th>COGT</th>\n",
       "      <th>PT08S1CO</th>\n",
       "      <th>NMHCGT</th>\n",
       "      <th>C6H6GT</th>\n",
       "      <th>PT08S2NMHC</th>\n",
       "      <th>NOxGT</th>\n",
       "      <th>PT08S3NOx</th>\n",
       "      <th>NO2GT</th>\n",
       "      <th>PT08S4NO2</th>\n",
       "      <th>PT08S5O3</th>\n",
       "      <th>T</th>\n",
       "      <th>RH</th>\n",
       "      <th>AH</th>\n",
       "    </tr>\n",
       "  </thead>\n",
       "  <tbody>\n",
       "    <tr>\n",
       "      <th>5690</th>\n",
       "      <td>9,2</td>\n",
       "      <td>1778.0</td>\n",
       "      <td>-200.0</td>\n",
       "      <td>48,2</td>\n",
       "      <td>1935.0</td>\n",
       "      <td>859.0</td>\n",
       "      <td>349.0</td>\n",
       "      <td>119.0</td>\n",
       "      <td>2643.0</td>\n",
       "      <td>1927.0</td>\n",
       "      <td>20,9</td>\n",
       "      <td>67,5</td>\n",
       "      <td>1,6539</td>\n",
       "    </tr>\n",
       "    <tr>\n",
       "      <th>6696</th>\n",
       "      <td>9,3</td>\n",
       "      <td>-200.0</td>\n",
       "      <td>-200.0</td>\n",
       "      <td>-200,0</td>\n",
       "      <td>-200.0</td>\n",
       "      <td>1310.0</td>\n",
       "      <td>-200.0</td>\n",
       "      <td>248.0</td>\n",
       "      <td>-200.0</td>\n",
       "      <td>-200.0</td>\n",
       "      <td>-200</td>\n",
       "      <td>-200</td>\n",
       "      <td>-200</td>\n",
       "    </tr>\n",
       "    <tr>\n",
       "      <th>6409</th>\n",
       "      <td>9,4</td>\n",
       "      <td>1816.0</td>\n",
       "      <td>-200.0</td>\n",
       "      <td>43,9</td>\n",
       "      <td>1851.0</td>\n",
       "      <td>1184.0</td>\n",
       "      <td>341.0</td>\n",
       "      <td>171.0</td>\n",
       "      <td>2405.0</td>\n",
       "      <td>2069.0</td>\n",
       "      <td>15,4</td>\n",
       "      <td>73,0</td>\n",
       "      <td>1,2688</td>\n",
       "    </tr>\n",
       "    <tr>\n",
       "      <th>5520</th>\n",
       "      <td>9,5</td>\n",
       "      <td>1908.0</td>\n",
       "      <td>-200.0</td>\n",
       "      <td>52,1</td>\n",
       "      <td>2007.0</td>\n",
       "      <td>952.0</td>\n",
       "      <td>325.0</td>\n",
       "      <td>180.0</td>\n",
       "      <td>2775.0</td>\n",
       "      <td>2372.0</td>\n",
       "      <td>22,5</td>\n",
       "      <td>61,5</td>\n",
       "      <td>1,6579</td>\n",
       "    </tr>\n",
       "    <tr>\n",
       "      <th>6672</th>\n",
       "      <td>9,9</td>\n",
       "      <td>1881.0</td>\n",
       "      <td>-200.0</td>\n",
       "      <td>50,8</td>\n",
       "      <td>1983.0</td>\n",
       "      <td>1479.0</td>\n",
       "      <td>334.0</td>\n",
       "      <td>269.0</td>\n",
       "      <td>2271.0</td>\n",
       "      <td>2523.0</td>\n",
       "      <td>12,6</td>\n",
       "      <td>55,9</td>\n",
       "      <td>0,8142</td>\n",
       "    </tr>\n",
       "  </tbody>\n",
       "</table>\n",
       "</div>"
      ],
      "text/plain": [
       "     COGT  PT08S1CO  NMHCGT  C6H6GT  PT08S2NMHC   NOxGT  PT08S3NOx  NO2GT  \\\n",
       "5690  9,2    1778.0  -200.0    48,2      1935.0   859.0      349.0  119.0   \n",
       "6696  9,3    -200.0  -200.0  -200,0      -200.0  1310.0     -200.0  248.0   \n",
       "6409  9,4    1816.0  -200.0    43,9      1851.0  1184.0      341.0  171.0   \n",
       "5520  9,5    1908.0  -200.0    52,1      2007.0   952.0      325.0  180.0   \n",
       "6672  9,9    1881.0  -200.0    50,8      1983.0  1479.0      334.0  269.0   \n",
       "\n",
       "      PT08S4NO2  PT08S5O3     T    RH      AH  \n",
       "5690     2643.0    1927.0  20,9  67,5  1,6539  \n",
       "6696     -200.0    -200.0  -200  -200    -200  \n",
       "6409     2405.0    2069.0  15,4  73,0  1,2688  \n",
       "5520     2775.0    2372.0  22,5  61,5  1,6579  \n",
       "6672     2271.0    2523.0  12,6  55,9  0,8142  "
      ]
     },
     "execution_count": 57,
     "metadata": {},
     "output_type": "execute_result"
    }
   ],
   "source": [
    "#data['CO(GT)'].tail()\n",
    "data.sort_values('COGT').tail()\n",
    "#GT means gygatone?"
   ]
  },
  {
   "cell_type": "code",
   "execution_count": 58,
   "metadata": {},
   "outputs": [
    {
     "data": {
      "text/plain": [
       "1592"
      ]
     },
     "execution_count": 58,
     "metadata": {},
     "output_type": "execute_result"
    }
   ],
   "source": [
    "len(data[data['COGT'] == '-200'])\n"
   ]
  },
  {
   "cell_type": "code",
   "execution_count": 59,
   "metadata": {},
   "outputs": [
    {
     "data": {
      "text/html": [
       "<div>\n",
       "<style scoped>\n",
       "    .dataframe tbody tr th:only-of-type {\n",
       "        vertical-align: middle;\n",
       "    }\n",
       "\n",
       "    .dataframe tbody tr th {\n",
       "        vertical-align: top;\n",
       "    }\n",
       "\n",
       "    .dataframe thead th {\n",
       "        text-align: right;\n",
       "    }\n",
       "</style>\n",
       "<table border=\"1\" class=\"dataframe\">\n",
       "  <thead>\n",
       "    <tr style=\"text-align: right;\">\n",
       "      <th></th>\n",
       "      <th>COGT</th>\n",
       "      <th>PT08S1CO</th>\n",
       "      <th>NMHCGT</th>\n",
       "      <th>C6H6GT</th>\n",
       "      <th>PT08S2NMHC</th>\n",
       "      <th>NOxGT</th>\n",
       "      <th>PT08S3NOx</th>\n",
       "      <th>NO2GT</th>\n",
       "      <th>PT08S4NO2</th>\n",
       "      <th>PT08S5O3</th>\n",
       "      <th>T</th>\n",
       "      <th>RH</th>\n",
       "      <th>AH</th>\n",
       "    </tr>\n",
       "  </thead>\n",
       "  <tbody>\n",
       "    <tr>\n",
       "      <th>10</th>\n",
       "      <td>-200</td>\n",
       "      <td>1011.0</td>\n",
       "      <td>14.0</td>\n",
       "      <td>1,3</td>\n",
       "      <td>527.0</td>\n",
       "      <td>21.0</td>\n",
       "      <td>1818.0</td>\n",
       "      <td>34.0</td>\n",
       "      <td>1197.0</td>\n",
       "      <td>445.0</td>\n",
       "      <td>10,1</td>\n",
       "      <td>60,5</td>\n",
       "      <td>0,7465</td>\n",
       "    </tr>\n",
       "    <tr>\n",
       "      <th>34</th>\n",
       "      <td>-200</td>\n",
       "      <td>831.0</td>\n",
       "      <td>10.0</td>\n",
       "      <td>1,1</td>\n",
       "      <td>506.0</td>\n",
       "      <td>21.0</td>\n",
       "      <td>1893.0</td>\n",
       "      <td>32.0</td>\n",
       "      <td>1134.0</td>\n",
       "      <td>384.0</td>\n",
       "      <td>6,1</td>\n",
       "      <td>65,9</td>\n",
       "      <td>0,6248</td>\n",
       "    </tr>\n",
       "    <tr>\n",
       "      <th>39</th>\n",
       "      <td>-200</td>\n",
       "      <td>1545.0</td>\n",
       "      <td>-200.0</td>\n",
       "      <td>22,1</td>\n",
       "      <td>1353.0</td>\n",
       "      <td>-200.0</td>\n",
       "      <td>767.0</td>\n",
       "      <td>-200.0</td>\n",
       "      <td>2058.0</td>\n",
       "      <td>1588.0</td>\n",
       "      <td>9,2</td>\n",
       "      <td>56,2</td>\n",
       "      <td>0,6561</td>\n",
       "    </tr>\n",
       "    <tr>\n",
       "      <th>58</th>\n",
       "      <td>-200</td>\n",
       "      <td>1147.0</td>\n",
       "      <td>56.0</td>\n",
       "      <td>6,2</td>\n",
       "      <td>821.0</td>\n",
       "      <td>109.0</td>\n",
       "      <td>1132.0</td>\n",
       "      <td>83.0</td>\n",
       "      <td>1412.0</td>\n",
       "      <td>992.0</td>\n",
       "      <td>7,0</td>\n",
       "      <td>71,1</td>\n",
       "      <td>0,7158</td>\n",
       "    </tr>\n",
       "    <tr>\n",
       "      <th>82</th>\n",
       "      <td>-200</td>\n",
       "      <td>1130.0</td>\n",
       "      <td>56.0</td>\n",
       "      <td>5,2</td>\n",
       "      <td>773.0</td>\n",
       "      <td>70.0</td>\n",
       "      <td>1130.0</td>\n",
       "      <td>82.0</td>\n",
       "      <td>1452.0</td>\n",
       "      <td>1051.0</td>\n",
       "      <td>12,1</td>\n",
       "      <td>61,1</td>\n",
       "      <td>0,8603</td>\n",
       "    </tr>\n",
       "    <tr>\n",
       "      <th>...</th>\n",
       "      <td>...</td>\n",
       "      <td>...</td>\n",
       "      <td>...</td>\n",
       "      <td>...</td>\n",
       "      <td>...</td>\n",
       "      <td>...</td>\n",
       "      <td>...</td>\n",
       "      <td>...</td>\n",
       "      <td>...</td>\n",
       "      <td>...</td>\n",
       "      <td>...</td>\n",
       "      <td>...</td>\n",
       "      <td>...</td>\n",
       "    </tr>\n",
       "    <tr>\n",
       "      <th>7306</th>\n",
       "      <td>-200</td>\n",
       "      <td>934.0</td>\n",
       "      <td>-200.0</td>\n",
       "      <td>2,3</td>\n",
       "      <td>609.0</td>\n",
       "      <td>70.0</td>\n",
       "      <td>976.0</td>\n",
       "      <td>55.0</td>\n",
       "      <td>1094.0</td>\n",
       "      <td>581.0</td>\n",
       "      <td>13,7</td>\n",
       "      <td>61,1</td>\n",
       "      <td>0,9537</td>\n",
       "    </tr>\n",
       "    <tr>\n",
       "      <th>7378</th>\n",
       "      <td>-200</td>\n",
       "      <td>1002.0</td>\n",
       "      <td>-200.0</td>\n",
       "      <td>4,2</td>\n",
       "      <td>722.0</td>\n",
       "      <td>162.0</td>\n",
       "      <td>807.0</td>\n",
       "      <td>85.0</td>\n",
       "      <td>1161.0</td>\n",
       "      <td>998.0</td>\n",
       "      <td>10,7</td>\n",
       "      <td>71,3</td>\n",
       "      <td>0,9161</td>\n",
       "    </tr>\n",
       "    <tr>\n",
       "      <th>7450</th>\n",
       "      <td>-200</td>\n",
       "      <td>978.0</td>\n",
       "      <td>-200.0</td>\n",
       "      <td>4,8</td>\n",
       "      <td>756.0</td>\n",
       "      <td>266.0</td>\n",
       "      <td>834.0</td>\n",
       "      <td>115.0</td>\n",
       "      <td>1015.0</td>\n",
       "      <td>878.0</td>\n",
       "      <td>2,4</td>\n",
       "      <td>86,6</td>\n",
       "      <td>0,6369</td>\n",
       "    </tr>\n",
       "    <tr>\n",
       "      <th>7522</th>\n",
       "      <td>-200</td>\n",
       "      <td>873.0</td>\n",
       "      <td>-200.0</td>\n",
       "      <td>2,1</td>\n",
       "      <td>592.0</td>\n",
       "      <td>108.0</td>\n",
       "      <td>1076.0</td>\n",
       "      <td>83.0</td>\n",
       "      <td>869.0</td>\n",
       "      <td>915.0</td>\n",
       "      <td>4,5</td>\n",
       "      <td>53,8</td>\n",
       "      <td>0,4572</td>\n",
       "    </tr>\n",
       "    <tr>\n",
       "      <th>7594</th>\n",
       "      <td>-200</td>\n",
       "      <td>1071.0</td>\n",
       "      <td>-200.0</td>\n",
       "      <td>5,9</td>\n",
       "      <td>808.0</td>\n",
       "      <td>221.0</td>\n",
       "      <td>757.0</td>\n",
       "      <td>101.0</td>\n",
       "      <td>1046.0</td>\n",
       "      <td>1172.0</td>\n",
       "      <td>5,4</td>\n",
       "      <td>65,9</td>\n",
       "      <td>0,5947</td>\n",
       "    </tr>\n",
       "  </tbody>\n",
       "</table>\n",
       "<p>1592 rows × 13 columns</p>\n",
       "</div>"
      ],
      "text/plain": [
       "      COGT  PT08S1CO  NMHCGT C6H6GT  PT08S2NMHC  NOxGT  PT08S3NOx  NO2GT  \\\n",
       "10    -200    1011.0    14.0    1,3       527.0   21.0     1818.0   34.0   \n",
       "34    -200     831.0    10.0    1,1       506.0   21.0     1893.0   32.0   \n",
       "39    -200    1545.0  -200.0   22,1      1353.0 -200.0      767.0 -200.0   \n",
       "58    -200    1147.0    56.0    6,2       821.0  109.0     1132.0   83.0   \n",
       "82    -200    1130.0    56.0    5,2       773.0   70.0     1130.0   82.0   \n",
       "...    ...       ...     ...    ...         ...    ...        ...    ...   \n",
       "7306  -200     934.0  -200.0    2,3       609.0   70.0      976.0   55.0   \n",
       "7378  -200    1002.0  -200.0    4,2       722.0  162.0      807.0   85.0   \n",
       "7450  -200     978.0  -200.0    4,8       756.0  266.0      834.0  115.0   \n",
       "7522  -200     873.0  -200.0    2,1       592.0  108.0     1076.0   83.0   \n",
       "7594  -200    1071.0  -200.0    5,9       808.0  221.0      757.0  101.0   \n",
       "\n",
       "      PT08S4NO2  PT08S5O3     T    RH      AH  \n",
       "10       1197.0     445.0  10,1  60,5  0,7465  \n",
       "34       1134.0     384.0   6,1  65,9  0,6248  \n",
       "39       2058.0    1588.0   9,2  56,2  0,6561  \n",
       "58       1412.0     992.0   7,0  71,1  0,7158  \n",
       "82       1452.0    1051.0  12,1  61,1  0,8603  \n",
       "...         ...       ...   ...   ...     ...  \n",
       "7306     1094.0     581.0  13,7  61,1  0,9537  \n",
       "7378     1161.0     998.0  10,7  71,3  0,9161  \n",
       "7450     1015.0     878.0   2,4  86,6  0,6369  \n",
       "7522      869.0     915.0   4,5  53,8  0,4572  \n",
       "7594     1046.0    1172.0   5,4  65,9  0,5947  \n",
       "\n",
       "[1592 rows x 13 columns]"
      ]
     },
     "execution_count": 59,
     "metadata": {},
     "output_type": "execute_result"
    }
   ],
   "source": [
    "data[data['COGT'] == '-200']"
   ]
  },
  {
   "cell_type": "code",
   "execution_count": 60,
   "metadata": {},
   "outputs": [
    {
     "data": {
      "text/plain": [
       "-200    1592\n",
       "1,4      279\n",
       "1,6      275\n",
       "1,5      273\n",
       "1,1      262\n",
       "        ... \n",
       "11,9       1\n",
       "9,9        1\n",
       "7          1\n",
       "9,2        1\n",
       "7,6        1\n",
       "Name: COGT, Length: 104, dtype: int64"
      ]
     },
     "execution_count": 60,
     "metadata": {},
     "output_type": "execute_result"
    }
   ],
   "source": [
    "data['COGT'].value_counts()"
   ]
  },
  {
   "cell_type": "code",
   "execution_count": 61,
   "metadata": {},
   "outputs": [],
   "source": [
    "def cleaning_and_median(name_column):\n",
    "    data[name_column] = data[name_column].astype(str)\n",
    "    data[name_column] = data[name_column].str.replace(\",\",\".\")\n",
    "    data[name_column] = data[name_column].astype(str).astype(float)\n",
    "    data[name_column] = data[name_column].replace(-200,data[name_column].median())\n"
   ]
  },
  {
   "cell_type": "code",
   "execution_count": 62,
   "metadata": {},
   "outputs": [
    {
     "data": {
      "text/plain": [
       "Index(['COGT', 'PT08S1CO', 'NMHCGT', 'C6H6GT', 'PT08S2NMHC', 'NOxGT',\n",
       "       'PT08S3NOx', 'NO2GT', 'PT08S4NO2', 'PT08S5O3', 'T', 'RH', 'AH'],\n",
       "      dtype='object')"
      ]
     },
     "execution_count": 62,
     "metadata": {},
     "output_type": "execute_result"
    }
   ],
   "source": [
    "data.columns"
   ]
  },
  {
   "cell_type": "code",
   "execution_count": 63,
   "metadata": {},
   "outputs": [],
   "source": [
    "#columns_clean_median = ['CO(GT)','C6H6(GT)','T', 'RH', 'AH']\n",
    "\n",
    "for i in data.columns:\n",
    "    cleaning_and_median(i)"
   ]
  },
  {
   "cell_type": "code",
   "execution_count": 64,
   "metadata": {},
   "outputs": [
    {
     "data": {
      "text/html": [
       "<div>\n",
       "<style scoped>\n",
       "    .dataframe tbody tr th:only-of-type {\n",
       "        vertical-align: middle;\n",
       "    }\n",
       "\n",
       "    .dataframe tbody tr th {\n",
       "        vertical-align: top;\n",
       "    }\n",
       "\n",
       "    .dataframe thead th {\n",
       "        text-align: right;\n",
       "    }\n",
       "</style>\n",
       "<table border=\"1\" class=\"dataframe\">\n",
       "  <thead>\n",
       "    <tr style=\"text-align: right;\">\n",
       "      <th></th>\n",
       "      <th>COGT</th>\n",
       "      <th>PT08S1CO</th>\n",
       "      <th>NMHCGT</th>\n",
       "      <th>C6H6GT</th>\n",
       "      <th>PT08S2NMHC</th>\n",
       "      <th>NOxGT</th>\n",
       "      <th>PT08S3NOx</th>\n",
       "      <th>NO2GT</th>\n",
       "      <th>PT08S4NO2</th>\n",
       "      <th>PT08S5O3</th>\n",
       "      <th>T</th>\n",
       "      <th>RH</th>\n",
       "      <th>AH</th>\n",
       "    </tr>\n",
       "  </thead>\n",
       "  <tbody>\n",
       "    <tr>\n",
       "      <th>0</th>\n",
       "      <td>2.6</td>\n",
       "      <td>1360.0</td>\n",
       "      <td>150.0</td>\n",
       "      <td>11.9</td>\n",
       "      <td>1046.0</td>\n",
       "      <td>166.0</td>\n",
       "      <td>1056.0</td>\n",
       "      <td>113.0</td>\n",
       "      <td>1692.0</td>\n",
       "      <td>1268.0</td>\n",
       "      <td>13.6</td>\n",
       "      <td>48.9</td>\n",
       "      <td>0.7578</td>\n",
       "    </tr>\n",
       "    <tr>\n",
       "      <th>1</th>\n",
       "      <td>2.0</td>\n",
       "      <td>1292.0</td>\n",
       "      <td>112.0</td>\n",
       "      <td>9.4</td>\n",
       "      <td>955.0</td>\n",
       "      <td>103.0</td>\n",
       "      <td>1174.0</td>\n",
       "      <td>92.0</td>\n",
       "      <td>1559.0</td>\n",
       "      <td>972.0</td>\n",
       "      <td>13.3</td>\n",
       "      <td>47.7</td>\n",
       "      <td>0.7255</td>\n",
       "    </tr>\n",
       "    <tr>\n",
       "      <th>2</th>\n",
       "      <td>2.2</td>\n",
       "      <td>1402.0</td>\n",
       "      <td>88.0</td>\n",
       "      <td>9.0</td>\n",
       "      <td>939.0</td>\n",
       "      <td>131.0</td>\n",
       "      <td>1140.0</td>\n",
       "      <td>114.0</td>\n",
       "      <td>1555.0</td>\n",
       "      <td>1074.0</td>\n",
       "      <td>11.9</td>\n",
       "      <td>54.0</td>\n",
       "      <td>0.7502</td>\n",
       "    </tr>\n",
       "    <tr>\n",
       "      <th>3</th>\n",
       "      <td>2.2</td>\n",
       "      <td>1376.0</td>\n",
       "      <td>80.0</td>\n",
       "      <td>9.2</td>\n",
       "      <td>948.0</td>\n",
       "      <td>172.0</td>\n",
       "      <td>1092.0</td>\n",
       "      <td>122.0</td>\n",
       "      <td>1584.0</td>\n",
       "      <td>1203.0</td>\n",
       "      <td>11.0</td>\n",
       "      <td>60.0</td>\n",
       "      <td>0.7867</td>\n",
       "    </tr>\n",
       "    <tr>\n",
       "      <th>4</th>\n",
       "      <td>1.6</td>\n",
       "      <td>1272.0</td>\n",
       "      <td>51.0</td>\n",
       "      <td>6.5</td>\n",
       "      <td>836.0</td>\n",
       "      <td>131.0</td>\n",
       "      <td>1205.0</td>\n",
       "      <td>116.0</td>\n",
       "      <td>1490.0</td>\n",
       "      <td>1110.0</td>\n",
       "      <td>11.2</td>\n",
       "      <td>59.6</td>\n",
       "      <td>0.7888</td>\n",
       "    </tr>\n",
       "    <tr>\n",
       "      <th>...</th>\n",
       "      <td>...</td>\n",
       "      <td>...</td>\n",
       "      <td>...</td>\n",
       "      <td>...</td>\n",
       "      <td>...</td>\n",
       "      <td>...</td>\n",
       "      <td>...</td>\n",
       "      <td>...</td>\n",
       "      <td>...</td>\n",
       "      <td>...</td>\n",
       "      <td>...</td>\n",
       "      <td>...</td>\n",
       "      <td>...</td>\n",
       "    </tr>\n",
       "    <tr>\n",
       "      <th>9352</th>\n",
       "      <td>3.1</td>\n",
       "      <td>1314.0</td>\n",
       "      <td>-200.0</td>\n",
       "      <td>13.5</td>\n",
       "      <td>1101.0</td>\n",
       "      <td>472.0</td>\n",
       "      <td>539.0</td>\n",
       "      <td>190.0</td>\n",
       "      <td>1374.0</td>\n",
       "      <td>1729.0</td>\n",
       "      <td>21.9</td>\n",
       "      <td>29.3</td>\n",
       "      <td>0.7568</td>\n",
       "    </tr>\n",
       "    <tr>\n",
       "      <th>9353</th>\n",
       "      <td>2.4</td>\n",
       "      <td>1163.0</td>\n",
       "      <td>-200.0</td>\n",
       "      <td>11.4</td>\n",
       "      <td>1027.0</td>\n",
       "      <td>353.0</td>\n",
       "      <td>604.0</td>\n",
       "      <td>179.0</td>\n",
       "      <td>1264.0</td>\n",
       "      <td>1269.0</td>\n",
       "      <td>24.3</td>\n",
       "      <td>23.7</td>\n",
       "      <td>0.7119</td>\n",
       "    </tr>\n",
       "    <tr>\n",
       "      <th>9354</th>\n",
       "      <td>2.4</td>\n",
       "      <td>1142.0</td>\n",
       "      <td>-200.0</td>\n",
       "      <td>12.4</td>\n",
       "      <td>1063.0</td>\n",
       "      <td>293.0</td>\n",
       "      <td>603.0</td>\n",
       "      <td>175.0</td>\n",
       "      <td>1241.0</td>\n",
       "      <td>1092.0</td>\n",
       "      <td>26.9</td>\n",
       "      <td>18.3</td>\n",
       "      <td>0.6406</td>\n",
       "    </tr>\n",
       "    <tr>\n",
       "      <th>9355</th>\n",
       "      <td>2.1</td>\n",
       "      <td>1003.0</td>\n",
       "      <td>-200.0</td>\n",
       "      <td>9.5</td>\n",
       "      <td>961.0</td>\n",
       "      <td>235.0</td>\n",
       "      <td>702.0</td>\n",
       "      <td>156.0</td>\n",
       "      <td>1041.0</td>\n",
       "      <td>770.0</td>\n",
       "      <td>28.3</td>\n",
       "      <td>13.5</td>\n",
       "      <td>0.5139</td>\n",
       "    </tr>\n",
       "    <tr>\n",
       "      <th>9356</th>\n",
       "      <td>2.2</td>\n",
       "      <td>1071.0</td>\n",
       "      <td>-200.0</td>\n",
       "      <td>11.9</td>\n",
       "      <td>1047.0</td>\n",
       "      <td>265.0</td>\n",
       "      <td>654.0</td>\n",
       "      <td>168.0</td>\n",
       "      <td>1129.0</td>\n",
       "      <td>816.0</td>\n",
       "      <td>28.5</td>\n",
       "      <td>13.1</td>\n",
       "      <td>0.5028</td>\n",
       "    </tr>\n",
       "  </tbody>\n",
       "</table>\n",
       "<p>9357 rows × 13 columns</p>\n",
       "</div>"
      ],
      "text/plain": [
       "      COGT  PT08S1CO  NMHCGT  C6H6GT  PT08S2NMHC  NOxGT  PT08S3NOx  NO2GT  \\\n",
       "0      2.6    1360.0   150.0    11.9      1046.0  166.0     1056.0  113.0   \n",
       "1      2.0    1292.0   112.0     9.4       955.0  103.0     1174.0   92.0   \n",
       "2      2.2    1402.0    88.0     9.0       939.0  131.0     1140.0  114.0   \n",
       "3      2.2    1376.0    80.0     9.2       948.0  172.0     1092.0  122.0   \n",
       "4      1.6    1272.0    51.0     6.5       836.0  131.0     1205.0  116.0   \n",
       "...    ...       ...     ...     ...         ...    ...        ...    ...   \n",
       "9352   3.1    1314.0  -200.0    13.5      1101.0  472.0      539.0  190.0   \n",
       "9353   2.4    1163.0  -200.0    11.4      1027.0  353.0      604.0  179.0   \n",
       "9354   2.4    1142.0  -200.0    12.4      1063.0  293.0      603.0  175.0   \n",
       "9355   2.1    1003.0  -200.0     9.5       961.0  235.0      702.0  156.0   \n",
       "9356   2.2    1071.0  -200.0    11.9      1047.0  265.0      654.0  168.0   \n",
       "\n",
       "      PT08S4NO2  PT08S5O3     T    RH      AH  \n",
       "0        1692.0    1268.0  13.6  48.9  0.7578  \n",
       "1        1559.0     972.0  13.3  47.7  0.7255  \n",
       "2        1555.0    1074.0  11.9  54.0  0.7502  \n",
       "3        1584.0    1203.0  11.0  60.0  0.7867  \n",
       "4        1490.0    1110.0  11.2  59.6  0.7888  \n",
       "...         ...       ...   ...   ...     ...  \n",
       "9352     1374.0    1729.0  21.9  29.3  0.7568  \n",
       "9353     1264.0    1269.0  24.3  23.7  0.7119  \n",
       "9354     1241.0    1092.0  26.9  18.3  0.6406  \n",
       "9355     1041.0     770.0  28.3  13.5  0.5139  \n",
       "9356     1129.0     816.0  28.5  13.1  0.5028  \n",
       "\n",
       "[9357 rows x 13 columns]"
      ]
     },
     "execution_count": 64,
     "metadata": {},
     "output_type": "execute_result"
    }
   ],
   "source": [
    "data"
   ]
  },
  {
   "cell_type": "code",
   "execution_count": 65,
   "metadata": {},
   "outputs": [
    {
     "data": {
      "text/plain": [
       "-200.0"
      ]
     },
     "execution_count": 65,
     "metadata": {},
     "output_type": "execute_result"
    }
   ],
   "source": [
    "data['NMHCGT'].median()"
   ]
  },
  {
   "cell_type": "code",
   "execution_count": 66,
   "metadata": {},
   "outputs": [
    {
     "data": {
      "text/plain": [
       "-200.0    8443\n",
       " 66.0       14\n",
       " 40.0        9\n",
       " 29.0        9\n",
       " 93.0        8\n",
       "          ... \n",
       " 131.0       1\n",
       " 102.0       1\n",
       " 383.0       1\n",
       " 228.0       1\n",
       " 541.0       1\n",
       "Name: NMHCGT, Length: 430, dtype: int64"
      ]
     },
     "execution_count": 66,
     "metadata": {},
     "output_type": "execute_result"
    }
   ],
   "source": [
    "data['NMHCGT'].value_counts()"
   ]
  },
  {
   "cell_type": "markdown",
   "metadata": {},
   "source": [
    "since the median is -200, we decide to eliminate this column"
   ]
  },
  {
   "cell_type": "code",
   "execution_count": 67,
   "metadata": {},
   "outputs": [
    {
     "name": "stdout",
     "output_type": "stream",
     "text": [
      "<class 'pandas.core.frame.DataFrame'>\n",
      "Int64Index: 9357 entries, 0 to 9356\n",
      "Data columns (total 12 columns):\n",
      " #   Column      Non-Null Count  Dtype  \n",
      "---  ------      --------------  -----  \n",
      " 0   COGT        9357 non-null   float64\n",
      " 1   PT08S1CO    9357 non-null   float64\n",
      " 2   C6H6GT      9357 non-null   float64\n",
      " 3   PT08S2NMHC  9357 non-null   float64\n",
      " 4   NOxGT       9357 non-null   float64\n",
      " 5   PT08S3NOx   9357 non-null   float64\n",
      " 6   NO2GT       9357 non-null   float64\n",
      " 7   PT08S4NO2   9357 non-null   float64\n",
      " 8   PT08S5O3    9357 non-null   float64\n",
      " 9   T           9357 non-null   float64\n",
      " 10  RH          9357 non-null   float64\n",
      " 11  AH          9357 non-null   float64\n",
      "dtypes: float64(12)\n",
      "memory usage: 950.3 KB\n"
     ]
    }
   ],
   "source": [
    "data = data.drop(['NMHCGT'], axis=1)\n",
    "data.info()"
   ]
  },
  {
   "cell_type": "code",
   "execution_count": 68,
   "metadata": {},
   "outputs": [
    {
     "data": {
      "image/png": "[encoded data removed]",
      "text/plain": [
       "<Figure size 1080x1080 with 12 Axes>"
      ]
     },
     "metadata": {
      "needs_background": "light"
     },
     "output_type": "display_data"
    }
   ],
   "source": [
    "data.hist(figsize=(15,15), edgecolor = 'black');\n"
   ]
  },
  {
   "cell_type": "code",
   "execution_count": 69,
   "metadata": {},
   "outputs": [
    {
     "name": "stdout",
     "output_type": "stream",
     "text": [
      "<class 'pandas.core.frame.DataFrame'>\n",
      "Int64Index: 9357 entries, 0 to 9356\n",
      "Data columns (total 12 columns):\n",
      " #   Column      Non-Null Count  Dtype  \n",
      "---  ------      --------------  -----  \n",
      " 0   COGT        9357 non-null   float64\n",
      " 1   PT08S1CO    9357 non-null   float64\n",
      " 2   C6H6GT      9357 non-null   float64\n",
      " 3   PT08S2NMHC  9357 non-null   float64\n",
      " 4   NOxGT       9357 non-null   float64\n",
      " 5   PT08S3NOx   9357 non-null   float64\n",
      " 6   NO2GT       9357 non-null   float64\n",
      " 7   PT08S4NO2   9357 non-null   float64\n",
      " 8   PT08S5O3    9357 non-null   float64\n",
      " 9   T           9357 non-null   float64\n",
      " 10  RH          9357 non-null   float64\n",
      " 11  AH          9357 non-null   float64\n",
      "dtypes: float64(12)\n",
      "memory usage: 950.3 KB\n"
     ]
    }
   ],
   "source": [
    "# log features\n",
    "log_names = [f'{column}_log' for column in data.columns]\n",
    "data_log = np.log(data)\n",
    "data_log.columns = log_names\n",
    "# normalize (subract mean and divide by std)\n",
    "def normalize(feature):\n",
    "    return (feature - feature.mean()) / feature.std()\n",
    "\n",
    "data_log_norm = data.apply(normalize)\n",
    "\n",
    "data_log_norm.info()"
   ]
  },
  {
   "cell_type": "code",
   "execution_count": 70,
   "metadata": {},
   "outputs": [
    {
     "data": {
      "text/plain": [
       "-0.399588    1956\n",
       "-0.772795     305\n",
       "-0.474229     279\n",
       "-0.324946     275\n",
       "-0.698154     262\n",
       "             ... \n",
       " 7.363129       1\n",
       " 5.347809       1\n",
       " 5.870299       1\n",
       " 5.571733       1\n",
       " 3.705695       1\n",
       "Name: COGT, Length: 96, dtype: int64"
      ]
     },
     "execution_count": 70,
     "metadata": {},
     "output_type": "execute_result"
    }
   ],
   "source": [
    "data_log_norm['COGT'].value_counts()"
   ]
  },
  {
   "cell_type": "code",
   "execution_count": 71,
   "metadata": {},
   "outputs": [
    {
     "data": {
      "image/png": "[encoded data removed]",
      "text/plain": [
       "<Figure size 1080x1080 with 12 Axes>"
      ]
     },
     "metadata": {
      "needs_background": "light"
     },
     "output_type": "display_data"
    }
   ],
   "source": [
    "data_log_norm.hist(figsize=(15,15), edgecolor = 'black');\n"
   ]
  },
  {
   "cell_type": "markdown",
   "metadata": {},
   "source": [
    "## correlation visualization"
   ]
  },
  {
   "cell_type": "code",
   "execution_count": 72,
   "metadata": {},
   "outputs": [
    {
     "data": {
      "image/png": "[encoded data removed]",
      "text/plain": [
       "<Figure size 1080x1440 with 2 Axes>"
      ]
     },
     "metadata": {
      "needs_background": "light"
     },
     "output_type": "display_data"
    }
   ],
   "source": [
    "#visualize correlation using heatmap\n",
    "corr = data_log_norm.corr()\n",
    "mask = np.zeros_like(corr)\n",
    "mask[np.triu_indices_from(mask)] = True\n",
    "\n",
    "f, ax = plt.subplots(figsize=(15, 20))\n",
    "\n",
    "sns.heatmap(corr, mask=mask, cmap='coolwarm', vmax=1, center=0,\n",
    "            square=True, linewidths=.5,annot=True, cbar_kws={\"shrink\": .5});"
   ]
  },
  {
   "cell_type": "markdown",
   "metadata": {},
   "source": [
    "We can see that the variables that are positively correlated with T are C6h6GT, PT082SNMHC AND PT08S4NO2"
   ]
  },
  {
   "cell_type": "code",
   "execution_count": null,
   "metadata": {},
   "outputs": [],
   "source": []
  },
  {
   "cell_type": "code",
   "execution_count": 73,
   "metadata": {},
   "outputs": [],
   "source": [
    "#Conduct normality check\n",
    "#normality_check(data)"
   ]
  },
  {
   "cell_type": "code",
   "execution_count": 74,
   "metadata": {},
   "outputs": [
    {
     "data": {
      "text/html": [
       "<table class=\"simpletable\">\n",
       "<caption>OLS Regression Results</caption>\n",
       "<tr>\n",
       "  <th>Dep. Variable:</th>            <td>T</td>        <th>  R-squared (uncentered):</th>      <td>   0.987</td> \n",
       "</tr>\n",
       "<tr>\n",
       "  <th>Model:</th>                   <td>OLS</td>       <th>  Adj. R-squared (uncentered):</th> <td>   0.987</td> \n",
       "</tr>\n",
       "<tr>\n",
       "  <th>Method:</th>             <td>Least Squares</td>  <th>  F-statistic:       </th>          <td>6.455e+04</td>\n",
       "</tr>\n",
       "<tr>\n",
       "  <th>Date:</th>             <td>Sun, 19 Jun 2022</td> <th>  Prob (F-statistic):</th>           <td>  0.00</td>  \n",
       "</tr>\n",
       "<tr>\n",
       "  <th>Time:</th>                 <td>17:32:00</td>     <th>  Log-Likelihood:    </th>          <td> -21091.</td> \n",
       "</tr>\n",
       "<tr>\n",
       "  <th>No. Observations:</th>      <td>  9357</td>      <th>  AIC:               </th>          <td>4.220e+04</td>\n",
       "</tr>\n",
       "<tr>\n",
       "  <th>Df Residuals:</th>          <td>  9346</td>      <th>  BIC:               </th>          <td>4.228e+04</td>\n",
       "</tr>\n",
       "<tr>\n",
       "  <th>Df Model:</th>              <td>    11</td>      <th>                     </th>              <td> </td>    \n",
       "</tr>\n",
       "<tr>\n",
       "  <th>Covariance Type:</th>      <td>nonrobust</td>    <th>                     </th>              <td> </td>    \n",
       "</tr>\n",
       "</table>\n",
       "<table class=\"simpletable\">\n",
       "<tr>\n",
       "       <td></td>         <th>coef</th>     <th>std err</th>      <th>t</th>      <th>P>|t|</th>  <th>[0.025</th>    <th>0.975]</th>  \n",
       "</tr>\n",
       "<tr>\n",
       "  <th>COGT</th>       <td>   -0.3131</td> <td>    0.042</td> <td>   -7.503</td> <td> 0.000</td> <td>   -0.395</td> <td>   -0.231</td>\n",
       "</tr>\n",
       "<tr>\n",
       "  <th>PT08S1CO</th>   <td>    0.0019</td> <td>    0.000</td> <td>    6.223</td> <td> 0.000</td> <td>    0.001</td> <td>    0.002</td>\n",
       "</tr>\n",
       "<tr>\n",
       "  <th>C6H6GT</th>     <td>   -0.5598</td> <td>    0.014</td> <td>  -40.201</td> <td> 0.000</td> <td>   -0.587</td> <td>   -0.533</td>\n",
       "</tr>\n",
       "<tr>\n",
       "  <th>PT08S2NMHC</th> <td>    0.0183</td> <td>    0.000</td> <td>   39.767</td> <td> 0.000</td> <td>    0.017</td> <td>    0.019</td>\n",
       "</tr>\n",
       "<tr>\n",
       "  <th>NOxGT</th>      <td>    0.0021</td> <td>    0.000</td> <td>    7.140</td> <td> 0.000</td> <td>    0.002</td> <td>    0.003</td>\n",
       "</tr>\n",
       "<tr>\n",
       "  <th>PT08S3NOx</th>  <td>    0.0032</td> <td>    0.000</td> <td>   25.590</td> <td> 0.000</td> <td>    0.003</td> <td>    0.003</td>\n",
       "</tr>\n",
       "<tr>\n",
       "  <th>NO2GT</th>      <td>    0.0013</td> <td>    0.001</td> <td>    1.242</td> <td> 0.214</td> <td>   -0.001</td> <td>    0.003</td>\n",
       "</tr>\n",
       "<tr>\n",
       "  <th>PT08S4NO2</th>  <td>    0.0042</td> <td>    0.000</td> <td>   17.545</td> <td> 0.000</td> <td>    0.004</td> <td>    0.005</td>\n",
       "</tr>\n",
       "<tr>\n",
       "  <th>PT08S5O3</th>   <td>   -0.0029</td> <td>    0.000</td> <td>  -16.366</td> <td> 0.000</td> <td>   -0.003</td> <td>   -0.003</td>\n",
       "</tr>\n",
       "<tr>\n",
       "  <th>RH</th>         <td>   -0.3324</td> <td>    0.002</td> <td> -184.055</td> <td> 0.000</td> <td>   -0.336</td> <td>   -0.329</td>\n",
       "</tr>\n",
       "<tr>\n",
       "  <th>AH</th>         <td>   14.8134</td> <td>    0.120</td> <td>  123.058</td> <td> 0.000</td> <td>   14.577</td> <td>   15.049</td>\n",
       "</tr>\n",
       "</table>\n",
       "<table class=\"simpletable\">\n",
       "<tr>\n",
       "  <th>Omnibus:</th>       <td>1294.107</td> <th>  Durbin-Watson:     </th> <td>   0.128</td>\n",
       "</tr>\n",
       "<tr>\n",
       "  <th>Prob(Omnibus):</th>  <td> 0.000</td>  <th>  Jarque-Bera (JB):  </th> <td>3354.555</td>\n",
       "</tr>\n",
       "<tr>\n",
       "  <th>Skew:</th>           <td> 0.774</td>  <th>  Prob(JB):          </th> <td>    0.00</td>\n",
       "</tr>\n",
       "<tr>\n",
       "  <th>Kurtosis:</th>       <td> 5.491</td>  <th>  Cond. No.          </th> <td>1.26e+04</td>\n",
       "</tr>\n",
       "</table><br/><br/>Notes:<br/>[1] R² is computed without centering (uncentered) since the model does not contain a constant.<br/>[2] Standard Errors assume that the covariance matrix of the errors is correctly specified.<br/>[3] The condition number is large, 1.26e+04. This might indicate that there are<br/>strong multicollinearity or other numerical problems."
      ],
      "text/plain": [
       "<class 'statsmodels.iolib.summary.Summary'>\n",
       "\"\"\"\n",
       "                                 OLS Regression Results                                \n",
       "=======================================================================================\n",
       "Dep. Variable:                      T   R-squared (uncentered):                   0.987\n",
       "Model:                            OLS   Adj. R-squared (uncentered):              0.987\n",
       "Method:                 Least Squares   F-statistic:                          6.455e+04\n",
       "Date:                Sun, 19 Jun 2022   Prob (F-statistic):                        0.00\n",
       "Time:                        17:32:00   Log-Likelihood:                         -21091.\n",
       "No. Observations:                9357   AIC:                                  4.220e+04\n",
       "Df Residuals:                    9346   BIC:                                  4.228e+04\n",
       "Df Model:                          11                                                  \n",
       "Covariance Type:            nonrobust                                                  \n",
       "==============================================================================\n",
       "                 coef    std err          t      P>|t|      [0.025      0.975]\n",
       "------------------------------------------------------------------------------\n",
       "COGT          -0.3131      0.042     -7.503      0.000      -0.395      -0.231\n",
       "PT08S1CO       0.0019      0.000      6.223      0.000       0.001       0.002\n",
       "C6H6GT        -0.5598      0.014    -40.201      0.000      -0.587      -0.533\n",
       "PT08S2NMHC     0.0183      0.000     39.767      0.000       0.017       0.019\n",
       "NOxGT          0.0021      0.000      7.140      0.000       0.002       0.003\n",
       "PT08S3NOx      0.0032      0.000     25.590      0.000       0.003       0.003\n",
       "NO2GT          0.0013      0.001      1.242      0.214      -0.001       0.003\n",
       "PT08S4NO2      0.0042      0.000     17.545      0.000       0.004       0.005\n",
       "PT08S5O3      -0.0029      0.000    -16.366      0.000      -0.003      -0.003\n",
       "RH            -0.3324      0.002   -184.055      0.000      -0.336      -0.329\n",
       "AH            14.8134      0.120    123.058      0.000      14.577      15.049\n",
       "==============================================================================\n",
       "Omnibus:                     1294.107   Durbin-Watson:                   0.128\n",
       "Prob(Omnibus):                  0.000   Jarque-Bera (JB):             3354.555\n",
       "Skew:                           0.774   Prob(JB):                         0.00\n",
       "Kurtosis:                       5.491   Cond. No.                     1.26e+04\n",
       "==============================================================================\n",
       "\n",
       "Notes:\n",
       "[1] R² is computed without centering (uncentered) since the model does not contain a constant.\n",
       "[2] Standard Errors assume that the covariance matrix of the errors is correctly specified.\n",
       "[3] The condition number is large, 1.26e+04. This might indicate that there are\n",
       "strong multicollinearity or other numerical problems.\n",
       "\"\"\""
      ]
     },
     "execution_count": 74,
     "metadata": {},
     "output_type": "execute_result"
    }
   ],
   "source": [
    "X = data.drop('T', axis=1)\n",
    "y = data['T']\n",
    "\n",
    "import statsmodels.api as sm\n",
    "X_int = sm.add_constant(X)\n",
    "model = sm.OLS(y,X).fit()\n",
    "model.summary()"
   ]
  },
  {
   "cell_type": "code",
   "execution_count": 75,
   "metadata": {},
   "outputs": [
    {
     "data": {
      "text/html": [
       "<table class=\"simpletable\">\n",
       "<caption>OLS Regression Results</caption>\n",
       "<tr>\n",
       "  <th>Dep. Variable:</th>            <td>T</td>        <th>  R-squared:         </th> <td>   0.930</td> \n",
       "</tr>\n",
       "<tr>\n",
       "  <th>Model:</th>                   <td>OLS</td>       <th>  Adj. R-squared:    </th> <td>   0.930</td> \n",
       "</tr>\n",
       "<tr>\n",
       "  <th>Method:</th>             <td>Least Squares</td>  <th>  F-statistic:       </th> <td>1.137e+04</td>\n",
       "</tr>\n",
       "<tr>\n",
       "  <th>Date:</th>             <td>Sun, 19 Jun 2022</td> <th>  Prob (F-statistic):</th>  <td>  0.00</td>  \n",
       "</tr>\n",
       "<tr>\n",
       "  <th>Time:</th>                 <td>17:32:00</td>     <th>  Log-Likelihood:    </th> <td> -802.73</td> \n",
       "</tr>\n",
       "<tr>\n",
       "  <th>No. Observations:</th>      <td>  9357</td>      <th>  AIC:               </th> <td>   1629.</td> \n",
       "</tr>\n",
       "<tr>\n",
       "  <th>Df Residuals:</th>          <td>  9345</td>      <th>  BIC:               </th> <td>   1715.</td> \n",
       "</tr>\n",
       "<tr>\n",
       "  <th>Df Model:</th>              <td>    11</td>      <th>                     </th>     <td> </td>    \n",
       "</tr>\n",
       "<tr>\n",
       "  <th>Covariance Type:</th>      <td>nonrobust</td>    <th>                     </th>     <td> </td>    \n",
       "</tr>\n",
       "</table>\n",
       "<table class=\"simpletable\">\n",
       "<tr>\n",
       "       <td></td>         <th>coef</th>     <th>std err</th>      <th>t</th>      <th>P>|t|</th>  <th>[0.025</th>    <th>0.975]</th>  \n",
       "</tr>\n",
       "<tr>\n",
       "  <th>const</th>      <td>   -1.1772</td> <td>    0.070</td> <td>  -16.843</td> <td> 0.000</td> <td>   -1.314</td> <td>   -1.040</td>\n",
       "</tr>\n",
       "<tr>\n",
       "  <th>COGT</th>       <td>   -0.0311</td> <td>    0.005</td> <td>   -6.495</td> <td> 0.000</td> <td>   -0.040</td> <td>   -0.022</td>\n",
       "</tr>\n",
       "<tr>\n",
       "  <th>PT08S1CO</th>   <td> 5.034e-05</td> <td> 3.67e-05</td> <td>    1.370</td> <td> 0.171</td> <td>-2.17e-05</td> <td>    0.000</td>\n",
       "</tr>\n",
       "<tr>\n",
       "  <th>C6H6GT</th>     <td>   -0.0419</td> <td>    0.002</td> <td>  -17.944</td> <td> 0.000</td> <td>   -0.046</td> <td>   -0.037</td>\n",
       "</tr>\n",
       "<tr>\n",
       "  <th>PT08S2NMHC</th> <td>    0.0013</td> <td> 8.26e-05</td> <td>   15.216</td> <td> 0.000</td> <td>    0.001</td> <td>    0.001</td>\n",
       "</tr>\n",
       "<tr>\n",
       "  <th>NOxGT</th>      <td>    0.0003</td> <td> 3.33e-05</td> <td>    7.546</td> <td> 0.000</td> <td>    0.000</td> <td>    0.000</td>\n",
       "</tr>\n",
       "<tr>\n",
       "  <th>PT08S3NOx</th>  <td> 9.822e-05</td> <td> 2.53e-05</td> <td>    3.879</td> <td> 0.000</td> <td> 4.86e-05</td> <td>    0.000</td>\n",
       "</tr>\n",
       "<tr>\n",
       "  <th>NO2GT</th>      <td>   -0.0001</td> <td>    0.000</td> <td>   -1.131</td> <td> 0.258</td> <td>   -0.000</td> <td>    0.000</td>\n",
       "</tr>\n",
       "<tr>\n",
       "  <th>PT08S4NO2</th>  <td>    0.0006</td> <td> 2.84e-05</td> <td>   20.586</td> <td> 0.000</td> <td>    0.001</td> <td>    0.001</td>\n",
       "</tr>\n",
       "<tr>\n",
       "  <th>PT08S5O3</th>   <td>   -0.0003</td> <td> 2.02e-05</td> <td>  -15.252</td> <td> 0.000</td> <td>   -0.000</td> <td>   -0.000</td>\n",
       "</tr>\n",
       "<tr>\n",
       "  <th>RH</th>         <td>   -0.0391</td> <td>    0.000</td> <td> -183.582</td> <td> 0.000</td> <td>   -0.039</td> <td>   -0.039</td>\n",
       "</tr>\n",
       "<tr>\n",
       "  <th>AH</th>         <td>    1.6474</td> <td>    0.015</td> <td>  113.171</td> <td> 0.000</td> <td>    1.619</td> <td>    1.676</td>\n",
       "</tr>\n",
       "</table>\n",
       "<table class=\"simpletable\">\n",
       "<tr>\n",
       "  <th>Omnibus:</th>       <td>1270.350</td> <th>  Durbin-Watson:     </th> <td>   0.116</td>\n",
       "</tr>\n",
       "<tr>\n",
       "  <th>Prob(Omnibus):</th>  <td> 0.000</td>  <th>  Jarque-Bera (JB):  </th> <td>3472.724</td>\n",
       "</tr>\n",
       "<tr>\n",
       "  <th>Skew:</th>           <td> 0.745</td>  <th>  Prob(JB):          </th> <td>    0.00</td>\n",
       "</tr>\n",
       "<tr>\n",
       "  <th>Kurtosis:</th>       <td> 5.586</td>  <th>  Cond. No.          </th> <td>6.41e+04</td>\n",
       "</tr>\n",
       "</table><br/><br/>Notes:<br/>[1] Standard Errors assume that the covariance matrix of the errors is correctly specified.<br/>[2] The condition number is large, 6.41e+04. This might indicate that there are<br/>strong multicollinearity or other numerical problems."
      ],
      "text/plain": [
       "<class 'statsmodels.iolib.summary.Summary'>\n",
       "\"\"\"\n",
       "                            OLS Regression Results                            \n",
       "==============================================================================\n",
       "Dep. Variable:                      T   R-squared:                       0.930\n",
       "Model:                            OLS   Adj. R-squared:                  0.930\n",
       "Method:                 Least Squares   F-statistic:                 1.137e+04\n",
       "Date:                Sun, 19 Jun 2022   Prob (F-statistic):               0.00\n",
       "Time:                        17:32:00   Log-Likelihood:                -802.73\n",
       "No. Observations:                9357   AIC:                             1629.\n",
       "Df Residuals:                    9345   BIC:                             1715.\n",
       "Df Model:                          11                                         \n",
       "Covariance Type:            nonrobust                                         \n",
       "==============================================================================\n",
       "                 coef    std err          t      P>|t|      [0.025      0.975]\n",
       "------------------------------------------------------------------------------\n",
       "const         -1.1772      0.070    -16.843      0.000      -1.314      -1.040\n",
       "COGT          -0.0311      0.005     -6.495      0.000      -0.040      -0.022\n",
       "PT08S1CO    5.034e-05   3.67e-05      1.370      0.171   -2.17e-05       0.000\n",
       "C6H6GT        -0.0419      0.002    -17.944      0.000      -0.046      -0.037\n",
       "PT08S2NMHC     0.0013   8.26e-05     15.216      0.000       0.001       0.001\n",
       "NOxGT          0.0003   3.33e-05      7.546      0.000       0.000       0.000\n",
       "PT08S3NOx   9.822e-05   2.53e-05      3.879      0.000    4.86e-05       0.000\n",
       "NO2GT         -0.0001      0.000     -1.131      0.258      -0.000       0.000\n",
       "PT08S4NO2      0.0006   2.84e-05     20.586      0.000       0.001       0.001\n",
       "PT08S5O3      -0.0003   2.02e-05    -15.252      0.000      -0.000      -0.000\n",
       "RH            -0.0391      0.000   -183.582      0.000      -0.039      -0.039\n",
       "AH             1.6474      0.015    113.171      0.000       1.619       1.676\n",
       "==============================================================================\n",
       "Omnibus:                     1270.350   Durbin-Watson:                   0.116\n",
       "Prob(Omnibus):                  0.000   Jarque-Bera (JB):             3472.724\n",
       "Skew:                           0.745   Prob(JB):                         0.00\n",
       "Kurtosis:                       5.586   Cond. No.                     6.41e+04\n",
       "==============================================================================\n",
       "\n",
       "Notes:\n",
       "[1] Standard Errors assume that the covariance matrix of the errors is correctly specified.\n",
       "[2] The condition number is large, 6.41e+04. This might indicate that there are\n",
       "strong multicollinearity or other numerical problems.\n",
       "\"\"\""
      ]
     },
     "execution_count": 75,
     "metadata": {},
     "output_type": "execute_result"
    }
   ],
   "source": [
    "X_norm = data_log_norm.drop('T', axis=1)\n",
    "y_norm = data_log_norm['T']\n",
    "\n",
    "import statsmodels.api as sm\n",
    "X_int_norm = sm.add_constant(X_norm)\n",
    "model = sm.OLS(y_norm,X_int).fit()\n",
    "model.summary()"
   ]
  },
  {
   "cell_type": "code",
   "execution_count": 76,
   "metadata": {},
   "outputs": [],
   "source": [
    "\n",
    "\n",
    "f_names = ['T~COGT', 'T~PT08S1CO', 'T~C6H6GT', 'T~PT08S2NMHC', 'T~NOxGT','T~PT08S3NOx','T~NO2GT','T~PT08S4NO2','T~PT08S5O3','T~RH','T~AH']\n"
   ]
  },
  {
   "cell_type": "code",
   "execution_count": 77,
   "metadata": {},
   "outputs": [
    {
     "name": "stdout",
     "output_type": "stream",
     "text": [
      "T~COGT\n",
      "T~PT08S1CO\n",
      "T~C6H6GT\n",
      "T~PT08S2NMHC\n",
      "T~NOxGT\n",
      "T~PT08S3NOx\n",
      "T~NO2GT\n",
      "T~PT08S4NO2\n",
      "T~PT08S5O3\n",
      "T~RH\n",
      "T~AH\n"
     ]
    }
   ],
   "source": [
    "for i in f_names:\n",
    "    print(i)\n",
    "\n",
    "    "
   ]
  },
  {
   "cell_type": "code",
   "execution_count": 78,
   "metadata": {},
   "outputs": [
    {
     "data": {
      "image/png": "[encoded data removed]",
      "text/plain": [
       "<Figure size 432x288 with 1 Axes>"
      ]
     },
     "metadata": {
      "needs_background": "light"
     },
     "output_type": "display_data"
    },
    {
     "data": {
      "image/png": "[encoded data removed]",
      "text/plain": [
       "<Figure size 432x288 with 1 Axes>"
      ]
     },
     "metadata": {
      "needs_background": "light"
     },
     "output_type": "display_data"
    },
    {
     "data": {
      "image/png": "[encoded data removed]",
      "text/plain": [
       "<Figure size 432x288 with 1 Axes>"
      ]
     },
     "metadata": {
      "needs_background": "light"
     },
     "output_type": "display_data"
    },
    {
     "data": {
      "image/png": "[encoded data removed]",
      "text/plain": [
       "<Figure size 432x288 with 1 Axes>"
      ]
     },
     "metadata": {
      "needs_background": "light"
     },
     "output_type": "display_data"
    },
    {
     "data": {
      "image/png": "[encoded data removed]",
      "text/plain": [
       "<Figure size 432x288 with 1 Axes>"
      ]
     },
     "metadata": {
      "needs_background": "light"
     },
     "output_type": "display_data"
    },
    {
     "data": {
      "image/png": "[encoded data removed]",
      "text/plain": [
       "<Figure size 432x288 with 1 Axes>"
      ]
     },
     "metadata": {
      "needs_background": "light"
     },
     "output_type": "display_data"
    },
    {
     "data": {
      "image/png": "[encoded data removed]",
      "text/plain": [
       "<Figure size 432x288 with 1 Axes>"
      ]
     },
     "metadata": {
      "needs_background": "light"
     },
     "output_type": "display_data"
    },
    {
     "data": {
      "image/png": "[encoded data removed]",
      "text/plain": [
       "<Figure size 432x288 with 1 Axes>"
      ]
     },
     "metadata": {
      "needs_background": "light"
     },
     "output_type": "display_data"
    },
    {
     "data": {
      "image/png": "[encoded data removed]",
      "text/plain": [
       "<Figure size 432x288 with 1 Axes>"
      ]
     },
     "metadata": {
      "needs_background": "light"
     },
     "output_type": "display_data"
    },
    {
     "data": {
      "image/png": "[encoded data removed]",
      "text/plain": [
       "<Figure size 432x288 with 1 Axes>"
      ]
     },
     "metadata": {
      "needs_background": "light"
     },
     "output_type": "display_data"
    },
    {
     "data": {
      "image/png": "[encoded data removed]",
      "text/plain": [
       "<Figure size 432x288 with 1 Axes>"
      ]
     },
     "metadata": {
      "needs_background": "light"
     },
     "output_type": "display_data"
    }
   ],
   "source": [
    "import warnings\n",
    "warnings.filterwarnings('ignore')\n",
    "\n",
    "for i in f_names:\n",
    "    model = smf.ols(formula=i, data=data).fit()\n",
    "    resid = model.resid\n",
    "    fig = sm.graphics.qqplot(resid, dist=stats.norm, line='45', fit=True)\n",
    "    plt.title(i)\n",
    "    fig.show();\n",
    "\n",
    "\n"
   ]
  },
  {
   "cell_type": "code",
   "execution_count": 79,
   "metadata": {},
   "outputs": [
    {
     "data": {
      "image/png": "[encoded data removed]",
      "text/plain": [
       "<Figure size 432x288 with 1 Axes>"
      ]
     },
     "metadata": {
      "needs_background": "light"
     },
     "output_type": "display_data"
    },
    {
     "data": {
      "image/png": "[encoded data removed]",
      "text/plain": [
       "<Figure size 432x288 with 1 Axes>"
      ]
     },
     "metadata": {
      "needs_background": "light"
     },
     "output_type": "display_data"
    },
    {
     "data": {
      "image/png": "[encoded data removed]",
      "text/plain": [
       "<Figure size 432x288 with 1 Axes>"
      ]
     },
     "metadata": {
      "needs_background": "light"
     },
     "output_type": "display_data"
    },
    {
     "data": {
      "image/png": "[encoded data removed]",
      "text/plain": [
       "<Figure size 432x288 with 1 Axes>"
      ]
     },
     "metadata": {
      "needs_background": "light"
     },
     "output_type": "display_data"
    },
    {
     "data": {
      "image/png": "[encoded data removed]",
      "text/plain": [
       "<Figure size 432x288 with 1 Axes>"
      ]
     },
     "metadata": {
      "needs_background": "light"
     },
     "output_type": "display_data"
    },
    {
     "data": {
      "image/png": "[encoded data removed]",
      "text/plain": [
       "<Figure size 432x288 with 1 Axes>"
      ]
     },
     "metadata": {
      "needs_background": "light"
     },
     "output_type": "display_data"
    },
    {
     "data": {
      "image/png": "[encoded data removed]",
      "text/plain": [
       "<Figure size 432x288 with 1 Axes>"
      ]
     },
     "metadata": {
      "needs_background": "light"
     },
     "output_type": "display_data"
    },
    {
     "data": {
      "image/png": "[encoded data removed]",
      "text/plain": [
       "<Figure size 432x288 with 1 Axes>"
      ]
     },
     "metadata": {
      "needs_background": "light"
     },
     "output_type": "display_data"
    },
    {
     "data": {
      "image/png": "[encoded data removed]",
      "text/plain": [
       "<Figure size 432x288 with 1 Axes>"
      ]
     },
     "metadata": {
      "needs_background": "light"
     },
     "output_type": "display_data"
    },
    {
     "data": {
      "image/png": "[encoded data removed]",
      "text/plain": [
       "<Figure size 432x288 with 1 Axes>"
      ]
     },
     "metadata": {
      "needs_background": "light"
     },
     "output_type": "display_data"
    },
    {
     "data": {
      "image/png": "[encoded data removed]",
      "text/plain": [
       "<Figure size 432x288 with 1 Axes>"
      ]
     },
     "metadata": {
      "needs_background": "light"
     },
     "output_type": "display_data"
    }
   ],
   "source": [
    "import warnings\n",
    "warnings.filterwarnings('ignore')\n",
    "\n",
    "for i in f_names:\n",
    "    model = smf.ols(formula=i, data=data_log_norm).fit()\n",
    "    resid = model.resid\n",
    "    fig = sm.graphics.qqplot(resid, dist=stats.norm, line='45', fit=True)\n",
    "    plt.title(i)\n",
    "    fig.show();\n"
   ]
  },
  {
   "cell_type": "code",
   "execution_count": 80,
   "metadata": {},
   "outputs": [
    {
     "data": {
      "text/html": [
       "<div>\n",
       "<style scoped>\n",
       "    .dataframe tbody tr th:only-of-type {\n",
       "        vertical-align: middle;\n",
       "    }\n",
       "\n",
       "    .dataframe tbody tr th {\n",
       "        vertical-align: top;\n",
       "    }\n",
       "\n",
       "    .dataframe thead th {\n",
       "        text-align: right;\n",
       "    }\n",
       "</style>\n",
       "<table border=\"1\" class=\"dataframe\">\n",
       "  <thead>\n",
       "    <tr style=\"text-align: right;\">\n",
       "      <th></th>\n",
       "      <th>cc</th>\n",
       "    </tr>\n",
       "    <tr>\n",
       "      <th>pairs</th>\n",
       "      <th></th>\n",
       "    </tr>\n",
       "  </thead>\n",
       "  <tbody>\n",
       "    <tr>\n",
       "      <th>(PT08S2NMHC, C6H6GT)</th>\n",
       "      <td>0.981673</td>\n",
       "    </tr>\n",
       "    <tr>\n",
       "      <th>(PT08S5O3, PT08S1CO)</th>\n",
       "      <td>0.899493</td>\n",
       "    </tr>\n",
       "    <tr>\n",
       "      <th>(PT08S2NMHC, PT08S1CO)</th>\n",
       "      <td>0.893070</td>\n",
       "    </tr>\n",
       "    <tr>\n",
       "      <th>(PT08S1CO, C6H6GT)</th>\n",
       "      <td>0.883979</td>\n",
       "    </tr>\n",
       "    <tr>\n",
       "      <th>(PT08S2NMHC, PT08S5O3)</th>\n",
       "      <td>0.880710</td>\n",
       "    </tr>\n",
       "    <tr>\n",
       "      <th>(C6H6GT, PT08S5O3)</th>\n",
       "      <td>0.865864</td>\n",
       "    </tr>\n",
       "    <tr>\n",
       "      <th>(C6H6GT, COGT)</th>\n",
       "      <td>0.802252</td>\n",
       "    </tr>\n",
       "  </tbody>\n",
       "</table>\n",
       "</div>"
      ],
      "text/plain": [
       "                              cc\n",
       "pairs                           \n",
       "(PT08S2NMHC, C6H6GT)    0.981673\n",
       "(PT08S5O3, PT08S1CO)    0.899493\n",
       "(PT08S2NMHC, PT08S1CO)  0.893070\n",
       "(PT08S1CO, C6H6GT)      0.883979\n",
       "(PT08S2NMHC, PT08S5O3)  0.880710\n",
       "(C6H6GT, PT08S5O3)      0.865864\n",
       "(C6H6GT, COGT)          0.802252"
      ]
     },
     "execution_count": 80,
     "metadata": {},
     "output_type": "execute_result"
    }
   ],
   "source": [
    "data.corr()\n",
    "abs(data.corr()) > 0.75\n",
    "\n",
    "# save absolute value of correlation matrix as a data frame\n",
    "# converts all values to absolute value\n",
    "# stacks the row:column pairs into a multindex\n",
    "# reset the index to set the multindex to seperate columns\n",
    "# sort values. 0 is the column automatically generated by the stacking\n",
    "df=data.corr().abs().stack().reset_index().sort_values(0, ascending=False)\n",
    "# zip the variable name columns (Which were only named level_0 and level_1 by default) in a new column named \"pairs\"\n",
    "df['pairs'] = list(zip(df.level_0, df.level_1))\n",
    "# set index to pairs\n",
    "df.set_index(['pairs'], inplace = True)\n",
    "#d rop level columns\n",
    "df.drop(columns=['level_1', 'level_0'], inplace = True)\n",
    "# rename correlation column as cc rather than 0\n",
    "df.columns = ['cc']\n",
    "# drop duplicates. This could be dangerous if you have variables perfectly correlated with variables other than themselves.\n",
    "# for the sake of exercise, kept it in.\n",
    "df.drop_duplicates(inplace=True)\n",
    "\n",
    "df[(df.cc>.8) & (df.cc <1)]"
   ]
  },
  {
   "cell_type": "markdown",
   "metadata": {},
   "source": [
    "PT08S2NMHC = 3, C6H6GT = 4, PTO8S5O3 = 3, PT09S1CO = 3, COGT = 1"
   ]
  },
  {
   "cell_type": "code",
   "execution_count": 81,
   "metadata": {},
   "outputs": [],
   "source": [
    "data = data.drop(['C6H6GT'], axis=1)\n"
   ]
  },
  {
   "cell_type": "code",
   "execution_count": 82,
   "metadata": {},
   "outputs": [
    {
     "data": {
      "text/html": [
       "<table class=\"simpletable\">\n",
       "<caption>OLS Regression Results</caption>\n",
       "<tr>\n",
       "  <th>Dep. Variable:</th>            <td>T</td>        <th>  R-squared (uncentered):</th>      <td>   0.985</td> \n",
       "</tr>\n",
       "<tr>\n",
       "  <th>Model:</th>                   <td>OLS</td>       <th>  Adj. R-squared (uncentered):</th> <td>   0.985</td> \n",
       "</tr>\n",
       "<tr>\n",
       "  <th>Method:</th>             <td>Least Squares</td>  <th>  F-statistic:       </th>          <td>6.041e+04</td>\n",
       "</tr>\n",
       "<tr>\n",
       "  <th>Date:</th>             <td>Sun, 19 Jun 2022</td> <th>  Prob (F-statistic):</th>           <td>  0.00</td>  \n",
       "</tr>\n",
       "<tr>\n",
       "  <th>Time:</th>                 <td>17:32:01</td>     <th>  Log-Likelihood:    </th>          <td> -21837.</td> \n",
       "</tr>\n",
       "<tr>\n",
       "  <th>No. Observations:</th>      <td>  9357</td>      <th>  AIC:               </th>          <td>4.369e+04</td>\n",
       "</tr>\n",
       "<tr>\n",
       "  <th>Df Residuals:</th>          <td>  9347</td>      <th>  BIC:               </th>          <td>4.377e+04</td>\n",
       "</tr>\n",
       "<tr>\n",
       "  <th>Df Model:</th>              <td>    10</td>      <th>                     </th>              <td> </td>    \n",
       "</tr>\n",
       "<tr>\n",
       "  <th>Covariance Type:</th>      <td>nonrobust</td>    <th>                     </th>              <td> </td>    \n",
       "</tr>\n",
       "</table>\n",
       "<table class=\"simpletable\">\n",
       "<tr>\n",
       "       <td></td>         <th>coef</th>     <th>std err</th>      <th>t</th>      <th>P>|t|</th>  <th>[0.025</th>    <th>0.975]</th>  \n",
       "</tr>\n",
       "<tr>\n",
       "  <th>COGT</th>       <td>   -0.7763</td> <td>    0.043</td> <td>  -17.875</td> <td> 0.000</td> <td>   -0.861</td> <td>   -0.691</td>\n",
       "</tr>\n",
       "<tr>\n",
       "  <th>PT08S1CO</th>   <td>    0.0049</td> <td>    0.000</td> <td>   15.596</td> <td> 0.000</td> <td>    0.004</td> <td>    0.006</td>\n",
       "</tr>\n",
       "<tr>\n",
       "  <th>PT08S2NMHC</th> <td>    0.0068</td> <td>    0.000</td> <td>   17.413</td> <td> 0.000</td> <td>    0.006</td> <td>    0.008</td>\n",
       "</tr>\n",
       "<tr>\n",
       "  <th>NOxGT</th>      <td> -4.47e-05</td> <td>    0.000</td> <td>   -0.144</td> <td> 0.885</td> <td>   -0.001</td> <td>    0.001</td>\n",
       "</tr>\n",
       "<tr>\n",
       "  <th>PT08S3NOx</th>  <td>    0.0060</td> <td>    0.000</td> <td>   52.504</td> <td> 0.000</td> <td>    0.006</td> <td>    0.006</td>\n",
       "</tr>\n",
       "<tr>\n",
       "  <th>NO2GT</th>      <td>    0.0213</td> <td>    0.001</td> <td>   21.447</td> <td> 0.000</td> <td>    0.019</td> <td>    0.023</td>\n",
       "</tr>\n",
       "<tr>\n",
       "  <th>PT08S4NO2</th>  <td>    0.0025</td> <td>    0.000</td> <td>    9.610</td> <td> 0.000</td> <td>    0.002</td> <td>    0.003</td>\n",
       "</tr>\n",
       "<tr>\n",
       "  <th>PT08S5O3</th>   <td>   -0.0037</td> <td>    0.000</td> <td>  -19.815</td> <td> 0.000</td> <td>   -0.004</td> <td>   -0.003</td>\n",
       "</tr>\n",
       "<tr>\n",
       "  <th>RH</th>         <td>   -0.3234</td> <td>    0.002</td> <td> -166.632</td> <td> 0.000</td> <td>   -0.327</td> <td>   -0.320</td>\n",
       "</tr>\n",
       "<tr>\n",
       "  <th>AH</th>         <td>   16.4226</td> <td>    0.123</td> <td>  133.577</td> <td> 0.000</td> <td>   16.182</td> <td>   16.664</td>\n",
       "</tr>\n",
       "</table>\n",
       "<table class=\"simpletable\">\n",
       "<tr>\n",
       "  <th>Omnibus:</th>       <td>768.736</td> <th>  Durbin-Watson:     </th> <td>   0.159</td>\n",
       "</tr>\n",
       "<tr>\n",
       "  <th>Prob(Omnibus):</th> <td> 0.000</td>  <th>  Jarque-Bera (JB):  </th> <td>2073.005</td>\n",
       "</tr>\n",
       "<tr>\n",
       "  <th>Skew:</th>          <td> 0.465</td>  <th>  Prob(JB):          </th> <td>    0.00</td>\n",
       "</tr>\n",
       "<tr>\n",
       "  <th>Kurtosis:</th>      <td> 5.110</td>  <th>  Cond. No.          </th> <td>1.20e+04</td>\n",
       "</tr>\n",
       "</table><br/><br/>Notes:<br/>[1] R² is computed without centering (uncentered) since the model does not contain a constant.<br/>[2] Standard Errors assume that the covariance matrix of the errors is correctly specified.<br/>[3] The condition number is large, 1.2e+04. This might indicate that there are<br/>strong multicollinearity or other numerical problems."
      ],
      "text/plain": [
       "<class 'statsmodels.iolib.summary.Summary'>\n",
       "\"\"\"\n",
       "                                 OLS Regression Results                                \n",
       "=======================================================================================\n",
       "Dep. Variable:                      T   R-squared (uncentered):                   0.985\n",
       "Model:                            OLS   Adj. R-squared (uncentered):              0.985\n",
       "Method:                 Least Squares   F-statistic:                          6.041e+04\n",
       "Date:                Sun, 19 Jun 2022   Prob (F-statistic):                        0.00\n",
       "Time:                        17:32:01   Log-Likelihood:                         -21837.\n",
       "No. Observations:                9357   AIC:                                  4.369e+04\n",
       "Df Residuals:                    9347   BIC:                                  4.377e+04\n",
       "Df Model:                          10                                                  \n",
       "Covariance Type:            nonrobust                                                  \n",
       "==============================================================================\n",
       "                 coef    std err          t      P>|t|      [0.025      0.975]\n",
       "------------------------------------------------------------------------------\n",
       "COGT          -0.7763      0.043    -17.875      0.000      -0.861      -0.691\n",
       "PT08S1CO       0.0049      0.000     15.596      0.000       0.004       0.006\n",
       "PT08S2NMHC     0.0068      0.000     17.413      0.000       0.006       0.008\n",
       "NOxGT       -4.47e-05      0.000     -0.144      0.885      -0.001       0.001\n",
       "PT08S3NOx      0.0060      0.000     52.504      0.000       0.006       0.006\n",
       "NO2GT          0.0213      0.001     21.447      0.000       0.019       0.023\n",
       "PT08S4NO2      0.0025      0.000      9.610      0.000       0.002       0.003\n",
       "PT08S5O3      -0.0037      0.000    -19.815      0.000      -0.004      -0.003\n",
       "RH            -0.3234      0.002   -166.632      0.000      -0.327      -0.320\n",
       "AH            16.4226      0.123    133.577      0.000      16.182      16.664\n",
       "==============================================================================\n",
       "Omnibus:                      768.736   Durbin-Watson:                   0.159\n",
       "Prob(Omnibus):                  0.000   Jarque-Bera (JB):             2073.005\n",
       "Skew:                           0.465   Prob(JB):                         0.00\n",
       "Kurtosis:                       5.110   Cond. No.                     1.20e+04\n",
       "==============================================================================\n",
       "\n",
       "Notes:\n",
       "[1] R² is computed without centering (uncentered) since the model does not contain a constant.\n",
       "[2] Standard Errors assume that the covariance matrix of the errors is correctly specified.\n",
       "[3] The condition number is large, 1.2e+04. This might indicate that there are\n",
       "strong multicollinearity or other numerical problems.\n",
       "\"\"\""
      ]
     },
     "execution_count": 82,
     "metadata": {},
     "output_type": "execute_result"
    }
   ],
   "source": [
    "X = data.drop('T', axis=1)\n",
    "y = data['T']\n",
    "\n",
    "import statsmodels.api as sm\n",
    "X_int = sm.add_constant(X)\n",
    "model = sm.OLS(y,X).fit()\n",
    "model.summary()"
   ]
  },
  {
   "cell_type": "code",
   "execution_count": 83,
   "metadata": {},
   "outputs": [
    {
     "data": {
      "text/html": [
       "<div>\n",
       "<style scoped>\n",
       "    .dataframe tbody tr th:only-of-type {\n",
       "        vertical-align: middle;\n",
       "    }\n",
       "\n",
       "    .dataframe tbody tr th {\n",
       "        vertical-align: top;\n",
       "    }\n",
       "\n",
       "    .dataframe thead th {\n",
       "        text-align: right;\n",
       "    }\n",
       "</style>\n",
       "<table border=\"1\" class=\"dataframe\">\n",
       "  <thead>\n",
       "    <tr style=\"text-align: right;\">\n",
       "      <th></th>\n",
       "      <th>cc</th>\n",
       "    </tr>\n",
       "    <tr>\n",
       "      <th>pairs</th>\n",
       "      <th></th>\n",
       "    </tr>\n",
       "  </thead>\n",
       "  <tbody>\n",
       "    <tr>\n",
       "      <th>(PT08S1CO, PT08S5O3)</th>\n",
       "      <td>0.899493</td>\n",
       "    </tr>\n",
       "    <tr>\n",
       "      <th>(PT08S1CO, PT08S2NMHC)</th>\n",
       "      <td>0.893070</td>\n",
       "    </tr>\n",
       "    <tr>\n",
       "      <th>(PT08S5O3, PT08S2NMHC)</th>\n",
       "      <td>0.880710</td>\n",
       "    </tr>\n",
       "  </tbody>\n",
       "</table>\n",
       "</div>"
      ],
      "text/plain": [
       "                              cc\n",
       "pairs                           \n",
       "(PT08S1CO, PT08S5O3)    0.899493\n",
       "(PT08S1CO, PT08S2NMHC)  0.893070\n",
       "(PT08S5O3, PT08S2NMHC)  0.880710"
      ]
     },
     "execution_count": 83,
     "metadata": {},
     "output_type": "execute_result"
    }
   ],
   "source": [
    "data.corr()\n",
    "abs(data.corr()) > 0.75\n",
    "\n",
    "# save absolute value of correlation matrix as a data frame\n",
    "# converts all values to absolute value\n",
    "# stacks the row:column pairs into a multindex\n",
    "# reset the index to set the multindex to seperate columns\n",
    "# sort values. 0 is the column automatically generated by the stacking\n",
    "df=data.corr().abs().stack().reset_index().sort_values(0, ascending=False)\n",
    "# zip the variable name columns (Which were only named level_0 and level_1 by default) in a new column named \"pairs\"\n",
    "df['pairs'] = list(zip(df.level_0, df.level_1))\n",
    "# set index to pairs\n",
    "df.set_index(['pairs'], inplace = True)\n",
    "#d rop level columns\n",
    "df.drop(columns=['level_1', 'level_0'], inplace = True)\n",
    "# rename correlation column as cc rather than 0\n",
    "df.columns = ['cc']\n",
    "# drop duplicates. This could be dangerous if you have variables perfectly correlated with variables other than themselves.\n",
    "# for the sake of exercise, kept it in.\n",
    "df.drop_duplicates(inplace=True)\n",
    "\n",
    "df[(df.cc>.8) & (df.cc <1)]"
   ]
  },
  {
   "cell_type": "code",
   "execution_count": 84,
   "metadata": {},
   "outputs": [],
   "source": [
    "data = data.drop(['PT08S5O3'], axis=1)\n",
    "data = data.drop(['PT08S2NMHC'], axis=1)\n"
   ]
  },
  {
   "cell_type": "code",
   "execution_count": 85,
   "metadata": {},
   "outputs": [
    {
     "data": {
      "text/html": [
       "<table class=\"simpletable\">\n",
       "<caption>OLS Regression Results</caption>\n",
       "<tr>\n",
       "  <th>Dep. Variable:</th>            <td>T</td>        <th>  R-squared (uncentered):</th>      <td>   0.984</td> \n",
       "</tr>\n",
       "<tr>\n",
       "  <th>Model:</th>                   <td>OLS</td>       <th>  Adj. R-squared (uncentered):</th> <td>   0.984</td> \n",
       "</tr>\n",
       "<tr>\n",
       "  <th>Method:</th>             <td>Least Squares</td>  <th>  F-statistic:       </th>          <td>7.137e+04</td>\n",
       "</tr>\n",
       "<tr>\n",
       "  <th>Date:</th>             <td>Sun, 19 Jun 2022</td> <th>  Prob (F-statistic):</th>           <td>  0.00</td>  \n",
       "</tr>\n",
       "<tr>\n",
       "  <th>Time:</th>                 <td>17:32:02</td>     <th>  Log-Likelihood:    </th>          <td> -22097.</td> \n",
       "</tr>\n",
       "<tr>\n",
       "  <th>No. Observations:</th>      <td>  9357</td>      <th>  AIC:               </th>          <td>4.421e+04</td>\n",
       "</tr>\n",
       "<tr>\n",
       "  <th>Df Residuals:</th>          <td>  9349</td>      <th>  BIC:               </th>          <td>4.427e+04</td>\n",
       "</tr>\n",
       "<tr>\n",
       "  <th>Df Model:</th>              <td>     8</td>      <th>                     </th>              <td> </td>    \n",
       "</tr>\n",
       "<tr>\n",
       "  <th>Covariance Type:</th>      <td>nonrobust</td>    <th>                     </th>              <td> </td>    \n",
       "</tr>\n",
       "</table>\n",
       "<table class=\"simpletable\">\n",
       "<tr>\n",
       "      <td></td>         <th>coef</th>     <th>std err</th>      <th>t</th>      <th>P>|t|</th>  <th>[0.025</th>    <th>0.975]</th>  \n",
       "</tr>\n",
       "<tr>\n",
       "  <th>COGT</th>      <td>   -0.7735</td> <td>    0.044</td> <td>  -17.401</td> <td> 0.000</td> <td>   -0.861</td> <td>   -0.686</td>\n",
       "</tr>\n",
       "<tr>\n",
       "  <th>PT08S1CO</th>  <td>    0.0048</td> <td>    0.000</td> <td>   18.954</td> <td> 0.000</td> <td>    0.004</td> <td>    0.005</td>\n",
       "</tr>\n",
       "<tr>\n",
       "  <th>NOxGT</th>     <td>    0.0003</td> <td>    0.000</td> <td>    0.907</td> <td> 0.365</td> <td>   -0.000</td> <td>    0.001</td>\n",
       "</tr>\n",
       "<tr>\n",
       "  <th>PT08S3NOx</th> <td>    0.0067</td> <td> 9.26e-05</td> <td>   72.210</td> <td> 0.000</td> <td>    0.007</td> <td>    0.007</td>\n",
       "</tr>\n",
       "<tr>\n",
       "  <th>NO2GT</th>     <td>    0.0219</td> <td>    0.001</td> <td>   21.522</td> <td> 0.000</td> <td>    0.020</td> <td>    0.024</td>\n",
       "</tr>\n",
       "<tr>\n",
       "  <th>PT08S4NO2</th> <td>    0.0045</td> <td>    0.000</td> <td>   22.696</td> <td> 0.000</td> <td>    0.004</td> <td>    0.005</td>\n",
       "</tr>\n",
       "<tr>\n",
       "  <th>RH</th>        <td>   -0.3391</td> <td>    0.002</td> <td> -183.303</td> <td> 0.000</td> <td>   -0.343</td> <td>   -0.335</td>\n",
       "</tr>\n",
       "<tr>\n",
       "  <th>AH</th>        <td>   16.2300</td> <td>    0.117</td> <td>  138.150</td> <td> 0.000</td> <td>   16.000</td> <td>   16.460</td>\n",
       "</tr>\n",
       "</table>\n",
       "<table class=\"simpletable\">\n",
       "<tr>\n",
       "  <th>Omnibus:</th>       <td>905.449</td> <th>  Durbin-Watson:     </th> <td>   0.158</td>\n",
       "</tr>\n",
       "<tr>\n",
       "  <th>Prob(Omnibus):</th> <td> 0.000</td>  <th>  Jarque-Bera (JB):  </th> <td>2023.097</td>\n",
       "</tr>\n",
       "<tr>\n",
       "  <th>Skew:</th>          <td> 0.602</td>  <th>  Prob(JB):          </th> <td>    0.00</td>\n",
       "</tr>\n",
       "<tr>\n",
       "  <th>Kurtosis:</th>      <td> 4.934</td>  <th>  Cond. No.          </th> <td>9.11e+03</td>\n",
       "</tr>\n",
       "</table><br/><br/>Notes:<br/>[1] R² is computed without centering (uncentered) since the model does not contain a constant.<br/>[2] Standard Errors assume that the covariance matrix of the errors is correctly specified.<br/>[3] The condition number is large, 9.11e+03. This might indicate that there are<br/>strong multicollinearity or other numerical problems."
      ],
      "text/plain": [
       "<class 'statsmodels.iolib.summary.Summary'>\n",
       "\"\"\"\n",
       "                                 OLS Regression Results                                \n",
       "=======================================================================================\n",
       "Dep. Variable:                      T   R-squared (uncentered):                   0.984\n",
       "Model:                            OLS   Adj. R-squared (uncentered):              0.984\n",
       "Method:                 Least Squares   F-statistic:                          7.137e+04\n",
       "Date:                Sun, 19 Jun 2022   Prob (F-statistic):                        0.00\n",
       "Time:                        17:32:02   Log-Likelihood:                         -22097.\n",
       "No. Observations:                9357   AIC:                                  4.421e+04\n",
       "Df Residuals:                    9349   BIC:                                  4.427e+04\n",
       "Df Model:                           8                                                  \n",
       "Covariance Type:            nonrobust                                                  \n",
       "==============================================================================\n",
       "                 coef    std err          t      P>|t|      [0.025      0.975]\n",
       "------------------------------------------------------------------------------\n",
       "COGT          -0.7735      0.044    -17.401      0.000      -0.861      -0.686\n",
       "PT08S1CO       0.0048      0.000     18.954      0.000       0.004       0.005\n",
       "NOxGT          0.0003      0.000      0.907      0.365      -0.000       0.001\n",
       "PT08S3NOx      0.0067   9.26e-05     72.210      0.000       0.007       0.007\n",
       "NO2GT          0.0219      0.001     21.522      0.000       0.020       0.024\n",
       "PT08S4NO2      0.0045      0.000     22.696      0.000       0.004       0.005\n",
       "RH            -0.3391      0.002   -183.303      0.000      -0.343      -0.335\n",
       "AH            16.2300      0.117    138.150      0.000      16.000      16.460\n",
       "==============================================================================\n",
       "Omnibus:                      905.449   Durbin-Watson:                   0.158\n",
       "Prob(Omnibus):                  0.000   Jarque-Bera (JB):             2023.097\n",
       "Skew:                           0.602   Prob(JB):                         0.00\n",
       "Kurtosis:                       4.934   Cond. No.                     9.11e+03\n",
       "==============================================================================\n",
       "\n",
       "Notes:\n",
       "[1] R² is computed without centering (uncentered) since the model does not contain a constant.\n",
       "[2] Standard Errors assume that the covariance matrix of the errors is correctly specified.\n",
       "[3] The condition number is large, 9.11e+03. This might indicate that there are\n",
       "strong multicollinearity or other numerical problems.\n",
       "\"\"\""
      ]
     },
     "execution_count": 85,
     "metadata": {},
     "output_type": "execute_result"
    }
   ],
   "source": [
    "X = data.drop('T', axis=1)\n",
    "y = data['T']\n",
    "\n",
    "import statsmodels.api as sm\n",
    "X_int = sm.add_constant(X)\n",
    "model = sm.OLS(y,X).fit()\n",
    "model.summary()"
   ]
  },
  {
   "cell_type": "code",
   "execution_count": 86,
   "metadata": {},
   "outputs": [
    {
     "data": {
      "text/html": [
       "<div>\n",
       "<style scoped>\n",
       "    .dataframe tbody tr th:only-of-type {\n",
       "        vertical-align: middle;\n",
       "    }\n",
       "\n",
       "    .dataframe tbody tr th {\n",
       "        vertical-align: top;\n",
       "    }\n",
       "\n",
       "    .dataframe thead th {\n",
       "        text-align: right;\n",
       "    }\n",
       "</style>\n",
       "<table border=\"1\" class=\"dataframe\">\n",
       "  <thead>\n",
       "    <tr style=\"text-align: right;\">\n",
       "      <th></th>\n",
       "      <th>cc</th>\n",
       "    </tr>\n",
       "    <tr>\n",
       "      <th>pairs</th>\n",
       "      <th></th>\n",
       "    </tr>\n",
       "  </thead>\n",
       "  <tbody>\n",
       "  </tbody>\n",
       "</table>\n",
       "</div>"
      ],
      "text/plain": [
       "Empty DataFrame\n",
       "Columns: [cc]\n",
       "Index: []"
      ]
     },
     "execution_count": 86,
     "metadata": {},
     "output_type": "execute_result"
    }
   ],
   "source": [
    "data.corr()\n",
    "abs(data.corr()) > 0.75\n",
    "\n",
    "# save absolute value of correlation matrix as a data frame\n",
    "# converts all values to absolute value\n",
    "# stacks the row:column pairs into a multindex\n",
    "# reset the index to set the multindex to seperate columns\n",
    "# sort values. 0 is the column automatically generated by the stacking\n",
    "df=data.corr().abs().stack().reset_index().sort_values(0, ascending=False)\n",
    "# zip the variable name columns (Which were only named level_0 and level_1 by default) in a new column named \"pairs\"\n",
    "df['pairs'] = list(zip(df.level_0, df.level_1))\n",
    "# set index to pairs\n",
    "df.set_index(['pairs'], inplace = True)\n",
    "#d rop level columns\n",
    "df.drop(columns=['level_1', 'level_0'], inplace = True)\n",
    "# rename correlation column as cc rather than 0\n",
    "df.columns = ['cc']\n",
    "# drop duplicates. This could be dangerous if you have variables perfectly correlated with variables other than themselves.\n",
    "# for the sake of exercise, kept it in.\n",
    "df.drop_duplicates(inplace=True)\n",
    "\n",
    "df[(df.cc>.8) & (df.cc <1)]"
   ]
  },
  {
   "cell_type": "code",
   "execution_count": 87,
   "metadata": {},
   "outputs": [
    {
     "data": {
      "text/html": [
       "<div>\n",
       "<style scoped>\n",
       "    .dataframe tbody tr th:only-of-type {\n",
       "        vertical-align: middle;\n",
       "    }\n",
       "\n",
       "    .dataframe tbody tr th {\n",
       "        vertical-align: top;\n",
       "    }\n",
       "\n",
       "    .dataframe thead th {\n",
       "        text-align: right;\n",
       "    }\n",
       "</style>\n",
       "<table border=\"1\" class=\"dataframe\">\n",
       "  <thead>\n",
       "    <tr style=\"text-align: right;\">\n",
       "      <th></th>\n",
       "      <th>cc</th>\n",
       "    </tr>\n",
       "    <tr>\n",
       "      <th>pairs</th>\n",
       "      <th></th>\n",
       "    </tr>\n",
       "  </thead>\n",
       "  <tbody>\n",
       "    <tr>\n",
       "      <th>(COGT, NOxGT)</th>\n",
       "      <td>0.791624</td>\n",
       "    </tr>\n",
       "    <tr>\n",
       "      <th>(COGT, PT08S1CO)</th>\n",
       "      <td>0.775029</td>\n",
       "    </tr>\n",
       "    <tr>\n",
       "      <th>(PT08S1CO, PT08S3NOx)</th>\n",
       "      <td>0.769482</td>\n",
       "    </tr>\n",
       "    <tr>\n",
       "      <th>(NO2GT, NOxGT)</th>\n",
       "      <td>0.768881</td>\n",
       "    </tr>\n",
       "  </tbody>\n",
       "</table>\n",
       "</div>"
      ],
      "text/plain": [
       "                             cc\n",
       "pairs                          \n",
       "(COGT, NOxGT)          0.791624\n",
       "(COGT, PT08S1CO)       0.775029\n",
       "(PT08S1CO, PT08S3NOx)  0.769482\n",
       "(NO2GT, NOxGT)         0.768881"
      ]
     },
     "execution_count": 87,
     "metadata": {},
     "output_type": "execute_result"
    }
   ],
   "source": [
    "data.corr()\n",
    "abs(data.corr()) > 0.75\n",
    "\n",
    "# save absolute value of correlation matrix as a data frame\n",
    "# converts all values to absolute value\n",
    "# stacks the row:column pairs into a multindex\n",
    "# reset the index to set the multindex to seperate columns\n",
    "# sort values. 0 is the column automatically generated by the stacking\n",
    "df=data.corr().abs().stack().reset_index().sort_values(0, ascending=False)\n",
    "# zip the variable name columns (Which were only named level_0 and level_1 by default) in a new column named \"pairs\"\n",
    "df['pairs'] = list(zip(df.level_0, df.level_1))\n",
    "# set index to pairs\n",
    "df.set_index(['pairs'], inplace = True)\n",
    "#d rop level columns\n",
    "df.drop(columns=['level_1', 'level_0'], inplace = True)\n",
    "# rename correlation column as cc rather than 0\n",
    "df.columns = ['cc']\n",
    "# drop duplicates. This could be dangerous if you have variables perfectly correlated with variables other than themselves.\n",
    "# for the sake of exercise, kept it in.\n",
    "df.drop_duplicates(inplace=True)\n",
    "\n",
    "df[(df.cc>.7) & (df.cc <1)]"
   ]
  },
  {
   "cell_type": "code",
   "execution_count": 88,
   "metadata": {},
   "outputs": [],
   "source": [
    "data = data.drop(['NOxGT'], axis=1)\n",
    "data = data.drop(['PT08S1CO'], axis=1)"
   ]
  },
  {
   "cell_type": "code",
   "execution_count": 89,
   "metadata": {},
   "outputs": [
    {
     "data": {
      "text/html": [
       "<table class=\"simpletable\">\n",
       "<caption>OLS Regression Results</caption>\n",
       "<tr>\n",
       "  <th>Dep. Variable:</th>            <td>T</td>        <th>  R-squared (uncentered):</th>      <td>   0.983</td> \n",
       "</tr>\n",
       "<tr>\n",
       "  <th>Model:</th>                   <td>OLS</td>       <th>  Adj. R-squared (uncentered):</th> <td>   0.983</td> \n",
       "</tr>\n",
       "<tr>\n",
       "  <th>Method:</th>             <td>Least Squares</td>  <th>  F-statistic:       </th>          <td>9.152e+04</td>\n",
       "</tr>\n",
       "<tr>\n",
       "  <th>Date:</th>             <td>Sun, 19 Jun 2022</td> <th>  Prob (F-statistic):</th>           <td>  0.00</td>  \n",
       "</tr>\n",
       "<tr>\n",
       "  <th>Time:</th>                 <td>17:32:02</td>     <th>  Log-Likelihood:    </th>          <td> -22278.</td> \n",
       "</tr>\n",
       "<tr>\n",
       "  <th>No. Observations:</th>      <td>  9357</td>      <th>  AIC:               </th>          <td>4.457e+04</td>\n",
       "</tr>\n",
       "<tr>\n",
       "  <th>Df Residuals:</th>          <td>  9351</td>      <th>  BIC:               </th>          <td>4.461e+04</td>\n",
       "</tr>\n",
       "<tr>\n",
       "  <th>Df Model:</th>              <td>     6</td>      <th>                     </th>              <td> </td>    \n",
       "</tr>\n",
       "<tr>\n",
       "  <th>Covariance Type:</th>      <td>nonrobust</td>    <th>                     </th>              <td> </td>    \n",
       "</tr>\n",
       "</table>\n",
       "<table class=\"simpletable\">\n",
       "<tr>\n",
       "      <td></td>         <th>coef</th>     <th>std err</th>      <th>t</th>      <th>P>|t|</th>  <th>[0.025</th>    <th>0.975]</th>  \n",
       "</tr>\n",
       "<tr>\n",
       "  <th>COGT</th>      <td>   -0.7119</td> <td>    0.035</td> <td>  -20.190</td> <td> 0.000</td> <td>   -0.781</td> <td>   -0.643</td>\n",
       "</tr>\n",
       "<tr>\n",
       "  <th>PT08S3NOx</th> <td>    0.0067</td> <td> 9.25e-05</td> <td>   72.736</td> <td> 0.000</td> <td>    0.007</td> <td>    0.007</td>\n",
       "</tr>\n",
       "<tr>\n",
       "  <th>NO2GT</th>     <td>    0.0320</td> <td>    0.001</td> <td>   41.698</td> <td> 0.000</td> <td>    0.030</td> <td>    0.033</td>\n",
       "</tr>\n",
       "<tr>\n",
       "  <th>PT08S4NO2</th> <td>    0.0071</td> <td>    0.000</td> <td>   56.069</td> <td> 0.000</td> <td>    0.007</td> <td>    0.007</td>\n",
       "</tr>\n",
       "<tr>\n",
       "  <th>RH</th>        <td>   -0.3210</td> <td>    0.002</td> <td> -205.110</td> <td> 0.000</td> <td>   -0.324</td> <td>   -0.318</td>\n",
       "</tr>\n",
       "<tr>\n",
       "  <th>AH</th>        <td>   15.5236</td> <td>    0.112</td> <td>  138.858</td> <td> 0.000</td> <td>   15.304</td> <td>   15.743</td>\n",
       "</tr>\n",
       "</table>\n",
       "<table class=\"simpletable\">\n",
       "<tr>\n",
       "  <th>Omnibus:</th>       <td>973.047</td> <th>  Durbin-Watson:     </th> <td>   0.177</td>\n",
       "</tr>\n",
       "<tr>\n",
       "  <th>Prob(Omnibus):</th> <td> 0.000</td>  <th>  Jarque-Bera (JB):  </th> <td>1995.573</td>\n",
       "</tr>\n",
       "<tr>\n",
       "  <th>Skew:</th>          <td> 0.667</td>  <th>  Prob(JB):          </th> <td>    0.00</td>\n",
       "</tr>\n",
       "<tr>\n",
       "  <th>Kurtosis:</th>      <td> 4.827</td>  <th>  Cond. No.          </th> <td>7.07e+03</td>\n",
       "</tr>\n",
       "</table><br/><br/>Notes:<br/>[1] R² is computed without centering (uncentered) since the model does not contain a constant.<br/>[2] Standard Errors assume that the covariance matrix of the errors is correctly specified.<br/>[3] The condition number is large, 7.07e+03. This might indicate that there are<br/>strong multicollinearity or other numerical problems."
      ],
      "text/plain": [
       "<class 'statsmodels.iolib.summary.Summary'>\n",
       "\"\"\"\n",
       "                                 OLS Regression Results                                \n",
       "=======================================================================================\n",
       "Dep. Variable:                      T   R-squared (uncentered):                   0.983\n",
       "Model:                            OLS   Adj. R-squared (uncentered):              0.983\n",
       "Method:                 Least Squares   F-statistic:                          9.152e+04\n",
       "Date:                Sun, 19 Jun 2022   Prob (F-statistic):                        0.00\n",
       "Time:                        17:32:02   Log-Likelihood:                         -22278.\n",
       "No. Observations:                9357   AIC:                                  4.457e+04\n",
       "Df Residuals:                    9351   BIC:                                  4.461e+04\n",
       "Df Model:                           6                                                  \n",
       "Covariance Type:            nonrobust                                                  \n",
       "==============================================================================\n",
       "                 coef    std err          t      P>|t|      [0.025      0.975]\n",
       "------------------------------------------------------------------------------\n",
       "COGT          -0.7119      0.035    -20.190      0.000      -0.781      -0.643\n",
       "PT08S3NOx      0.0067   9.25e-05     72.736      0.000       0.007       0.007\n",
       "NO2GT          0.0320      0.001     41.698      0.000       0.030       0.033\n",
       "PT08S4NO2      0.0071      0.000     56.069      0.000       0.007       0.007\n",
       "RH            -0.3210      0.002   -205.110      0.000      -0.324      -0.318\n",
       "AH            15.5236      0.112    138.858      0.000      15.304      15.743\n",
       "==============================================================================\n",
       "Omnibus:                      973.047   Durbin-Watson:                   0.177\n",
       "Prob(Omnibus):                  0.000   Jarque-Bera (JB):             1995.573\n",
       "Skew:                           0.667   Prob(JB):                         0.00\n",
       "Kurtosis:                       4.827   Cond. No.                     7.07e+03\n",
       "==============================================================================\n",
       "\n",
       "Notes:\n",
       "[1] R² is computed without centering (uncentered) since the model does not contain a constant.\n",
       "[2] Standard Errors assume that the covariance matrix of the errors is correctly specified.\n",
       "[3] The condition number is large, 7.07e+03. This might indicate that there are\n",
       "strong multicollinearity or other numerical problems.\n",
       "\"\"\""
      ]
     },
     "execution_count": 89,
     "metadata": {},
     "output_type": "execute_result"
    }
   ],
   "source": [
    "X = data.drop('T', axis=1)\n",
    "y = data['T']\n",
    "\n",
    "import statsmodels.api as sm\n",
    "X_int = sm.add_constant(X)\n",
    "model = sm.OLS(y,X).fit()\n",
    "model.summary()"
   ]
  },
  {
   "cell_type": "code",
   "execution_count": 90,
   "metadata": {},
   "outputs": [
    {
     "data": {
      "text/html": [
       "<div>\n",
       "<style scoped>\n",
       "    .dataframe tbody tr th:only-of-type {\n",
       "        vertical-align: middle;\n",
       "    }\n",
       "\n",
       "    .dataframe tbody tr th {\n",
       "        vertical-align: top;\n",
       "    }\n",
       "\n",
       "    .dataframe thead th {\n",
       "        text-align: right;\n",
       "    }\n",
       "</style>\n",
       "<table border=\"1\" class=\"dataframe\">\n",
       "  <thead>\n",
       "    <tr style=\"text-align: right;\">\n",
       "      <th></th>\n",
       "      <th>cc</th>\n",
       "    </tr>\n",
       "    <tr>\n",
       "      <th>pairs</th>\n",
       "      <th></th>\n",
       "    </tr>\n",
       "  </thead>\n",
       "  <tbody>\n",
       "  </tbody>\n",
       "</table>\n",
       "</div>"
      ],
      "text/plain": [
       "Empty DataFrame\n",
       "Columns: [cc]\n",
       "Index: []"
      ]
     },
     "execution_count": 90,
     "metadata": {},
     "output_type": "execute_result"
    }
   ],
   "source": [
    "data.corr()\n",
    "abs(data.corr()) > 0.75\n",
    "\n",
    "# save absolute value of correlation matrix as a data frame\n",
    "# converts all values to absolute value\n",
    "# stacks the row:column pairs into a multindex\n",
    "# reset the index to set the multindex to seperate columns\n",
    "# sort values. 0 is the column automatically generated by the stacking\n",
    "df=data.corr().abs().stack().reset_index().sort_values(0, ascending=False)\n",
    "# zip the variable name columns (Which were only named level_0 and level_1 by default) in a new column named \"pairs\"\n",
    "df['pairs'] = list(zip(df.level_0, df.level_1))\n",
    "# set index to pairs\n",
    "df.set_index(['pairs'], inplace = True)\n",
    "#d rop level columns\n",
    "df.drop(columns=['level_1', 'level_0'], inplace = True)\n",
    "# rename correlation column as cc rather than 0\n",
    "df.columns = ['cc']\n",
    "# drop duplicates. This could be dangerous if you have variables perfectly correlated with variables other than themselves.\n",
    "# for the sake of exercise, kept it in.\n",
    "df.drop_duplicates(inplace=True)\n",
    "\n",
    "df[(df.cc>.7) & (df.cc <1)]"
   ]
  },
  {
   "cell_type": "code",
   "execution_count": 98,
   "metadata": {},
   "outputs": [],
   "source": [
    "from sklearn.model_selection import train_test_split\n",
    "\n",
    "X = data.drop('T', axis=1)\n",
    "y = data['T']\n",
    "\n",
    "# Split the data into training and test sets (assign 20% to test set)\n",
    "X_train, X_test, y_train, y_test = train_test_split(X, y, test_size=0.20)\n",
    "\n"
   ]
  },
  {
   "cell_type": "code",
   "execution_count": 99,
   "metadata": {},
   "outputs": [],
   "source": [
    "from sklearn.linear_model import LinearRegression\n",
    "linreg = LinearRegression()\n",
    "\n",
    "linreg.fit(X_train, y_train)\n",
    "y_hat_test = linreg.predict(X_test)"
   ]
  },
  {
   "cell_type": "code",
   "execution_count": 100,
   "metadata": {},
   "outputs": [
    {
     "data": {
      "text/plain": [
       "5.647819033100378"
      ]
     },
     "execution_count": 100,
     "metadata": {},
     "output_type": "execute_result"
    }
   ],
   "source": [
    "from sklearn.metrics import mean_squared_error\n",
    "test_residuals = y_hat_test - y_test\n",
    "\n",
    "test_mse = mean_squared_error(y_test, y_hat_test)\n",
    "test_mse"
   ]
  },
  {
   "cell_type": "code",
   "execution_count": 101,
   "metadata": {},
   "outputs": [],
   "source": [
    "from sklearn.metrics import mean_squared_error, make_scorer\n",
    "from sklearn.model_selection import cross_val_score\n",
    "\n",
    "mse = make_scorer(mean_squared_error)\n",
    "\n",
    "cv_5_results = cross_val_score(linreg, X, y, cv=5, scoring=mse)\n",
    "cv_10_results = cross_val_score(linreg, X, y, cv=10, scoring=mse)\n",
    "cv_20_results = cross_val_score(linreg, X, y, cv=20, scoring=mse)"
   ]
  },
  {
   "cell_type": "code",
   "execution_count": 106,
   "metadata": {},
   "outputs": [
    {
     "data": {
      "text/plain": [
       "(8.610879055702798, 6.8458765897824545, 6.409304929957949)"
      ]
     },
     "execution_count": 106,
     "metadata": {},
     "output_type": "execute_result"
    }
   ],
   "source": [
    "cv_5_results.mean(), cv_10_results.mean(), cv_20_results.mean()"
   ]
  },
  {
   "cell_type": "code",
   "execution_count": 109,
   "metadata": {},
   "outputs": [
    {
     "name": "stdout",
     "output_type": "stream",
     "text": [
      "7485 1872 7485 1872\n",
      "Train Mean Squarred Error: 5.5911540080247795\n",
      "Test Mean Squarred Error: 5.565575357246956\n"
     ]
    }
   ],
   "source": [
    "from sklearn.model_selection import train_test_split\n",
    "\n",
    "X_train, X_test, y_train, y_test = train_test_split(X, y, test_size=0.2, random_state=42)\n",
    "\n",
    "print(len(X_train), len(X_test), len(y_train), len(y_test))\n",
    "\n",
    "from sklearn.linear_model import LinearRegression\n",
    "linreg = LinearRegression()\n",
    "linreg.fit(X_train, y_train)\n",
    "y_hat_train = linreg.predict(X_train)\n",
    "y_hat_test = linreg.predict(X_test)\n",
    "\n",
    "from sklearn.metrics import mean_squared_error\n",
    "train_mse = mean_squared_error(y_train, y_hat_train)\n",
    "test_mse = mean_squared_error(y_test, y_hat_test)\n",
    "print('Train Mean Squarred Error:', train_mse)\n",
    "print('Test Mean Squarred Error:', test_mse)"
   ]
  },
  {
   "cell_type": "code",
   "execution_count": 113,
   "metadata": {},
   "outputs": [
    {
     "data": {
      "text/plain": [
       "0.9251954498646173"
      ]
     },
     "execution_count": 113,
     "metadata": {},
     "output_type": "execute_result"
    }
   ],
   "source": [
    "from sklearn.linear_model import LinearRegression\n",
    "from sklearn.model_selection import cross_val_score\n",
    "from sklearn.model_selection import KFold\n",
    "\n",
    "regression = LinearRegression()\n",
    "\n",
    "crossvalidation = KFold(n_splits=10, shuffle=True, random_state=1)\n",
    "baseline = np.mean(cross_val_score(regression, X, y, scoring='r2', cv=crossvalidation))\n",
    "baseline"
   ]
  },
  {
   "cell_type": "code",
   "execution_count": 116,
   "metadata": {},
   "outputs": [
    {
     "name": "stdout",
     "output_type": "stream",
     "text": [
      "0\n",
      "Top interaction: [('PT08S4NO2', 'AH', 0.949)]\n"
     ]
    }
   ],
   "source": [
    "from itertools import combinations\n",
    "\n",
    "crossvalidation = KFold(n_splits=10, shuffle=True, random_state=1)\n",
    "\n",
    "interactions = []\n",
    "\n",
    "feat_combinations = combinations(X.columns, 2)\n",
    "\n",
    "data = X.copy()\n",
    "for i, (a, b) in enumerate(feat_combinations):\n",
    "    data['interaction'] = data[a] * data[b]\n",
    "    score = np.mean(cross_val_score(regression, data, y, scoring='r2', cv=crossvalidation))\n",
    "    if score > baseline:\n",
    "        interactions.append((a, b, round(score,3)))\n",
    "    \n",
    "    if i % 50 == 0:\n",
    "        print(i)\n",
    "            \n",
    "print('Top interaction: %s' %sorted(interactions, key=lambda inter: inter[2], reverse=True)[:1])"
   ]
  },
  {
   "cell_type": "code",
   "execution_count": 117,
   "metadata": {},
   "outputs": [
    {
     "data": {
      "text/plain": [
       "0.9488482786055951"
      ]
     },
     "execution_count": 117,
     "metadata": {},
     "output_type": "execute_result"
    }
   ],
   "source": [
    "regression = LinearRegression()\n",
    "crossvalidation = KFold(n_splits=3, shuffle=True, random_state=1)\n",
    "\n",
    "X_interact = X.copy()\n",
    "X_interact['PT08S4NO2_AH'] = X['PT08S4NO2'] * X['AH']\n",
    "\n",
    "interact_horse_origin = np.mean(cross_val_score(regression, X_interact, y, scoring='r2', cv=crossvalidation))\n",
    "interact_horse_origin"
   ]
  },
  {
   "cell_type": "code",
   "execution_count": 118,
   "metadata": {},
   "outputs": [
    {
     "data": {
      "text/html": [
       "<table class=\"simpletable\">\n",
       "<caption>OLS Regression Results</caption>\n",
       "<tr>\n",
       "  <th>Dep. Variable:</th>            <td>T</td>        <th>  R-squared (uncentered):</th>      <td>   0.990</td> \n",
       "</tr>\n",
       "<tr>\n",
       "  <th>Model:</th>                   <td>OLS</td>       <th>  Adj. R-squared (uncentered):</th> <td>   0.990</td> \n",
       "</tr>\n",
       "<tr>\n",
       "  <th>Method:</th>             <td>Least Squares</td>  <th>  F-statistic:       </th>          <td>1.392e+05</td>\n",
       "</tr>\n",
       "<tr>\n",
       "  <th>Date:</th>             <td>Sun, 19 Jun 2022</td> <th>  Prob (F-statistic):</th>           <td>  0.00</td>  \n",
       "</tr>\n",
       "<tr>\n",
       "  <th>Time:</th>                 <td>18:02:57</td>     <th>  Log-Likelihood:    </th>          <td> -19627.</td> \n",
       "</tr>\n",
       "<tr>\n",
       "  <th>No. Observations:</th>      <td>  9357</td>      <th>  AIC:               </th>          <td>3.927e+04</td>\n",
       "</tr>\n",
       "<tr>\n",
       "  <th>Df Residuals:</th>          <td>  9350</td>      <th>  BIC:               </th>          <td>3.932e+04</td>\n",
       "</tr>\n",
       "<tr>\n",
       "  <th>Df Model:</th>              <td>     7</td>      <th>                     </th>              <td> </td>    \n",
       "</tr>\n",
       "<tr>\n",
       "  <th>Covariance Type:</th>      <td>nonrobust</td>    <th>                     </th>              <td> </td>    \n",
       "</tr>\n",
       "</table>\n",
       "<table class=\"simpletable\">\n",
       "<tr>\n",
       "        <td></td>          <th>coef</th>     <th>std err</th>      <th>t</th>      <th>P>|t|</th>  <th>[0.025</th>    <th>0.975]</th>  \n",
       "</tr>\n",
       "<tr>\n",
       "  <th>COGT</th>         <td>   -0.2548</td> <td>    0.027</td> <td>   -9.400</td> <td> 0.000</td> <td>   -0.308</td> <td>   -0.202</td>\n",
       "</tr>\n",
       "<tr>\n",
       "  <th>PT08S3NOx</th>    <td>    0.0012</td> <td>  9.6e-05</td> <td>   11.984</td> <td> 0.000</td> <td>    0.001</td> <td>    0.001</td>\n",
       "</tr>\n",
       "<tr>\n",
       "  <th>NO2GT</th>        <td>    0.0054</td> <td>    0.001</td> <td>    8.193</td> <td> 0.000</td> <td>    0.004</td> <td>    0.007</td>\n",
       "</tr>\n",
       "<tr>\n",
       "  <th>PT08S4NO2</th>    <td>    0.0135</td> <td>    0.000</td> <td>  110.683</td> <td> 0.000</td> <td>    0.013</td> <td>    0.014</td>\n",
       "</tr>\n",
       "<tr>\n",
       "  <th>RH</th>           <td>   -0.3565</td> <td>    0.001</td> <td> -284.787</td> <td> 0.000</td> <td>   -0.359</td> <td>   -0.354</td>\n",
       "</tr>\n",
       "<tr>\n",
       "  <th>AH</th>           <td>   31.4591</td> <td>    0.207</td> <td>  152.188</td> <td> 0.000</td> <td>   31.054</td> <td>   31.864</td>\n",
       "</tr>\n",
       "<tr>\n",
       "  <th>PT08S4NO2_AH</th> <td>   -0.0109</td> <td>    0.000</td> <td>  -84.415</td> <td> 0.000</td> <td>   -0.011</td> <td>   -0.011</td>\n",
       "</tr>\n",
       "</table>\n",
       "<table class=\"simpletable\">\n",
       "<tr>\n",
       "  <th>Omnibus:</th>       <td>2119.768</td> <th>  Durbin-Watson:     </th> <td>   0.186</td>\n",
       "</tr>\n",
       "<tr>\n",
       "  <th>Prob(Omnibus):</th>  <td> 0.000</td>  <th>  Jarque-Bera (JB):  </th> <td>6221.155</td>\n",
       "</tr>\n",
       "<tr>\n",
       "  <th>Skew:</th>           <td> 1.178</td>  <th>  Prob(JB):          </th> <td>    0.00</td>\n",
       "</tr>\n",
       "<tr>\n",
       "  <th>Kurtosis:</th>       <td> 6.225</td>  <th>  Cond. No.          </th> <td>2.45e+04</td>\n",
       "</tr>\n",
       "</table><br/><br/>Notes:<br/>[1] R² is computed without centering (uncentered) since the model does not contain a constant.<br/>[2] Standard Errors assume that the covariance matrix of the errors is correctly specified.<br/>[3] The condition number is large, 2.45e+04. This might indicate that there are<br/>strong multicollinearity or other numerical problems."
      ],
      "text/plain": [
       "<class 'statsmodels.iolib.summary.Summary'>\n",
       "\"\"\"\n",
       "                                 OLS Regression Results                                \n",
       "=======================================================================================\n",
       "Dep. Variable:                      T   R-squared (uncentered):                   0.990\n",
       "Model:                            OLS   Adj. R-squared (uncentered):              0.990\n",
       "Method:                 Least Squares   F-statistic:                          1.392e+05\n",
       "Date:                Sun, 19 Jun 2022   Prob (F-statistic):                        0.00\n",
       "Time:                        18:02:57   Log-Likelihood:                         -19627.\n",
       "No. Observations:                9357   AIC:                                  3.927e+04\n",
       "Df Residuals:                    9350   BIC:                                  3.932e+04\n",
       "Df Model:                           7                                                  \n",
       "Covariance Type:            nonrobust                                                  \n",
       "================================================================================\n",
       "                   coef    std err          t      P>|t|      [0.025      0.975]\n",
       "--------------------------------------------------------------------------------\n",
       "COGT            -0.2548      0.027     -9.400      0.000      -0.308      -0.202\n",
       "PT08S3NOx        0.0012    9.6e-05     11.984      0.000       0.001       0.001\n",
       "NO2GT            0.0054      0.001      8.193      0.000       0.004       0.007\n",
       "PT08S4NO2        0.0135      0.000    110.683      0.000       0.013       0.014\n",
       "RH              -0.3565      0.001   -284.787      0.000      -0.359      -0.354\n",
       "AH              31.4591      0.207    152.188      0.000      31.054      31.864\n",
       "PT08S4NO2_AH    -0.0109      0.000    -84.415      0.000      -0.011      -0.011\n",
       "==============================================================================\n",
       "Omnibus:                     2119.768   Durbin-Watson:                   0.186\n",
       "Prob(Omnibus):                  0.000   Jarque-Bera (JB):             6221.155\n",
       "Skew:                           1.178   Prob(JB):                         0.00\n",
       "Kurtosis:                       6.225   Cond. No.                     2.45e+04\n",
       "==============================================================================\n",
       "\n",
       "Notes:\n",
       "[1] R² is computed without centering (uncentered) since the model does not contain a constant.\n",
       "[2] Standard Errors assume that the covariance matrix of the errors is correctly specified.\n",
       "[3] The condition number is large, 2.45e+04. This might indicate that there are\n",
       "strong multicollinearity or other numerical problems.\n",
       "\"\"\""
      ]
     },
     "execution_count": 118,
     "metadata": {},
     "output_type": "execute_result"
    }
   ],
   "source": [
    "import statsmodels.api as sm\n",
    "X_interact_2 = sm.add_constant(X_interact)\n",
    "model = sm.OLS(y,X_interact)\n",
    "results = model.fit()\n",
    "\n",
    "results.summary()"
   ]
  },
  {
   "cell_type": "code",
   "execution_count": null,
   "metadata": {},
   "outputs": [],
   "source": []
  },
  {
   "cell_type": "code",
   "execution_count": null,
   "metadata": {},
   "outputs": [],
   "source": []
  },
  {
   "cell_type": "code",
   "execution_count": null,
   "metadata": {},
   "outputs": [],
   "source": []
  },
  {
   "cell_type": "code",
   "execution_count": null,
   "metadata": {},
   "outputs": [],
   "source": []
  },
  {
   "cell_type": "code",
   "execution_count": null,
   "metadata": {},
   "outputs": [],
   "source": []
  },
  {
   "cell_type": "code",
   "execution_count": null,
   "metadata": {},
   "outputs": [],
   "source": [
    "\n",
    "data['NMHC(GT)'].value_counts()"
   ]
  },
  {
   "cell_type": "code",
   "execution_count": null,
   "metadata": {},
   "outputs": [],
   "source": [
    "def cleaning_and_median(name_column):\n",
    "    data[name_column] = data[name_column].astype(str).astype(float)\n",
    "    data[name_column] = data[name_column].replace(-200,data[name_column].median())"
   ]
  },
  {
   "cell_type": "code",
   "execution_count": null,
   "metadata": {},
   "outputs": [],
   "source": []
  },
  {
   "cell_type": "code",
   "execution_count": null,
   "metadata": {},
   "outputs": [],
   "source": []
  },
  {
   "cell_type": "code",
   "execution_count": null,
   "metadata": {},
   "outputs": [],
   "source": []
  },
  {
   "cell_type": "code",
   "execution_count": null,
   "metadata": {},
   "outputs": [],
   "source": []
  },
  {
   "cell_type": "code",
   "execution_count": null,
   "metadata": {},
   "outputs": [],
   "source": []
  },
  {
   "cell_type": "code",
   "execution_count": null,
   "metadata": {},
   "outputs": [],
   "source": []
  },
  {
   "cell_type": "code",
   "execution_count": null,
   "metadata": {},
   "outputs": [],
   "source": [
    "data"
   ]
  },
  {
   "cell_type": "code",
   "execution_count": null,
   "metadata": {},
   "outputs": [],
   "source": [
    "data['CO(GT)'] = data['CO(GT)'].replace(\",\",\" \")\n",
    "data['CO(GT)']"
   ]
  },
  {
   "cell_type": "code",
   "execution_count": null,
   "metadata": {},
   "outputs": [],
   "source": [
    "data['CO(GT)'] = data['CO(GT)'].astype(str)\n",
    "data['CO(GT)'] = data['CO(GT)'].str.replace(\",\",\".\")\n",
    "data['CO(GT)']"
   ]
  },
  {
   "cell_type": "code",
   "execution_count": null,
   "metadata": {},
   "outputs": [],
   "source": [
    "data['CO(GT)'] = data['CO(GT)'].astype(str).astype(float)"
   ]
  },
  {
   "cell_type": "code",
   "execution_count": null,
   "metadata": {},
   "outputs": [],
   "source": [
    "data['CO(GT)']=data['CO(GT)'].replace(-200,data['CO(GT)'].median())\n"
   ]
  },
  {
   "cell_type": "code",
   "execution_count": null,
   "metadata": {},
   "outputs": [],
   "source": [
    "data['CO(GT)'].value_counts()"
   ]
  },
  {
   "cell_type": "code",
   "execution_count": null,
   "metadata": {},
   "outputs": [],
   "source": [
    "\n",
    "\n",
    "\n",
    "\n"
   ]
  },
  {
   "cell_type": "code",
   "execution_count": null,
   "metadata": {},
   "outputs": [],
   "source": []
  },
  {
   "cell_type": "code",
   "execution_count": null,
   "metadata": {},
   "outputs": [],
   "source": [
    "\n"
   ]
  },
  {
   "cell_type": "code",
   "execution_count": null,
   "metadata": {},
   "outputs": [],
   "source": [
    "data['C6H6(GT)'] = data['C6H6(GT)'].str.replace(\",\",\".\")\n",
    "data['C6H6(GT)']"
   ]
  },
  {
   "cell_type": "code",
   "execution_count": null,
   "metadata": {},
   "outputs": [],
   "source": [
    "data['T'] = data['T'].str.replace(\",\",\".\")\n",
    "data['T']"
   ]
  },
  {
   "cell_type": "code",
   "execution_count": null,
   "metadata": {},
   "outputs": [],
   "source": [
    "data['RH'] = data['RH'].str.replace(\",\",\".\")\n",
    "data['RH']"
   ]
  },
  {
   "cell_type": "code",
   "execution_count": null,
   "metadata": {},
   "outputs": [],
   "source": [
    "data['AH'] = data['AH'].str.replace(\",\",\".\")\n",
    "data['AH']"
   ]
  },
  {
   "cell_type": "code",
   "execution_count": null,
   "metadata": {},
   "outputs": [],
   "source": []
  },
  {
   "cell_type": "code",
   "execution_count": null,
   "metadata": {},
   "outputs": [],
   "source": []
  },
  {
   "cell_type": "code",
   "execution_count": null,
   "metadata": {},
   "outputs": [],
   "source": []
  },
  {
   "cell_type": "code",
   "execution_count": null,
   "metadata": {},
   "outputs": [],
   "source": []
  },
  {
   "cell_type": "code",
   "execution_count": null,
   "metadata": {},
   "outputs": [],
   "source": []
  },
  {
   "cell_type": "code",
   "execution_count": null,
   "metadata": {},
   "outputs": [],
   "source": []
  },
  {
   "cell_type": "code",
   "execution_count": null,
   "metadata": {},
   "outputs": [],
   "source": []
  },
  {
   "cell_type": "code",
   "execution_count": null,
   "metadata": {},
   "outputs": [],
   "source": []
  },
  {
   "cell_type": "markdown",
   "metadata": {},
   "source": [
    "From this first screening, we can see that sqft_basement is an object, so we convert it into float. But when we try to apply the function astype, it gives an error. That's why we have to epxlore the column a little further. By reading the corresponding error of astype and using the function .value_counts() we can see that the problem is that there is the sign \"?\". \n"
   ]
  },
  {
   "cell_type": "code",
   "execution_count": null,
   "metadata": {},
   "outputs": [],
   "source": [
    "\n",
    "data['sqft_basement'].value_counts()"
   ]
  },
  {
   "cell_type": "markdown",
   "metadata": {},
   "source": [
    "To proceed with our analysis, we detete the rows that contain \"?\" "
   ]
  },
  {
   "cell_type": "code",
   "execution_count": null,
   "metadata": {},
   "outputs": [],
   "source": [
    "data = data[(data.sqft_basement != '?' )]\n",
    "data.info()"
   ]
  },
  {
   "cell_type": "markdown",
   "metadata": {},
   "source": [
    "We can now proceed to convert sqft_basement into a float type"
   ]
  },
  {
   "cell_type": "code",
   "execution_count": null,
   "metadata": {},
   "outputs": [],
   "source": [
    "data['sqft_basement'] = data['sqft_basement'].astype(str).astype(float)"
   ]
  },
  {
   "cell_type": "code",
   "execution_count": null,
   "metadata": {},
   "outputs": [],
   "source": [
    "data.info()"
   ]
  },
  {
   "cell_type": "markdown",
   "metadata": {},
   "source": [
    "Above we have confirm that the sqft_basement is now a float."
   ]
  },
  {
   "cell_type": "markdown",
   "metadata": {},
   "source": [
    "## CATEGORICAL VS CONTINUOUS DATA ANALYSIS"
   ]
  },
  {
   "cell_type": "markdown",
   "metadata": {},
   "source": [
    "Now let's identify which variables are categorical and which ones are continuous. We will do it by plotting the data. From the graphs below, we can determine that waterfront, view, condition, grade, years built, renovated year, number of bedrooms, numbero of bathrooms and number of floors are categorical variables. "
   ]
  },
  {
   "cell_type": "code",
   "execution_count": null,
   "metadata": {},
   "outputs": [],
   "source": [
    "import matplotlib.pyplot as plt\n",
    "%matplotlib inline\n",
    "\n",
    " # crate the figure and axes\n",
    "fig, axes = plt.subplots(7, 3, figsize=(24, 30))   \n",
    "\n",
    "# unpack all the axes subplots\n",
    "axe = axes.ravel()\n",
    "\n",
    "# assign the plot to each subplot in axe\n",
    "for i, c in enumerate(data.columns):\n",
    "    \n",
    "    data.plot(kind='scatter', x=c, y='price', ax=axe[i], alpha=0.4, color='b')"
   ]
  },
  {
   "cell_type": "markdown",
   "metadata": {},
   "source": [
    "We conver the \"years_built\" variable into a continous variable by calculating the years since it was renovated."
   ]
  },
  {
   "cell_type": "code",
   "execution_count": null,
   "metadata": {},
   "outputs": [],
   "source": [
    "data['years_built'] = 2022 - data['yr_built']\n",
    "data.info()\n"
   ]
  },
  {
   "cell_type": "markdown",
   "metadata": {},
   "source": [
    "## EFFECT OF RENOVATION ON PRICE "
   ]
  },
  {
   "cell_type": "markdown",
   "metadata": {},
   "source": [
    "We start our analysis determining the effect of renovation in house prices. Let's explore the data a bit further."
   ]
  },
  {
   "cell_type": "code",
   "execution_count": null,
   "metadata": {},
   "outputs": [],
   "source": [
    "data.yr_renovated.value_counts()"
   ]
  },
  {
   "cell_type": "markdown",
   "metadata": {},
   "source": [
    "From the data, we can observed that some years of renovation correspond to 0, which means that these houses have not been renovated. \n",
    "What we are going to do, is to create 2 grups, one of houses that have not been renovated and the other one of renovated houses. After that, we will perform a t-test to determine whether there is a significant change between these two groups. \n",
    "\n",
    "\n",
    "Hypothesis:\n",
    "H0 = there are no differences between renovated and non-renovated houses\n",
    "Ha = there are differences between renovated and non-renovated houses\n"
   ]
  },
  {
   "cell_type": "code",
   "execution_count": null,
   "metadata": {},
   "outputs": [],
   "source": [
    "no_renovated = data[data.yr_renovated == 0]['price']\n",
    "renovated = data[data.yr_renovated != 0]['price']\n",
    "\n",
    "# Calculate the 2-sided p-value for a t-test comparing the renovated vs no-renovated groups\n",
    "from scipy import stats\n",
    "\n",
    "stats.ttest_ind(no_renovated, renovated, equal_var=False)[1]\n"
   ]
  },
  {
   "cell_type": "markdown",
   "metadata": {},
   "source": [
    "The above result indicates that there is a signfincant difference between renovated and non-renovated houeses. Which one is more expensive? Let's see:"
   ]
  },
  {
   "cell_type": "code",
   "execution_count": null,
   "metadata": {},
   "outputs": [],
   "source": [
    "print(no_renovated.mean(), renovated.mean())"
   ]
  },
  {
   "cell_type": "markdown",
   "metadata": {},
   "source": [
    "The renovated houses are more expensive. How much?  1.4-fold more expensive, as seen below. "
   ]
  },
  {
   "cell_type": "code",
   "execution_count": null,
   "metadata": {},
   "outputs": [],
   "source": [
    "fold_increase = (renovated.mean()/no_renovated.mean())\n",
    "fold_increase"
   ]
  },
  {
   "cell_type": "markdown",
   "metadata": {},
   "source": [
    "Based on this data, we select only the non-renovated houses, as our main is to find the cheapest houses for the WHPO."
   ]
  },
  {
   "cell_type": "code",
   "execution_count": null,
   "metadata": {},
   "outputs": [],
   "source": [
    "data_new = data.drop(data[data.yr_renovated != 0].index)\n",
    "data_new.yr_renovated.value_counts() #to confirm that we only selected the non-renovated"
   ]
  },
  {
   "cell_type": "code",
   "execution_count": null,
   "metadata": {},
   "outputs": [],
   "source": [
    "data_new.info()"
   ]
  },
  {
   "cell_type": "markdown",
   "metadata": {},
   "source": [
    "## EFFECTS OF WATERVIEW ON PRICE"
   ]
  },
  {
   "cell_type": "markdown",
   "metadata": {},
   "source": [
    "To study the effect of waterviews on price, we performed the same analysis that with renovation: a t-test to compare houses with and without waterview "
   ]
  },
  {
   "cell_type": "code",
   "execution_count": null,
   "metadata": {},
   "outputs": [],
   "source": [
    "no_water_view = data_new[data_new.waterfront == 0]['price']\n",
    "water_view = data_new[data_new.waterfront != 0]['price']\n",
    "\n",
    "# Calculate the 2-sided p-value for a t-test comparing the renovated vs no-renovated groups\n",
    "from scipy import stats\n",
    "\n",
    "stats.ttest_ind(water_view, no_water_view, equal_var=False)[1]"
   ]
  },
  {
   "cell_type": "markdown",
   "metadata": {},
   "source": [
    "The t-test analysis confirm that there is a statistically signifcant differences between houses with and whithout waterview. \n",
    "Below we can see the average price for both groups."
   ]
  },
  {
   "cell_type": "code",
   "execution_count": null,
   "metadata": {},
   "outputs": [],
   "source": [
    "print(water_view.mean(), no_water_view.mean())"
   ]
  },
  {
   "cell_type": "markdown",
   "metadata": {},
   "source": [
    "Based on the data above, we select only the houses that do not have waterviews for our further analysis"
   ]
  },
  {
   "cell_type": "code",
   "execution_count": null,
   "metadata": {},
   "outputs": [],
   "source": [
    "data_new = data_new.drop(data_new[data_new.waterfront != 0].index)\n",
    "data_new"
   ]
  },
  {
   "cell_type": "code",
   "execution_count": null,
   "metadata": {},
   "outputs": [],
   "source": [
    "data_new.waterfront.value_counts() #to confirm that we only have the houses without waterviews"
   ]
  },
  {
   "cell_type": "code",
   "execution_count": null,
   "metadata": {},
   "outputs": [],
   "source": [
    "data_new.info()"
   ]
  },
  {
   "cell_type": "markdown",
   "metadata": {},
   "source": [
    "## EFFECTS OF ZIPCODES ON PRICE"
   ]
  },
  {
   "cell_type": "markdown",
   "metadata": {},
   "source": [
    "We want now to determine which are the zipcodes that are most expensive. Since zipcodes is a categorical variable, we will use get_dummies to work with tat."
   ]
  },
  {
   "cell_type": "code",
   "execution_count": null,
   "metadata": {},
   "outputs": [],
   "source": [
    "zipcode_dummies = pd.get_dummies(data_new['zipcode'], prefix='zip', drop_first=True)"
   ]
  },
  {
   "cell_type": "code",
   "execution_count": null,
   "metadata": {},
   "outputs": [],
   "source": [
    "zipcode_analysis = data.drop(['zipcode'], axis=1)\n",
    "zipcode_analysis = pd.concat([data_new['price'], zipcode_dummies], axis=1)\n",
    "zipcode_analysis.head()\n",
    "\n",
    "\n"
   ]
  },
  {
   "cell_type": "code",
   "execution_count": null,
   "metadata": {},
   "outputs": [],
   "source": [
    "X_zip = zipcode_analysis.drop('price', axis=1)\n",
    "y_zip = zipcode_analysis['price']\n",
    "\n",
    "import statsmodels.api as sm\n",
    "X_zip_int = sm.add_constant(X_zip)\n",
    "model = sm.OLS(y_zip,X_zip_int).fit()\n",
    "model.summary()"
   ]
  },
  {
   "cell_type": "markdown",
   "metadata": {},
   "source": [
    "The adjusted R-squared value for the whole mode is 0.457, which is a very low value. This means that only 45% of the price variability can be explained by zipcode. However, in this analysis we want to focus on particular zipcodes. \n",
    "\n",
    "From this analysis we can see that several zipocdes positively and signifcantly increase the price (coefient positive and p < 0.05), and some that do not. We also observe that even some of them have a negative correlation with price, they are not significant. \n",
    "\n",
    "We want to identify which ones are the ones that positively and signficnatly increase the price and which ones do not. "
   ]
  },
  {
   "cell_type": "code",
   "execution_count": null,
   "metadata": {},
   "outputs": [],
   "source": [
    "columns = ['index','pvalue']\n",
    "\n",
    "pvalue_positive_table = pd.DataFrame(columns=columns)\n",
    "pvalue_negative_table = pd.DataFrame(columns=columns)\n",
    "\n",
    "\n",
    "for i, a in enumerate(model.pvalues):\n",
    "    if a < 0.05:\n",
    "        pvalue_positive_table.loc[i] = [i,a]\n",
    "    else:\n",
    "        pvalue_negative_table.loc[i] = [i,a]\n",
    "\n",
    "\n"
   ]
  },
  {
   "cell_type": "code",
   "execution_count": null,
   "metadata": {},
   "outputs": [],
   "source": [
    "pvalue_positive_table"
   ]
  },
  {
   "cell_type": "code",
   "execution_count": null,
   "metadata": {},
   "outputs": [],
   "source": [
    "pvalue_negative_table"
   ]
  },
  {
   "cell_type": "code",
   "execution_count": null,
   "metadata": {},
   "outputs": [],
   "source": [
    "index = pvalue_negative_table.index\n",
    "index"
   ]
  },
  {
   "cell_type": "code",
   "execution_count": null,
   "metadata": {},
   "outputs": [],
   "source": [
    "zipcodes_of_interstet = []\n",
    "\n",
    "for i in index:\n",
    "    zipcodes_of_interstet.append(zipcode_analysis.columns[i])\n",
    "\n",
    "zipcodes_of_interstet_name = []\n",
    "\n"
   ]
  },
  {
   "cell_type": "markdown",
   "metadata": {},
   "source": [
    "Below, we can see the zipcodes of interset, which means, the zipcodes that do not signficnatly incrase the house prices. Herein, these zipcodes are the ones that will have the lowest house prices"
   ]
  },
  {
   "cell_type": "code",
   "execution_count": null,
   "metadata": {},
   "outputs": [],
   "source": [
    "for i in zipcodes_of_interstet:\n",
    "     zipcodes_of_interstet_name.append(i[-5:])\n",
    "\n",
    "zipcodes_of_interstet_name"
   ]
  },
  {
   "cell_type": "code",
   "execution_count": null,
   "metadata": {},
   "outputs": [],
   "source": [
    "index_NO_interest = pvalue_positive_table.index\n",
    "\n",
    "\n",
    "zipcodes_of_NO_interstet = []\n",
    "\n",
    "for i in index_NO_interest:\n",
    "    zipcodes_of_NO_interstet.append(zipcode_analysis.columns[i])\n",
    "\n",
    "zipcodes_of_NO_interstet_name = []\n",
    "\n",
    "for i in zipcodes_of_NO_interstet:\n",
    "     zipcodes_of_NO_interstet_name.append(i[-5:])\n",
    "\n",
    "zipcodes_of_NO_interstet_name"
   ]
  },
  {
   "cell_type": "code",
   "execution_count": null,
   "metadata": {},
   "outputs": [],
   "source": [
    "#just to refresh our data:\n",
    "\n",
    "data_new"
   ]
  },
  {
   "cell_type": "code",
   "execution_count": null,
   "metadata": {},
   "outputs": [],
   "source": [
    "#as mentioend above, now we want to select only the houses corresponding to our zipcodes of interest\n",
    "\n",
    "data_new2 =  data_new[data_new['zipcode'].isin(zipcodes_of_interstet_name)]\n",
    "data_new2.zipcode.value_counts()"
   ]
  },
  {
   "cell_type": "code",
   "execution_count": null,
   "metadata": {},
   "outputs": [],
   "source": [
    "data_new2.info()"
   ]
  },
  {
   "cell_type": "markdown",
   "metadata": {},
   "source": [
    "## EFFECTS OF CONDITION ON PRICE\n",
    "\n",
    "Condition is also a categorical variable, and we will apply get_dummies to deal with it. "
   ]
  },
  {
   "cell_type": "code",
   "execution_count": null,
   "metadata": {},
   "outputs": [],
   "source": [
    "condition_dummies = pd.get_dummies(data_new2['condition'], prefix='cond', drop_first=True)"
   ]
  },
  {
   "cell_type": "code",
   "execution_count": null,
   "metadata": {},
   "outputs": [],
   "source": [
    "condition_analysis = data_new2.drop(['condition'], axis=1)\n",
    "condition_analysis = pd.concat([data_new2['price'], condition_dummies], axis=1)\n",
    "condition_analysis.head(10)\n"
   ]
  },
  {
   "cell_type": "code",
   "execution_count": null,
   "metadata": {},
   "outputs": [],
   "source": [
    "X_cond = condition_analysis.drop('price', axis=1)\n",
    "y_cond = condition_analysis['price']\n",
    "\n",
    "X_cond_int = sm.add_constant(X_cond)\n",
    "model_cond = sm.OLS(y_cond,X_cond_int).fit()\n",
    "model_cond.summary()"
   ]
  },
  {
   "cell_type": "markdown",
   "metadata": {},
   "source": [
    "The adjusted R2-value is very low (0.015). It means that only 1.5% of the price variablity can be explained by this model. However, we have performed this analysis to focus on the value of each condition individually. \n",
    "\n",
    "Similar to zipcodes, there are some conditoins that signicnatly and positively increase the house price. We perform the same analysis to udnerstand which conditions impact the price and which ones do not. "
   ]
  },
  {
   "cell_type": "code",
   "execution_count": null,
   "metadata": {},
   "outputs": [],
   "source": [
    "columns = ['index','pvalue']\n",
    "\n",
    "condition_pvalue_positive_table = pd.DataFrame(columns=columns)\n",
    "condition_pvalue_negative_table = pd.DataFrame(columns=columns)\n",
    "\n",
    "\n",
    "for i, a in enumerate(model_cond.pvalues):\n",
    "    if a < 0.05:\n",
    "        condition_pvalue_positive_table.loc[i] = [i,a]\n",
    "    else:\n",
    "        condition_pvalue_negative_table.loc[i] = [i,a]\n",
    "\n",
    "\n",
    "condition_pvalue_positive_table"
   ]
  },
  {
   "cell_type": "code",
   "execution_count": null,
   "metadata": {},
   "outputs": [],
   "source": [
    "condition_pvalue_negative_table"
   ]
  },
  {
   "cell_type": "code",
   "execution_count": null,
   "metadata": {},
   "outputs": [],
   "source": [
    "cond_grade = condition_pvalue_negative_table.index\n",
    "cond_grade"
   ]
  },
  {
   "cell_type": "code",
   "execution_count": null,
   "metadata": {},
   "outputs": [],
   "source": [
    "cond_of_interstet = []\n",
    "\n",
    "for i in cond_grade:\n",
    "    cond_of_interstet.append(condition_analysis.columns[i])\n",
    "\n",
    "cond_of_interstet"
   ]
  },
  {
   "cell_type": "code",
   "execution_count": null,
   "metadata": {},
   "outputs": [],
   "source": [
    "cond_grade_negative = condition_pvalue_positive_table.index\n",
    "cond_grade_negative\n",
    "\n",
    "cond_no_interstet = []\n",
    "\n",
    "for i in cond_grade_negative:\n",
    "    cond_no_interstet.append(condition_analysis.columns[i])\n",
    "\n",
    "cond_no_interstet"
   ]
  },
  {
   "cell_type": "code",
   "execution_count": null,
   "metadata": {},
   "outputs": [],
   "source": [
    "data_new2.condition.value_counts()\n"
   ]
  },
  {
   "cell_type": "markdown",
   "metadata": {},
   "source": [
    "From all the analysis above, we can conclude that condition 3 and above signficnatly increase the price of the houses. However, we can't filter our data only based on condition 1 and 2, because this only correspond to 27 datapoints. We will proceed with the analysis without this filter, but this is an insight that we will give to our clients."
   ]
  },
  {
   "cell_type": "markdown",
   "metadata": {},
   "source": [
    "## EFFECTS OF GRADE ON PRICE\n",
    "\n",
    "Grade is also a categorical variable, and we will apply get_dummies to deal with it. "
   ]
  },
  {
   "cell_type": "code",
   "execution_count": null,
   "metadata": {},
   "outputs": [],
   "source": [
    "grade_dummies = pd.get_dummies(data_new2['grade'], prefix='grd', drop_first=True)\n",
    "\n",
    "grade_analysis = data_new2.drop(['grade'], axis=1)\n",
    "grade_analysis = pd.concat([data_new2['price'], grade_dummies], axis=1)\n",
    "grade_analysis.head(10)"
   ]
  },
  {
   "cell_type": "code",
   "execution_count": null,
   "metadata": {},
   "outputs": [],
   "source": [
    "X_grade = grade_analysis.drop('price', axis=1)\n",
    "y_grade = grade_analysis['price']\n",
    "\n",
    "X_grade_int = sm.add_constant(X_grade)\n",
    "model_grade = sm.OLS(y_grade,X_grade_int).fit()\n",
    "model_grade.summary()"
   ]
  },
  {
   "cell_type": "markdown",
   "metadata": {},
   "source": [
    "Similar to condition, the adjusted R2-value is very low (0.433). This means that only 43.3% of the price variability can be explained by this model. However, we have performed this analysis to focus on the value of each grade indivually. \n",
    "\n",
    "Similar to grade, there are some grades that signficantly and positively increase the house price. We perform the same analysis to understand which grades impact the price and which ones do not. "
   ]
  },
  {
   "cell_type": "code",
   "execution_count": null,
   "metadata": {},
   "outputs": [],
   "source": [
    "columns = ['index','pvalue']\n",
    "\n",
    "grade_pvalue_positive_table = pd.DataFrame(columns=columns)\n",
    "grade_pvalue_negative_table = pd.DataFrame(columns=columns)\n",
    "\n",
    "\n",
    "for i, a in enumerate(model_grade.pvalues):\n",
    "    if a < 0.05:\n",
    "        grade_pvalue_positive_table.loc[i] = [i,a]\n",
    "    else:\n",
    "        grade_pvalue_negative_table.loc[i] = [i,a]\n",
    "\n",
    "\n",
    "grade_pvalue_positive_table"
   ]
  },
  {
   "cell_type": "code",
   "execution_count": null,
   "metadata": {},
   "outputs": [],
   "source": [
    "grade_pvalue_negative_table"
   ]
  },
  {
   "cell_type": "code",
   "execution_count": null,
   "metadata": {},
   "outputs": [],
   "source": [
    "index_grade = grade_pvalue_negative_table.index\n",
    "index_grade"
   ]
  },
  {
   "cell_type": "code",
   "execution_count": null,
   "metadata": {},
   "outputs": [],
   "source": [
    "grade_analysis"
   ]
  },
  {
   "cell_type": "code",
   "execution_count": null,
   "metadata": {},
   "outputs": [],
   "source": [
    "grade_of_interstet = []\n",
    "\n",
    "for i in index_grade:\n",
    "    grade_of_interstet.append(grade_analysis.columns[i])\n",
    "\n",
    "grade_of_interstet"
   ]
  },
  {
   "cell_type": "code",
   "execution_count": null,
   "metadata": {},
   "outputs": [],
   "source": [
    "index_grade_pos = grade_pvalue_positive_table.index\n",
    "\n",
    "grade_no_interstet = []\n",
    "\n",
    "for i in index_grade_pos:\n",
    "    grade_no_interstet.append(grade_analysis.columns[i])\n",
    "\n",
    "grade_no_interstet"
   ]
  },
  {
   "cell_type": "markdown",
   "metadata": {},
   "source": [
    "From the analysis above, we can determine that grade 9 and above significantly increase the house price, and therefore we  select only the houses with grade bewlow 9, as they are the cheaper ones. "
   ]
  },
  {
   "cell_type": "code",
   "execution_count": null,
   "metadata": {},
   "outputs": [],
   "source": [
    "     \n",
    "grade_of_interstet_name = []\n",
    "\n",
    "for i in grade_of_interstet:\n",
    "     grade_of_interstet_name.append(i[-1:])\n",
    "\n",
    "grade_of_interstet_name"
   ]
  },
  {
   "cell_type": "code",
   "execution_count": null,
   "metadata": {},
   "outputs": [],
   "source": [
    "# we select houses below grade 9\n",
    "data_new3 =  data_new2[data_new2['grade'].isin(grade_of_interstet_name)]\n",
    "\n",
    "data_new3.grade.value_counts()"
   ]
  },
  {
   "cell_type": "code",
   "execution_count": null,
   "metadata": {},
   "outputs": [],
   "source": [
    "data_new3.info()"
   ]
  },
  {
   "cell_type": "markdown",
   "metadata": {},
   "source": [
    "## EFFECTS OF NUMBER OF BEDROOMS ON PRICE\n"
   ]
  },
  {
   "cell_type": "code",
   "execution_count": null,
   "metadata": {},
   "outputs": [],
   "source": [
    "bedrooms_dummies = pd.get_dummies(data_new3['bedrooms'], prefix='bdr', drop_first=True)\n",
    "\n",
    "bedrooms_analysis = data_new3.drop(['grade'], axis=1)\n",
    "bedrooms_analysis = pd.concat([data_new3['price'], bedrooms_dummies], axis=1)\n",
    "bedrooms_analysis.head(10)"
   ]
  },
  {
   "cell_type": "code",
   "execution_count": null,
   "metadata": {},
   "outputs": [],
   "source": [
    "X_bed = bedrooms_analysis.drop('price', axis=1)\n",
    "y_bed = bedrooms_analysis['price']\n",
    "\n",
    "X_bed_int = sm.add_constant(X_bed)\n",
    "model_beds = sm.OLS(y_bed,X_bed_int).fit()\n",
    "model_beds.summary()"
   ]
  },
  {
   "cell_type": "markdown",
   "metadata": {},
   "source": [
    "The adjusted R-squared value for the whole model is 0.132, which is a very low value. This means that only 13.2% of the price variability can be explained by this model."
   ]
  },
  {
   "cell_type": "code",
   "execution_count": null,
   "metadata": {},
   "outputs": [],
   "source": [
    "columns = ['index','pvalue']\n",
    "\n",
    "bedrooms_pvalue_positive_table = pd.DataFrame(columns=columns)\n",
    "bedrooms_pvalue_negative_table = pd.DataFrame(columns=columns)\n",
    "\n",
    "\n",
    "for i, a in enumerate(model_beds.pvalues):\n",
    "    if a < 0.05:\n",
    "        bedrooms_pvalue_positive_table.loc[i] = [i,a]\n",
    "    else:\n",
    "        bedrooms_pvalue_negative_table.loc[i] = [i,a]\n",
    "\n",
    "\n",
    "bedrooms_pvalue_positive_table"
   ]
  },
  {
   "cell_type": "code",
   "execution_count": null,
   "metadata": {},
   "outputs": [],
   "source": [
    "bedrooms_pvalue_negative_table"
   ]
  },
  {
   "cell_type": "markdown",
   "metadata": {},
   "source": [
    "What this analysis indicate, is that the number of bedrooms always have an impact on the price. And the more number of rooms, the more expensive the price (since the coeficient increases with number of rooms).\n",
    "It will be up to WHPO to decide the number of rooms they want for their houses. Maybe they want one room for single people, or 3 for families.... but they need to be aware that the bigger the number of rooms, the more expensive the houses.\n",
    "Considering that WHPO may be intersted in different houses sizes, we won't furhter narrow our subset of intersting houses. "
   ]
  },
  {
   "cell_type": "markdown",
   "metadata": {},
   "source": [
    "Now that we have selected the houses with the lowest price, we want to determine how several continuous variables affect the price of the selected houses. "
   ]
  },
  {
   "cell_type": "markdown",
   "metadata": {},
   "source": [
    "\n",
    "## EFFECTS OF YEARS SINCE BUILT, SQFT LIVING AREA AND SQFT LIVING LOT ON PRICE "
   ]
  },
  {
   "cell_type": "code",
   "execution_count": null,
   "metadata": {},
   "outputs": [],
   "source": [
    "data_new3.columns"
   ]
  },
  {
   "cell_type": "code",
   "execution_count": null,
   "metadata": {},
   "outputs": [],
   "source": [
    "#We focus on the following variables, which are continuous variables:\n",
    "\n",
    "continuous_norm = ['price','sqft_living','sqft_lot', 'years_built']\n"
   ]
  },
  {
   "cell_type": "markdown",
   "metadata": {},
   "source": [
    "Let's see if these variables follow a normal distribution"
   ]
  },
  {
   "cell_type": "code",
   "execution_count": null,
   "metadata": {},
   "outputs": [],
   "source": [
    "\n",
    "import warnings\n",
    "warnings.filterwarnings('ignore')\n",
    "fig = plt.figure(figsize = (10,10))\n",
    "ax = fig.gca()\n",
    "data_new3[continuous_norm].hist(ax = ax);"
   ]
  },
  {
   "cell_type": "markdown",
   "metadata": {},
   "source": [
    "We try to improve the distribution by logaritmic transformation and normalization"
   ]
  },
  {
   "cell_type": "code",
   "execution_count": null,
   "metadata": {},
   "outputs": [],
   "source": [
    "\n",
    "\n",
    "# Log transform and normalize\n",
    "data_cont = data_new3[continuous_norm]\n",
    "\n",
    "# log features\n",
    "log_names = [f'{column}_log' for column in data_cont.columns]\n",
    "data_log = np.log(data_cont)\n",
    "data_log.columns = log_names\n",
    "# normalize (subract mean and divide by std)\n",
    "def normalize(feature):\n",
    "    return (feature - feature.mean()) / feature.std()\n",
    "\n",
    "data_log_norm = data_log.apply(normalize)\n",
    "\n",
    "data_log_norm.info()"
   ]
  },
  {
   "cell_type": "markdown",
   "metadata": {},
   "source": [
    "Let's visualize the changes in the distribution:"
   ]
  },
  {
   "cell_type": "code",
   "execution_count": null,
   "metadata": {},
   "outputs": [],
   "source": [
    "warnings.filterwarnings('ignore')\n",
    "fig = plt.figure(figsize = (10,10))\n",
    "ax = fig.gca()\n",
    "data_log_norm.hist(ax = ax);"
   ]
  },
  {
   "cell_type": "code",
   "execution_count": null,
   "metadata": {},
   "outputs": [],
   "source": [
    "#let's confirm the data that we have\n",
    "\n",
    "data_log_norm"
   ]
  },
  {
   "cell_type": "markdown",
   "metadata": {},
   "source": [
    "Now we create a regression model with these variables:"
   ]
  },
  {
   "cell_type": "code",
   "execution_count": null,
   "metadata": {},
   "outputs": [],
   "source": [
    "X_new = data_log_norm.drop('price_log', axis=1)\n",
    "y_new = data_log_norm['price_log']\n",
    "\n",
    "import statsmodels.api as sm\n",
    "X_new_int = sm.add_constant(X_new)\n",
    "model_new = sm.OLS(y_new,X_new_int).fit()\n",
    "model_new.summary()"
   ]
  },
  {
   "cell_type": "markdown",
   "metadata": {},
   "source": [
    "\n",
    "The adjusted R-squared value for the whole mode is 0.446, which is a  low value. This means that only 44.6% of the price variability can be explained by this model.\n",
    "To try to improve our model, let's check the colinearility of the variables:"
   ]
  },
  {
   "cell_type": "code",
   "execution_count": null,
   "metadata": {},
   "outputs": [],
   "source": [
    "data_log_norm.corr()\n",
    "abs(data_log_norm.corr()) > 0.75\n",
    "\n",
    "# save absolute value of correlation matrix as a data frame\n",
    "# converts all values to absolute value\n",
    "# stacks the row:column pairs into a multindex\n",
    "# reset the index to set the multindex to seperate columns\n",
    "# sort values. 0 is the column automatically generated by the stacking\n",
    "df=data_log_norm.corr().abs().stack().reset_index().sort_values(0, ascending=False)\n",
    "# zip the variable name columns (Which were only named level_0 and level_1 by default) in a new column named \"pairs\"\n",
    "df['pairs'] = list(zip(df.level_0, df.level_1))\n",
    "# set index to pairs\n",
    "df.set_index(['pairs'], inplace = True)\n",
    "#d rop level columns\n",
    "df.drop(columns=['level_1', 'level_0'], inplace = True)\n",
    "# rename correlation column as cc rather than 0\n",
    "df.columns = ['cc']\n",
    "# drop duplicates. This could be dangerous if you have variables perfectly correlated with variables other than themselves.\n",
    "# for the sake of exercise, kept it in.\n",
    "df.drop_duplicates(inplace=True)\n",
    "\n",
    "df[(df.cc>.75) & (df.cc <1)]"
   ]
  },
  {
   "cell_type": "markdown",
   "metadata": {},
   "source": [
    "From the analysis above, it doesn't seem to be any considerable correlation between variables. Now let's study interaction between variables"
   ]
  },
  {
   "cell_type": "code",
   "execution_count": null,
   "metadata": {},
   "outputs": [],
   "source": [
    "from sklearn.linear_model import LinearRegression\n",
    "from sklearn.model_selection import cross_val_score\n",
    "from sklearn.model_selection import KFold\n",
    "\n",
    "regression = LinearRegression()\n",
    "\n",
    "crossvalidation = KFold(n_splits=10, shuffle=True, random_state=1)\n",
    "baseline = np.mean(cross_val_score(regression, X_new, y_new, scoring='r2', cv=crossvalidation))\n",
    "baseline"
   ]
  },
  {
   "cell_type": "code",
   "execution_count": null,
   "metadata": {},
   "outputs": [],
   "source": [
    "from itertools import combinations\n",
    "\n",
    "crossvalidation = KFold(n_splits=10, shuffle=True, random_state=1)\n",
    "\n",
    "interactions = []\n",
    "\n",
    "feat_combinations = combinations(X_new.columns, 2)\n",
    "\n",
    "data = X_new.copy()\n",
    "for i, (a, b) in enumerate(feat_combinations):\n",
    "    data['interaction'] = data[a] * data[b]\n",
    "    score = np.mean(cross_val_score(regression, data, y_new, scoring='r2', cv=crossvalidation))\n",
    "    if score > baseline:\n",
    "        interactions.append((a, b, round(score,3)))\n",
    "    \n",
    "    if i % 50 == 0:\n",
    "        print(i)\n",
    "            \n",
    "print('Top interaction: %s' %sorted(interactions, key=lambda inter: inter[2], reverse=True)[:1])"
   ]
  },
  {
   "cell_type": "markdown",
   "metadata": {},
   "source": [
    "So from the analysis above, there are not interactions or colinearitly that we should we aware and adjust our model based on. As such, let's refresh our model and gain some insights: "
   ]
  },
  {
   "cell_type": "code",
   "execution_count": null,
   "metadata": {},
   "outputs": [],
   "source": [
    "X_new = data_log_norm.drop('price_log', axis=1)\n",
    "y_new = data_log_norm['price_log']\n",
    "\n",
    "import statsmodels.api as sm\n",
    "X_new_int = sm.add_constant(X_new)\n",
    "model_new = sm.OLS(y_new,X_new_int).fit()\n",
    "model_new.summary()"
   ]
  },
  {
   "cell_type": "markdown",
   "metadata": {},
   "source": [
    "SQFT living area and lot have a significant positive contribution to the house price in our subset of interest (the more area, the more expensive).\n",
    "Years since built has a significant negative contribution to the price (the oldest, the cheapest).\n",
    "sqft living area is the variable that affects the most to the price, as it has the highest coefficient value (coef = 0.56) and a p_value < 0.05.\n"
   ]
  },
  {
   "cell_type": "markdown",
   "metadata": {},
   "source": [
    "## MODEL VALIDATION"
   ]
  },
  {
   "cell_type": "markdown",
   "metadata": {},
   "source": [
    "Finally we validate our model creating a test sample with 20% of the datapoints. "
   ]
  },
  {
   "cell_type": "code",
   "execution_count": null,
   "metadata": {},
   "outputs": [],
   "source": [
    "from sklearn.model_selection import train_test_split\n",
    "\n",
    "X_train, X_test, y_train, y_test = train_test_split(X_new, y_new, test_size=0.2, random_state=42)\n",
    "\n",
    "print(len(X_train), len(X_test), len(y_train), len(y_test))\n",
    "\n",
    "from sklearn.linear_model import LinearRegression\n",
    "linreg = LinearRegression()\n",
    "linreg.fit(X_train, y_train)\n",
    "y_hat_train = linreg.predict(X_train)\n",
    "y_hat_test = linreg.predict(X_test)\n",
    "\n",
    "from sklearn.metrics import mean_squared_error\n",
    "train_mse = mean_squared_error(y_train, y_hat_train)\n",
    "test_mse = mean_squared_error(y_test, y_hat_test)\n",
    "print('Train Mean Squarred Error:', train_mse)\n",
    "print('Test Mean Squarred Error:', test_mse)"
   ]
  },
  {
   "cell_type": "markdown",
   "metadata": {},
   "source": [
    "The fact that there are no big difference between Test mean squarred error and Train mean squarred error validates our model. "
   ]
  },
  {
   "cell_type": "markdown",
   "metadata": {},
   "source": [
    "## CONCLUSIONS\n",
    "We provide the following business recomendations:\n",
    "\n",
    "* **Recommendations 1**: Look for non-renovated houses.\n",
    "* **Recommendations 2**: Look for houses that have no waterview.\n",
    "* **Recommendations 3**: Look for houses in the following zipcodes: 98002, 98003, 98022, 98023, 98030, 98031, 98032, 98055, 98106, 98148, 98168, 98178, 98188, 98198.\n",
    "* **Recommendations 4**: Look for houses below condition 3.\n",
    "* **Recommendations 5**: Look for houses below grade 9.\n",
    "* **Recommendations 6**: center your search on houses with the lowest sqft living. Older houses will be cheaper"
   ]
  },
  {
   "cell_type": "code",
   "execution_count": null,
   "metadata": {},
   "outputs": [],
   "source": []
  }
 ],
 "metadata": {
  "kernelspec": {
   "display_name": "Python 3",
   "language": "python",
   "name": "python3"
  },
  "language_info": {
   "codemirror_mode": {
    "name": "ipython",
    "version": 3
   },
   "file_extension": ".py",
   "mimetype": "text/x-python",
   "name": "python",
   "nbconvert_exporter": "python",
   "pygments_lexer": "ipython3",
   "version": "3.8.5"
  }
 },
 "nbformat": 4,
 "nbformat_minor": 2
}
